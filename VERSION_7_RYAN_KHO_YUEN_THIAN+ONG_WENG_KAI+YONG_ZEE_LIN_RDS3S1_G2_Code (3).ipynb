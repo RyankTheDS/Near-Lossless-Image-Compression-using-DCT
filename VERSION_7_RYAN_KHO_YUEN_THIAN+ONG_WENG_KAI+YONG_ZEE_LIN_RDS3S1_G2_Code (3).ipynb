{
  "cells": [
    {
      "cell_type": "markdown",
      "metadata": {
        "id": "-LKIsZS1JSMb"
      },
      "source": [
        "#**Title: Near Lossless Image Compression using DCT**"
      ]
    },
    {
      "cell_type": "markdown",
      "metadata": {
        "id": "zvTLFv4SyTZq"
      },
      "source": [
        "Prepared by:\n",
        "*   Ryan Kho Yuen Thian\n",
        "*   Ong Weng Kai\n",
        "*   Yong Zee Lin\n",
        "\n",
        "\n",
        "\n"
      ]
    },
    {
      "cell_type": "markdown",
      "metadata": {
        "id": "a6e-_QRiykN_"
      },
      "source": [
        "<hr/>"
      ]
    },
    {
      "cell_type": "markdown",
      "source": [
        "###**For converting input image into .bmp later on**"
      ],
      "metadata": {
        "id": "FptatAR9VZFI"
      }
    },
    {
      "cell_type": "code",
      "source": [
        "!wget https://raw.githubusercontent.com/nothings/stb/master/stb_image.h\n",
        "!wget https://raw.githubusercontent.com/nothings/stb/master/stb_image_write.h"
      ],
      "metadata": {
        "colab": {
          "base_uri": "https://localhost:8080/"
        },
        "id": "0aspVl9qVTi5",
        "outputId": "1a0c4e86-7070-43b7-d269-dadab85bc031"
      },
      "execution_count": 1,
      "outputs": [
        {
          "output_type": "stream",
          "name": "stdout",
          "text": [
            "--2024-10-02 16:30:54--  https://raw.githubusercontent.com/nothings/stb/master/stb_image.h\n",
            "Resolving raw.githubusercontent.com (raw.githubusercontent.com)... 185.199.109.133, 185.199.108.133, 185.199.111.133, ...\n",
            "Connecting to raw.githubusercontent.com (raw.githubusercontent.com)|185.199.109.133|:443... connected.\n",
            "HTTP request sent, awaiting response... 200 OK\n",
            "Length: 283010 (276K) [text/plain]\n",
            "Saving to: ‘stb_image.h’\n",
            "\n",
            "stb_image.h         100%[===================>] 276.38K  --.-KB/s    in 0.02s   \n",
            "\n",
            "2024-10-02 16:30:54 (15.7 MB/s) - ‘stb_image.h’ saved [283010/283010]\n",
            "\n",
            "--2024-10-02 16:30:54--  https://raw.githubusercontent.com/nothings/stb/master/stb_image_write.h\n",
            "Resolving raw.githubusercontent.com (raw.githubusercontent.com)... 185.199.111.133, 185.199.109.133, 185.199.108.133, ...\n",
            "Connecting to raw.githubusercontent.com (raw.githubusercontent.com)|185.199.111.133|:443... connected.\n",
            "HTTP request sent, awaiting response... 200 OK\n",
            "Length: 71221 (70K) [text/plain]\n",
            "Saving to: ‘stb_image_write.h’\n",
            "\n",
            "stb_image_write.h   100%[===================>]  69.55K  --.-KB/s    in 0.007s  \n",
            "\n",
            "2024-10-02 16:30:55 (9.15 MB/s) - ‘stb_image_write.h’ saved [71221/71221]\n",
            "\n"
          ]
        }
      ]
    },
    {
      "cell_type": "code",
      "source": [
        "%%writefile png_to_bmp.cpp\n",
        "#define STB_IMAGE_IMPLEMENTATION\n",
        "#define STB_IMAGE_WRITE_IMPLEMENTATION\n",
        "\n",
        "#include \"stb_image.h\"\n",
        "#include \"stb_image_write.h\"\n",
        "#include <iostream>\n",
        "\n",
        "int main(int argc, char* argv[]) {\n",
        "    if (argc < 2) {\n",
        "        std::cerr << \"Error: Please provide the input filename.\\n\";\n",
        "        return -1;\n",
        "    }\n",
        "\n",
        "    const char* input_filename = argv[1];\n",
        "\n",
        "    int width, height, original_channels;\n",
        "\n",
        "    // Load the PNG image and force it to 3 channels (RGB)\n",
        "    unsigned char* img = stbi_load(input_filename, &width, &height, &original_channels, 3);\n",
        "    if (img == NULL) {\n",
        "        std::cerr << \"Error: Unable to load image \" << input_filename << \"!\\n\";\n",
        "        return -1;\n",
        "    }\n",
        "\n",
        "    std::cout << \"Image loaded: \" << width << \"x\" << height << \", \" << original_channels << \" original channels.\\n\";\n",
        "    std::cout << \"Image is now converted to 3 channels (RGB).\\n\";\n",
        "\n",
        "    // Convert to BMP and save it\n",
        "    if (stbi_write_bmp(\"testimg.bmp\", width, height, 3, img)) {\n",
        "        std::cout << \"Successfully saved BMP as testimg.bmp\\n\";\n",
        "    } else {\n",
        "        std::cerr << \"Error: Unable to save BMP file.\\n\";\n",
        "    }\n",
        "\n",
        "    // Free the image memory\n",
        "    stbi_image_free(img);\n",
        "    return 0;\n",
        "}"
      ],
      "metadata": {
        "colab": {
          "base_uri": "https://localhost:8080/"
        },
        "id": "Ded8JYtxVT44",
        "outputId": "5ca631ab-54d8-4775-81fe-33372313f653"
      },
      "execution_count": 2,
      "outputs": [
        {
          "output_type": "stream",
          "name": "stdout",
          "text": [
            "Writing png_to_bmp.cpp\n"
          ]
        }
      ]
    },
    {
      "cell_type": "code",
      "source": [
        "# Compile the C++ code\n",
        "!g++ png_to_bmp.cpp -o png_to_bmp"
      ],
      "metadata": {
        "id": "dDMaGqnNXjbU"
      },
      "execution_count": 3,
      "outputs": []
    },
    {
      "cell_type": "markdown",
      "metadata": {
        "id": "VeQaf-NIrLrs"
      },
      "source": [
        "## **1. Serial Code**"
      ]
    },
    {
      "cell_type": "markdown",
      "metadata": {
        "id": "s3ZKu9M1Pt2l"
      },
      "source": [
        "###**a) Accept input via upload**"
      ]
    },
    {
      "cell_type": "code",
      "execution_count": null,
      "metadata": {
        "id": "NQAXhEdJrMEN",
        "colab": {
          "base_uri": "https://localhost:8080/",
          "height": 71
        },
        "outputId": "f3bc176e-fb84-40bf-fcf9-5ee11508679d"
      },
      "outputs": [
        {
          "output_type": "display_data",
          "data": {
            "text/plain": [
              "<IPython.core.display.HTML object>"
            ],
            "text/html": [
              "\n",
              "     <input type=\"file\" id=\"files-003fdb20-abce-44df-9e71-99e00a8b594f\" name=\"files[]\" multiple disabled\n",
              "        style=\"border:none\" />\n",
              "     <output id=\"result-003fdb20-abce-44df-9e71-99e00a8b594f\">\n",
              "      Upload widget is only available when the cell has been executed in the\n",
              "      current browser session. Please rerun this cell to enable.\n",
              "      </output>\n",
              "      <script>// Copyright 2017 Google LLC\n",
              "//\n",
              "// Licensed under the Apache License, Version 2.0 (the \"License\");\n",
              "// you may not use this file except in compliance with the License.\n",
              "// You may obtain a copy of the License at\n",
              "//\n",
              "//      http://www.apache.org/licenses/LICENSE-2.0\n",
              "//\n",
              "// Unless required by applicable law or agreed to in writing, software\n",
              "// distributed under the License is distributed on an \"AS IS\" BASIS,\n",
              "// WITHOUT WARRANTIES OR CONDITIONS OF ANY KIND, either express or implied.\n",
              "// See the License for the specific language governing permissions and\n",
              "// limitations under the License.\n",
              "\n",
              "/**\n",
              " * @fileoverview Helpers for google.colab Python module.\n",
              " */\n",
              "(function(scope) {\n",
              "function span(text, styleAttributes = {}) {\n",
              "  const element = document.createElement('span');\n",
              "  element.textContent = text;\n",
              "  for (const key of Object.keys(styleAttributes)) {\n",
              "    element.style[key] = styleAttributes[key];\n",
              "  }\n",
              "  return element;\n",
              "}\n",
              "\n",
              "// Max number of bytes which will be uploaded at a time.\n",
              "const MAX_PAYLOAD_SIZE = 100 * 1024;\n",
              "\n",
              "function _uploadFiles(inputId, outputId) {\n",
              "  const steps = uploadFilesStep(inputId, outputId);\n",
              "  const outputElement = document.getElementById(outputId);\n",
              "  // Cache steps on the outputElement to make it available for the next call\n",
              "  // to uploadFilesContinue from Python.\n",
              "  outputElement.steps = steps;\n",
              "\n",
              "  return _uploadFilesContinue(outputId);\n",
              "}\n",
              "\n",
              "// This is roughly an async generator (not supported in the browser yet),\n",
              "// where there are multiple asynchronous steps and the Python side is going\n",
              "// to poll for completion of each step.\n",
              "// This uses a Promise to block the python side on completion of each step,\n",
              "// then passes the result of the previous step as the input to the next step.\n",
              "function _uploadFilesContinue(outputId) {\n",
              "  const outputElement = document.getElementById(outputId);\n",
              "  const steps = outputElement.steps;\n",
              "\n",
              "  const next = steps.next(outputElement.lastPromiseValue);\n",
              "  return Promise.resolve(next.value.promise).then((value) => {\n",
              "    // Cache the last promise value to make it available to the next\n",
              "    // step of the generator.\n",
              "    outputElement.lastPromiseValue = value;\n",
              "    return next.value.response;\n",
              "  });\n",
              "}\n",
              "\n",
              "/**\n",
              " * Generator function which is called between each async step of the upload\n",
              " * process.\n",
              " * @param {string} inputId Element ID of the input file picker element.\n",
              " * @param {string} outputId Element ID of the output display.\n",
              " * @return {!Iterable<!Object>} Iterable of next steps.\n",
              " */\n",
              "function* uploadFilesStep(inputId, outputId) {\n",
              "  const inputElement = document.getElementById(inputId);\n",
              "  inputElement.disabled = false;\n",
              "\n",
              "  const outputElement = document.getElementById(outputId);\n",
              "  outputElement.innerHTML = '';\n",
              "\n",
              "  const pickedPromise = new Promise((resolve) => {\n",
              "    inputElement.addEventListener('change', (e) => {\n",
              "      resolve(e.target.files);\n",
              "    });\n",
              "  });\n",
              "\n",
              "  const cancel = document.createElement('button');\n",
              "  inputElement.parentElement.appendChild(cancel);\n",
              "  cancel.textContent = 'Cancel upload';\n",
              "  const cancelPromise = new Promise((resolve) => {\n",
              "    cancel.onclick = () => {\n",
              "      resolve(null);\n",
              "    };\n",
              "  });\n",
              "\n",
              "  // Wait for the user to pick the files.\n",
              "  const files = yield {\n",
              "    promise: Promise.race([pickedPromise, cancelPromise]),\n",
              "    response: {\n",
              "      action: 'starting',\n",
              "    }\n",
              "  };\n",
              "\n",
              "  cancel.remove();\n",
              "\n",
              "  // Disable the input element since further picks are not allowed.\n",
              "  inputElement.disabled = true;\n",
              "\n",
              "  if (!files) {\n",
              "    return {\n",
              "      response: {\n",
              "        action: 'complete',\n",
              "      }\n",
              "    };\n",
              "  }\n",
              "\n",
              "  for (const file of files) {\n",
              "    const li = document.createElement('li');\n",
              "    li.append(span(file.name, {fontWeight: 'bold'}));\n",
              "    li.append(span(\n",
              "        `(${file.type || 'n/a'}) - ${file.size} bytes, ` +\n",
              "        `last modified: ${\n",
              "            file.lastModifiedDate ? file.lastModifiedDate.toLocaleDateString() :\n",
              "                                    'n/a'} - `));\n",
              "    const percent = span('0% done');\n",
              "    li.appendChild(percent);\n",
              "\n",
              "    outputElement.appendChild(li);\n",
              "\n",
              "    const fileDataPromise = new Promise((resolve) => {\n",
              "      const reader = new FileReader();\n",
              "      reader.onload = (e) => {\n",
              "        resolve(e.target.result);\n",
              "      };\n",
              "      reader.readAsArrayBuffer(file);\n",
              "    });\n",
              "    // Wait for the data to be ready.\n",
              "    let fileData = yield {\n",
              "      promise: fileDataPromise,\n",
              "      response: {\n",
              "        action: 'continue',\n",
              "      }\n",
              "    };\n",
              "\n",
              "    // Use a chunked sending to avoid message size limits. See b/62115660.\n",
              "    let position = 0;\n",
              "    do {\n",
              "      const length = Math.min(fileData.byteLength - position, MAX_PAYLOAD_SIZE);\n",
              "      const chunk = new Uint8Array(fileData, position, length);\n",
              "      position += length;\n",
              "\n",
              "      const base64 = btoa(String.fromCharCode.apply(null, chunk));\n",
              "      yield {\n",
              "        response: {\n",
              "          action: 'append',\n",
              "          file: file.name,\n",
              "          data: base64,\n",
              "        },\n",
              "      };\n",
              "\n",
              "      let percentDone = fileData.byteLength === 0 ?\n",
              "          100 :\n",
              "          Math.round((position / fileData.byteLength) * 100);\n",
              "      percent.textContent = `${percentDone}% done`;\n",
              "\n",
              "    } while (position < fileData.byteLength);\n",
              "  }\n",
              "\n",
              "  // All done.\n",
              "  yield {\n",
              "    response: {\n",
              "      action: 'complete',\n",
              "    }\n",
              "  };\n",
              "}\n",
              "\n",
              "scope.google = scope.google || {};\n",
              "scope.google.colab = scope.google.colab || {};\n",
              "scope.google.colab._files = {\n",
              "  _uploadFiles,\n",
              "  _uploadFilesContinue,\n",
              "};\n",
              "})(self);\n",
              "</script> "
            ]
          },
          "metadata": {}
        },
        {
          "output_type": "stream",
          "name": "stdout",
          "text": [
            "Saving testimg.png to testimg.png\n"
          ]
        }
      ],
      "source": [
        "from google.colab import files\n",
        "\n",
        "# Upload the image\n",
        "uploaded = files.upload()\n",
        "input_image = list(uploaded.keys())[0]"
      ]
    },
    {
      "cell_type": "markdown",
      "metadata": {
        "id": "j4QQvth6Py8i"
      },
      "source": [
        "###**b) Accept input via command line**"
      ]
    },
    {
      "cell_type": "code",
      "source": [
        "# To get the cat image from Github\n",
        "!wget https://raw.githubusercontent.com/RyankTheDS/Near-Lossless-Image-Compression-using-DCT/refs/heads/main/images/testimg.png"
      ],
      "metadata": {
        "colab": {
          "base_uri": "https://localhost:8080/"
        },
        "id": "dBJuK3PPzN-5",
        "outputId": "3a4b2a82-203f-48ac-8e08-34f4bd52df17"
      },
      "execution_count": 4,
      "outputs": [
        {
          "output_type": "stream",
          "name": "stdout",
          "text": [
            "--2024-10-02 15:34:10--  https://raw.githubusercontent.com/RyankTheDS/Near-Lossless-Image-Compression-using-DCT/refs/heads/main/images/testimg.png\n",
            "Resolving raw.githubusercontent.com (raw.githubusercontent.com)... 185.199.108.133, 185.199.110.133, 185.199.109.133, ...\n",
            "Connecting to raw.githubusercontent.com (raw.githubusercontent.com)|185.199.108.133|:443... connected.\n",
            "HTTP request sent, awaiting response... 200 OK\n",
            "Length: 790297 (772K) [image/png]\n",
            "Saving to: ‘testimg.png’\n",
            "\n",
            "testimg.png         100%[===================>] 771.77K  --.-KB/s    in 0.009s  \n",
            "\n",
            "2024-10-02 15:34:10 (87.1 MB/s) - ‘testimg.png’ saved [790297/790297]\n",
            "\n"
          ]
        }
      ]
    },
    {
      "cell_type": "code",
      "source": [
        "# To get the dark image from Github\n",
        "!wget -O testimg.png https://raw.githubusercontent.com/RyankTheDS/Near-Lossless-Image-Compression-using-DCT/refs/heads/main/images/dark.png"
      ],
      "metadata": {
        "colab": {
          "base_uri": "https://localhost:8080/"
        },
        "id": "txsLBkYIzOPD",
        "outputId": "0a0534cf-008c-4369-f725-a69a5cff8c5e"
      },
      "execution_count": 4,
      "outputs": [
        {
          "output_type": "stream",
          "name": "stdout",
          "text": [
            "--2024-10-02 15:56:55--  https://raw.githubusercontent.com/RyankTheDS/Near-Lossless-Image-Compression-using-DCT/refs/heads/main/images/dark.png\n",
            "Resolving raw.githubusercontent.com (raw.githubusercontent.com)... 185.199.109.133, 185.199.108.133, 185.199.111.133, ...\n",
            "Connecting to raw.githubusercontent.com (raw.githubusercontent.com)|185.199.109.133|:443... connected.\n",
            "HTTP request sent, awaiting response... 200 OK\n",
            "Length: 820175 (801K) [image/png]\n",
            "Saving to: ‘testimg.png’\n",
            "\n",
            "testimg.png         100%[===================>] 800.95K  --.-KB/s    in 0.008s  \n",
            "\n",
            "2024-10-02 15:56:56 (100 MB/s) - ‘testimg.png’ saved [820175/820175]\n",
            "\n"
          ]
        }
      ]
    },
    {
      "cell_type": "code",
      "execution_count": 1,
      "metadata": {
        "colab": {
          "base_uri": "https://localhost:8080/"
        },
        "id": "IULrsj9WPzQL",
        "outputId": "e36ff7f0-c1de-4328-f5ad-04316572e87d"
      },
      "outputs": [
        {
          "output_type": "stream",
          "name": "stdout",
          "text": [
            "--2024-10-02 15:22:44--  https://svs.gsfc.nasa.gov/vis/a030000/a030000/a030028/frames/6750x3375_2x1_30p/split-750m/dnb_land_ocean_ice.2012.13500x13500.A1-0000.png\n",
            "Resolving svs.gsfc.nasa.gov (svs.gsfc.nasa.gov)... 169.154.143.10, 2001:4d0:2418:143::10\n",
            "Connecting to svs.gsfc.nasa.gov (svs.gsfc.nasa.gov)|169.154.143.10|:443... connected.\n",
            "HTTP request sent, awaiting response... 200 OK\n",
            "Length: 3098913 (3.0M) [image/png]\n",
            "Saving to: ‘testimg.png’\n",
            "\n",
            "testimg.png         100%[===================>]   2.96M  13.3MB/s    in 0.2s    \n",
            "\n",
            "2024-10-02 15:22:45 (13.3 MB/s) - ‘testimg.png’ saved [3098913/3098913]\n",
            "\n"
          ]
        }
      ],
      "source": [
        "# To get the NASA image from NASA directly (Way 1)\n",
        "!wget -O testimg.png https://svs.gsfc.nasa.gov/vis/a030000/a030000/a030028/frames/6750x3375_2x1_30p/split-750m/dnb_land_ocean_ice.2012.13500x13500.A1-0000.png"
      ]
    },
    {
      "cell_type": "code",
      "source": [
        "# To get the NASA image from Github (Way 2)\n",
        "!wget -O testimg.png https://raw.githubusercontent.com/RyankTheDS/Near-Lossless-Image-Compression-using-DCT/refs/heads/main/images/dnb_land_ocean_ice.2012.13500x13500.A1-0000.png"
      ],
      "metadata": {
        "colab": {
          "base_uri": "https://localhost:8080/"
        },
        "id": "ON9yuVLh0N1q",
        "outputId": "cdd898dd-30fa-4383-b5b3-682ff9165091"
      },
      "execution_count": 4,
      "outputs": [
        {
          "output_type": "stream",
          "name": "stdout",
          "text": [
            "--2024-10-02 16:31:12--  https://raw.githubusercontent.com/RyankTheDS/Near-Lossless-Image-Compression-using-DCT/refs/heads/main/images/dnb_land_ocean_ice.2012.13500x13500.A1-0000.png\n",
            "Resolving raw.githubusercontent.com (raw.githubusercontent.com)... 185.199.109.133, 185.199.108.133, 185.199.110.133, ...\n",
            "Connecting to raw.githubusercontent.com (raw.githubusercontent.com)|185.199.109.133|:443... connected.\n",
            "HTTP request sent, awaiting response... 200 OK\n",
            "Length: 3098913 (3.0M) [image/png]\n",
            "Saving to: ‘testimg.png’\n",
            "\n",
            "testimg.png         100%[===================>]   2.96M  --.-KB/s    in 0.03s   \n",
            "\n",
            "2024-10-02 16:31:13 (99.2 MB/s) - ‘testimg.png’ saved [3098913/3098913]\n",
            "\n"
          ]
        }
      ]
    },
    {
      "cell_type": "markdown",
      "metadata": {
        "id": "ZcRYg-o-QsAc"
      },
      "source": [
        "###**c) For Comparing Images in terms of MSE and SSIM (verification code)**"
      ]
    },
    {
      "cell_type": "code",
      "execution_count": 5,
      "metadata": {
        "colab": {
          "base_uri": "https://localhost:8080/"
        },
        "id": "lqbmZOv6Pi7j",
        "outputId": "7d1e68f3-10cb-4947-d5a7-6b3963c1e454"
      },
      "outputs": [
        {
          "output_type": "stream",
          "name": "stdout",
          "text": [
            "Writing compare_images.cpp\n"
          ]
        }
      ],
      "source": [
        "%%writefile compare_images.cpp\n",
        "#include <opencv2/opencv.hpp>\n",
        "#include <opencv2/core.hpp>\n",
        "#include <opencv2/imgproc.hpp>\n",
        "#include <opencv2/highgui.hpp>\n",
        "#include <opencv2/imgcodecs.hpp>\n",
        "#include <iostream>\n",
        "#include <cmath>\n",
        "\n",
        "using namespace cv;\n",
        "using namespace std;\n",
        "\n",
        "// Function to compute Mean Squared Error (MSE)\n",
        "double computeMSE(const Mat& img1, const Mat& img2) {\n",
        "    Mat s1;\n",
        "    absdiff(img1, img2, s1);  // absolute difference\n",
        "    s1.convertTo(s1, CV_32F);  // convert to float\n",
        "\n",
        "    s1 = s1.mul(s1);  // square\n",
        "\n",
        "    Scalar s = sum(s1);  // sum all pixels\n",
        "\n",
        "    double mse = (s[0] + s[1] + s[2]) / (double)(img1.channels() * img1.total());\n",
        "    return mse;\n",
        "}\n",
        "\n",
        "// Function to compute SSIM\n",
        "Scalar computeSSIM(const Mat& img1, const Mat& img2) {\n",
        "    const double C1 = 6.5025, C2 = 58.5225;\n",
        "    Mat I1, I2;\n",
        "    img1.convertTo(I1, CV_32F);  // convert to float\n",
        "    img2.convertTo(I2, CV_32F);\n",
        "\n",
        "    Mat I1_2 = I1.mul(I1);  // I1^2\n",
        "    Mat I2_2 = I2.mul(I2);  // I2^2\n",
        "    Mat I1_I2 = I1.mul(I2);  // I1 * I2\n",
        "\n",
        "    Mat mu1, mu2;\n",
        "    GaussianBlur(I1, mu1, Size(11, 11), 1.5);\n",
        "    GaussianBlur(I2, mu2, Size(11, 11), 1.5);\n",
        "\n",
        "    Mat mu1_2 = mu1.mul(mu1);\n",
        "    Mat mu2_2 = mu2.mul(mu2);\n",
        "    Mat mu1_mu2 = mu1.mul(mu2);\n",
        "\n",
        "    Mat sigma1_2, sigma2_2, sigma12;\n",
        "    GaussianBlur(I1_2, sigma1_2, Size(11, 11), 1.5);\n",
        "    GaussianBlur(I2_2, sigma2_2, Size(11, 11), 1.5);\n",
        "    GaussianBlur(I1_I2, sigma12, Size(11, 11), 1.5);\n",
        "\n",
        "    sigma1_2 -= mu1_2;\n",
        "    sigma2_2 -= mu2_2;\n",
        "    sigma12 -= mu1_mu2;\n",
        "\n",
        "    Mat t1, t2, t3;\n",
        "    t1 = 2 * mu1_mu2 + C1;\n",
        "    t2 = 2 * sigma12 + C2;\n",
        "    t3 = t1.mul(t2);  // t3 = (2*mu1_mu2 + C1).*(2*sigma12 + C2)\n",
        "\n",
        "    t1 = mu1_2 + mu2_2 + C1;\n",
        "    t2 = sigma1_2 + sigma2_2 + C2;\n",
        "    t1 = t1.mul(t2);  // t1 = (mu1_2 + mu2_2 + C1).*(sigma1_2 + sigma2_2 + C2)\n",
        "\n",
        "    Mat ssim_map;\n",
        "    divide(t3, t1, ssim_map);  // ssim_map = t3 ./ t1\n",
        "    Scalar mssim = mean(ssim_map);  // mssim = average of ssim map\n",
        "    return mssim;\n",
        "}\n",
        "\n",
        "int main(int argc, char** argv) {\n",
        "    if (argc != 3) {\n",
        "        cout << \"Usage: ./compare_images <image1> <image2>\" << endl;\n",
        "        return -1;\n",
        "    }\n",
        "\n",
        "    Mat img1 = imread(argv[1], IMREAD_COLOR);\n",
        "    Mat img2 = imread(argv[2], IMREAD_COLOR);\n",
        "\n",
        "    if (img1.empty() || img2.empty()) {\n",
        "        cout << \"Could not open or find the images.\" << endl;\n",
        "        return -1;\n",
        "    }\n",
        "\n",
        "    // Compute MSE\n",
        "    double mse = computeMSE(img1, img2);\n",
        "    cout << \"MSE: \" << mse << endl;\n",
        "\n",
        "    // Compute SSIM\n",
        "    Scalar ssim = computeSSIM(img1, img2);\n",
        "    cout << \"SSIM: \" << ssim[0] << endl;\n",
        "\n",
        "    return 0;\n",
        "}"
      ]
    },
    {
      "cell_type": "code",
      "execution_count": 6,
      "metadata": {
        "id": "HIFbUMFkQo4T"
      },
      "outputs": [],
      "source": [
        "!g++ compare_images.cpp -o compare_images `pkg-config --cflags --libs opencv4`"
      ]
    },
    {
      "cell_type": "markdown",
      "metadata": {
        "id": "dCNyVdg2R0Rt"
      },
      "source": [
        "###**d) Compression and Decompression Code**"
      ]
    },
    {
      "cell_type": "code",
      "execution_count": 7,
      "metadata": {
        "colab": {
          "base_uri": "https://localhost:8080/"
        },
        "id": "zVMawq_ArMTo",
        "outputId": "c106fa97-148a-4eff-ee03-fdb5edb90fbb"
      },
      "outputs": [
        {
          "output_type": "stream",
          "name": "stdout",
          "text": [
            "Writing compress_image.cpp\n"
          ]
        }
      ],
      "source": [
        "%%writefile compress_image.cpp\n",
        "#include <opencv2/opencv.hpp>\n",
        "#include <opencv2/imgcodecs.hpp>\n",
        "#include <opencv2/highgui.hpp>\n",
        "#include <iostream>\n",
        "#include <vector>\n",
        "#include <fstream>\n",
        "#include <chrono>\n",
        "#include <cmath>\n",
        "#include <map>\n",
        "#include <cstdlib>\n",
        "#include <filesystem>\n",
        "#define M_PI 3.14159265358979323846\n",
        "\n",
        "using namespace cv;\n",
        "using namespace std;\n",
        "using namespace std::chrono;\n",
        "\n",
        "// Function to perform 2D DCT\n",
        "void dct2(const Mat& src, Mat& dst) {\n",
        "    int M = src.rows;\n",
        "    int N = src.cols;\n",
        "    dst.create(M, N, CV_64F);\n",
        "\n",
        "    for (int u = 0; u < M; ++u) {\n",
        "        for (int v = 0; v < N; ++v) {\n",
        "            double sum = 0.0;\n",
        "            for (int x = 0; x < M; ++x) {\n",
        "                for (int y = 0; y < N; ++y) {\n",
        "                    double cosX = cos(M_PI / M * (x + 0.5) * u);\n",
        "                    double cosY = cos(M_PI / N * (y + 0.5) * v);\n",
        "                    sum += src.at<double>(x, y) * cosX * cosY;\n",
        "                }\n",
        "            }\n",
        "            double C_u = (u == 0) ? sqrt(1.0 / M) : sqrt(2.0 / M);\n",
        "            double C_v = (v == 0) ? sqrt(1.0 / N) : sqrt(2.0 / N);\n",
        "            dst.at<double>(u, v) = round(C_u * C_v * sum * 10) / 10.0; // Truncate to 1 decimal place\n",
        "        }\n",
        "    }\n",
        "}\n",
        "\n",
        "// Function to perform 2D IDCT\n",
        "void idct2(const Mat& src, Mat& dst) {\n",
        "    int M = src.rows;\n",
        "    int N = src.cols;\n",
        "    dst.create(M, N, CV_64F);\n",
        "\n",
        "    for (int x = 0; x < M; ++x) {\n",
        "        for (int y = 0; y < N; ++y) {\n",
        "            double sum = 0.0;\n",
        "            for (int u = 0; u < M; ++u) {\n",
        "                for (int v = 0; v < N; ++v) {\n",
        "                    double C_u = (u == 0) ? sqrt(1.0 / M) : sqrt(2.0 / M);\n",
        "                    double C_v = (v == 0) ? sqrt(1.0 / N) : sqrt(2.0 / N);\n",
        "                    double cosX = cos(M_PI / M * (x + 0.5) * u);\n",
        "                    double cosY = cos(M_PI / N * (y + 0.5) * v);\n",
        "                    sum += C_u * C_v * src.at<double>(u, v) * cosX * cosY;\n",
        "                }\n",
        "            }\n",
        "            dst.at<double>(x, y) = sum;\n",
        "        }\n",
        "    }\n",
        "}\n",
        "\n",
        "// Zig-Zag scan function\n",
        "vector<double> zigzagScan(const Mat& block) {\n",
        "    int n = block.rows;\n",
        "    vector<double> result;\n",
        "    result.reserve(n * n);\n",
        "    for (int i = 0; i < 2 * n - 1; ++i) {\n",
        "        if (i % 2 == 0) {\n",
        "            for (int j = 0; j <= i; ++j) {\n",
        "                if (j < n && (i - j) < n) {\n",
        "                    result.push_back(block.at<double>(j, i - j));\n",
        "                }\n",
        "            }\n",
        "        } else {\n",
        "            for (int j = 0; j <= i; ++j) {\n",
        "                if (j < n && (i - j) < n) {\n",
        "                    result.push_back(block.at<double>(i - j, j));\n",
        "                }\n",
        "            }\n",
        "        }\n",
        "    }\n",
        "    return result;\n",
        "}\n",
        "\n",
        "// RLE encoding function\n",
        "vector<pair<double, int>> rleEncode(const vector<double>& data) {\n",
        "    vector<pair<double, int>> encodedData;\n",
        "    int count = 1;\n",
        "    double current = data[0];\n",
        "    for (size_t i = 1; i < data.size(); ++i) {\n",
        "        if (data[i] == current) {\n",
        "            count++;\n",
        "        } else {\n",
        "            encodedData.push_back({current, count});\n",
        "            current = data[i];\n",
        "            count = 1;\n",
        "        }\n",
        "    }\n",
        "    encodedData.push_back({current, count});\n",
        "    return encodedData;\n",
        "}\n",
        "\n",
        "// RLE decoding function\n",
        "vector<double> rleDecode(const vector<pair<double, int>>& encodedData) {\n",
        "    vector<double> decodedData;\n",
        "    for (const auto& elem : encodedData) {\n",
        "        decodedData.insert(decodedData.end(), elem.second, elem.first);\n",
        "    }\n",
        "    return decodedData;\n",
        "}\n",
        "\n",
        "\n",
        "void compressImage(const Mat& src, const string& filename) {\n",
        "    // Clone the input image for processing\n",
        "    Mat dst = src.clone();\n",
        "\n",
        "    // Open the .bin file for writing\n",
        "    ofstream rleFile(filename, ios::out | ios::binary);\n",
        "    if (!rleFile.is_open()) {\n",
        "        cerr << \"Error opening file for writing: \" << filename << endl;\n",
        "        return;\n",
        "    }\n",
        "\n",
        "    // Iterate through the image in 8x8 blocks\n",
        "    for (int y = 0; y < src.rows; y += 8) {\n",
        "        for (int x = 0; x < src.cols; x += 8) {\n",
        "            int blockWidth = min(8, src.cols - x);\n",
        "            int blockHeight = min(8, src.rows - y);\n",
        "\n",
        "            Mat block = src(Rect(x, y, blockWidth, blockHeight));\n",
        "            Mat dctBlock;\n",
        "            dct2(block, dctBlock);\n",
        "\n",
        "            // Perform Zig-Zag scanning and RLE encoding\n",
        "            vector<double> zigzagged = zigzagScan(dctBlock);\n",
        "            vector<pair<double, int>> rleEncoded = rleEncode(zigzagged);\n",
        "\n",
        "            // Write the RLE-encoded data to the .bin file\n",
        "            for (const auto& pair : rleEncoded) {\n",
        "                // Convert the DCT coefficient to int16_t to save space\n",
        "                int16_t quantizedValue = static_cast<int16_t>(round(pair.first));\n",
        "                // Store the count as uint8_t (assuming counts fit in this range)\n",
        "                uint8_t quantizedCount = static_cast<uint8_t>(min(pair.second, 255));  // Limit count to 255\n",
        "\n",
        "                // Write the quantized value and count to the file\n",
        "                rleFile.write(reinterpret_cast<const char*>(&quantizedValue), sizeof(quantizedValue));\n",
        "                rleFile.write(reinterpret_cast<const char*>(&quantizedCount), sizeof(quantizedCount));\n",
        "            }\n",
        "        }\n",
        "    }\n",
        "\n",
        "    // Close the .bin file after writing\n",
        "    rleFile.close();\n",
        "    cout << \"Compression complete. Data saved \" << endl;\n",
        "}\n",
        "\n",
        "void decompressImage(Mat& dst, const string& filename, int rows, int cols) {\n",
        "    // Open the .bin file for reading\n",
        "    ifstream rleFile(filename, ios::in | ios::binary);\n",
        "    if (!rleFile.is_open()) {\n",
        "        cerr << \"Error opening file for reading: \" << filename << endl;\n",
        "        return;\n",
        "    }\n",
        "\n",
        "    dst = Mat::zeros(rows, cols, CV_64F);  // Initialize the output image\n",
        "\n",
        "    // Iterate through the image in 8x8 blocks\n",
        "    for (int y = 0; y < rows; y += 8) {\n",
        "        for (int x = 0; x < cols; x += 8) {\n",
        "            int blockWidth = min(8, cols - x);\n",
        "            int blockHeight = min(8, rows - y);\n",
        "\n",
        "            // Read the RLE-encoded data from the .bin file for the current block\n",
        "            vector<pair<double, int>> rleEncoded;\n",
        "            int totalElements = blockWidth * blockHeight;\n",
        "            int countElements = 0;\n",
        "\n",
        "            while (countElements < totalElements && rleFile.good()) {\n",
        "                int16_t value;      // Read value as int16_t\n",
        "                uint8_t count;      // Read count as uint8_t\n",
        "\n",
        "                rleFile.read(reinterpret_cast<char*>(&value), sizeof(value));\n",
        "                rleFile.read(reinterpret_cast<char*>(&count), sizeof(count));\n",
        "\n",
        "                if (rleFile.gcount() == 0) break;  // Break at EOF\n",
        "\n",
        "                rleEncoded.push_back({static_cast<double>(value), static_cast<int>(count)});\n",
        "                countElements += count;  // Update the count of elements read\n",
        "            }\n",
        "\n",
        "            // Decode RLE and reverse Zig-Zag for reconstruction\n",
        "            vector<double> decodedZigzag = rleDecode(rleEncoded);\n",
        "            Mat reconstructedBlock = Mat::zeros(blockHeight, blockWidth, CV_64F);\n",
        "            int index = 0;\n",
        "\n",
        "            for (int i = 0; i < 2 * blockWidth - 1; ++i) {\n",
        "                if (i % 2 == 0) {\n",
        "                    for (int j = 0; j <= i; ++j) {\n",
        "                        if (j < blockWidth && (i - j) < blockHeight) {\n",
        "                            reconstructedBlock.at<double>(j, i - j) = decodedZigzag[index++];\n",
        "                        }\n",
        "                    }\n",
        "                } else {\n",
        "                    for (int j = 0; j <= i; ++j) {\n",
        "                        if (j < blockWidth && (i - j) < blockHeight) {\n",
        "                            reconstructedBlock.at<double>(i - j, j) = decodedZigzag[index++];\n",
        "                        }\n",
        "                    }\n",
        "                }\n",
        "            }\n",
        "\n",
        "            // Apply inverse DCT to the block and copy to the destination image\n",
        "            Mat idctBlock;\n",
        "            idct2(reconstructedBlock, idctBlock);\n",
        "            idctBlock.copyTo(dst(Rect(x, y, blockWidth, blockHeight)));\n",
        "        }\n",
        "    }\n",
        "\n",
        "    // Close the .bin file after reading\n",
        "    rleFile.close();\n",
        "\n",
        "    cout << \"Decompression complete. Image reconstructed.\" << endl;\n",
        "}\n",
        "\n",
        "\n",
        "void processImage(const Mat& src, Mat& dst, const string& filename) {\n",
        "    compressImage(src, filename);\n",
        "    decompressImage(dst, filename, src.rows, src.cols);\n",
        "}\n",
        "\n",
        "\n",
        "\n",
        "void splitImage(const cv::Mat& image, std::vector<cv::Mat>& channels) {\n",
        "    int rows = image.rows;\n",
        "    int cols = image.cols;\n",
        "    int numChannels = image.channels();\n",
        "\n",
        "    // Resize vector to hold all channels\n",
        "    channels.resize(numChannels);\n",
        "\n",
        "    // Initialize each channel as a single-channel matrix with the same dimensions as the input image\n",
        "    for (int ch = 0; ch < numChannels; ++ch) {\n",
        "        channels[ch] = cv::Mat(rows, cols, CV_8UC1);\n",
        "    }\n",
        "\n",
        "    // Iterate over the image and split the channels manually\n",
        "    for (int r = 0; r < rows; ++r) {\n",
        "        for (int c = 0; c < cols; ++c) {\n",
        "            // Get pixel value (multi-channel pixel)\n",
        "            cv::Vec3b pixel = image.at<cv::Vec3b>(r, c);\n",
        "            // Assign each channel its corresponding value\n",
        "            for (int ch = 0; ch < numChannels; ++ch) {\n",
        "                channels[ch].at<uchar>(r, c) = pixel[ch];\n",
        "            }\n",
        "        }\n",
        "    }\n",
        "}\n",
        "\n",
        "// Function to merge multiple single-channel images into a multi-channel image\n",
        "void mergeImage(cv::Mat* channels, int numChannels, cv::Mat& mergedImage) {\n",
        "    // Check if the number of channels matches the input\n",
        "    if (numChannels <= 0 || !channels) {\n",
        "        cerr << \"Invalid number of channels or null channels pointer\" << endl;\n",
        "        return;\n",
        "    }\n",
        "\n",
        "    // Get the size from the first channel\n",
        "    int rows = channels[0].rows;\n",
        "    int cols = channels[0].cols;\n",
        "\n",
        "    // Initialize the merged image with the same size as the input channels\n",
        "    mergedImage.create(rows, cols, CV_MAKETYPE(CV_8U, numChannels));  // Create image with the appropriate number of channels\n",
        "\n",
        "    // Iterate over each pixel and assign values to the merged image\n",
        "    for (int r = 0; r < rows; ++r) {\n",
        "        for (int c = 0; c < cols; ++c) {\n",
        "            Vec<uchar, 3> pixel;  // Change to Vec<uchar, numChannels> if numChannels > 3\n",
        "            for (int ch = 0; ch < numChannels; ++ch) {\n",
        "                pixel[ch] = channels[ch].at<uchar>(r, c);\n",
        "            }\n",
        "            mergedImage.at<Vec<uchar, 3>>(r, c) = pixel;  // Assign pixel value\n",
        "        }\n",
        "    }\n",
        "}\n",
        "\n",
        "\n",
        "int main(int argc, char** argv) {\n",
        "    if (argc < 2) {\n",
        "        cerr << \"Usage: \" << argv[0] << \" <input_image_filename>\" << endl;\n",
        "        return -1;\n",
        "    }\n",
        "\n",
        "    string inputFilename = argv[1];\n",
        "\n",
        "    auto start = high_resolution_clock::now();\n",
        "    // Read the image\n",
        "    Mat img = imread(inputFilename, IMREAD_COLOR);\n",
        "    if (img.empty()) {\n",
        "        cerr << \"Error loading image!\" << endl;\n",
        "        return -1;\n",
        "    }\n",
        "\n",
        "    // Pad image to the nearest multiple of 8\n",
        "    int paddedRows = (img.rows + 7) & ~7;\n",
        "    int paddedCols = (img.cols + 7) & ~7;\n",
        "    Mat paddedImg;\n",
        "    copyMakeBorder(img, paddedImg, 0, paddedRows - img.rows, 0, paddedCols - img.cols, BORDER_CONSTANT, Scalar::all(0));\n",
        "\n",
        "    // Split image into channels\n",
        "    vector<Mat> channels(3);\n",
        "    //split(paddedImg, channels);\n",
        "    splitImage(paddedImg, channels);\n",
        "\n",
        "    Mat processed[3];\n",
        "    for (int i = 0; i < 3; ++i) {\n",
        "        Mat imgChannel;\n",
        "        channels[i].convertTo(imgChannel, CV_64F);\n",
        "\n",
        "        // Create .rle file for each channel\n",
        "        string rleFilename = \"channel_\" + to_string(i) + \".bin\";\n",
        "        //processImage(imgChannel, processed[i]);\n",
        "        processImage(imgChannel, processed[i], rleFilename);\n",
        "        processed[i].convertTo(processed[i], CV_8U);\n",
        "    }\n",
        "\n",
        "    Mat decompressedImg;\n",
        "\n",
        "    mergeImage(processed, 3, decompressedImg);\n",
        "\n",
        "    // Crop the padded borders\n",
        "    decompressedImg = decompressedImg(Rect(0, 0, img.cols, img.rows));\n",
        "    imwrite(\"serial_output.bmp\", decompressedImg);\n",
        "\n",
        "    auto stop = high_resolution_clock::now();\n",
        "    auto duration = duration_cast<milliseconds>(stop - start);\n",
        "    // Print the size of the compressed image\n",
        "    std::ifstream file(\"serial_output.bmp\", std::ifstream::ate | std::ifstream::binary);\n",
        "    double size = static_cast<double>(file.tellg()) / 1024;\n",
        "    cout << \"Returned image size: \" << size << \" KB\" << endl;\n",
        "    cout << \"Time taken: \" << duration.count() << \" milliseconds\" << endl;\n",
        "\n",
        "    // Save the execution time to a CSV file in the /content/ directory\n",
        "    ofstream timeFile;\n",
        "    timeFile.open(\"/content/compression_times.csv\", ios::out);\n",
        "    if (timeFile.is_open()) {\n",
        "        timeFile << \"Serial,\" << duration.count() << \"\\n\";  // Label this method as \"Serial\"\n",
        "        timeFile.close();\n",
        "    } else {\n",
        "        cerr << \"Unable to open file for writing!\" << endl;\n",
        "    }\n",
        "\n",
        "    vector<string> filenames = {\"channel_0.bin\", \"channel_1.bin\", \"channel_2.bin\"};\n",
        "\n",
        "    for (const auto& filename : filenames) {\n",
        "        string xzFilename = filename + \".xz\";\n",
        "\n",
        "        // Check if the .xz file exists and remove it if it does\n",
        "        if (std::filesystem::exists(xzFilename)) {\n",
        "            // Remove the existing .xz file to replace it\n",
        "            string removeCommand = \"rm \" + xzFilename;\n",
        "            system(removeCommand.c_str());\n",
        "        }\n",
        "\n",
        "        // Compress the .bin file using system command to generate .xz file\n",
        "        string compressCommand = \"xz \" + filename;\n",
        "        int result = system(compressCommand.c_str());\n",
        "        if (result != 0) {\n",
        "            cerr << \"Error compressing file to .xz format.\" << endl;\n",
        "        }\n",
        "    }\n",
        "\n",
        "    // Remove the .bin files\n",
        "    for (const auto& filename : filenames) {\n",
        "        remove(filename.c_str());\n",
        "    }\n",
        "\n",
        "    return 0;\n",
        "}\n"
      ]
    },
    {
      "cell_type": "code",
      "execution_count": 8,
      "metadata": {
        "id": "-QjdKesBrMdy"
      },
      "outputs": [],
      "source": [
        "!g++ -o compress_image compress_image.cpp `pkg-config --cflags --libs opencv4`"
      ]
    },
    {
      "cell_type": "code",
      "execution_count": 9,
      "metadata": {
        "id": "67zZLOwerMnl",
        "colab": {
          "base_uri": "https://localhost:8080/"
        },
        "outputId": "e8aca2ce-6038-4da1-d756-894aa563f932"
      },
      "outputs": [
        {
          "output_type": "stream",
          "name": "stdout",
          "text": [
            "Image loaded: 6750x3375, 3 original channels.\n",
            "Image is now converted to 3 channels (RGB).\n",
            "Successfully saved BMP as testimg.bmp\n"
          ]
        }
      ],
      "source": [
        "# For converting input image to bmp\n",
        "# Run the compiled program\n",
        "!./png_to_bmp testimg.png\n",
        "#!./png_to_bmp dark.png"
      ]
    },
    {
      "cell_type": "markdown",
      "metadata": {
        "id": "aBOL2pF0SBNO"
      },
      "source": [
        "###**e) Time taken to encode and decode**"
      ]
    },
    {
      "cell_type": "code",
      "execution_count": 10,
      "metadata": {
        "colab": {
          "base_uri": "https://localhost:8080/"
        },
        "id": "P-wBb_anrMyP",
        "outputId": "97aabde0-476f-4cc4-d5c5-1ac99c5baf0b"
      },
      "outputs": [
        {
          "output_type": "stream",
          "name": "stdout",
          "text": [
            "Compression complete. Data saved \n",
            "Decompression complete. Image reconstructed.\n",
            "Compression complete. Data saved \n",
            "Decompression complete. Image reconstructed.\n",
            "Compression complete. Data saved \n",
            "Decompression complete. Image reconstructed.\n",
            "Returned image size: 66748.6 KB\n",
            "Time taken: 398787 milliseconds\n"
          ]
        }
      ],
      "source": [
        "# Run the C++ executable\n",
        "!./compress_image testimg.bmp"
      ]
    },
    {
      "cell_type": "markdown",
      "metadata": {
        "id": "7HO_duR-Spqf"
      },
      "source": [
        "###**f) Appearance of Images**"
      ]
    },
    {
      "cell_type": "code",
      "execution_count": 11,
      "metadata": {
        "colab": {
          "base_uri": "https://localhost:8080/",
          "height": 322
        },
        "id": "pJpl19vLrNAc",
        "outputId": "df0f0a96-5cb7-4343-d26d-9308d691bfce"
      },
      "outputs": [
        {
          "name": "stdout",
          "output_type": "stream",
          "text": [
            "Please enter the original image filename: testimg.bmp\n"
          ]
        },
        {
          "output_type": "display_data",
          "data": {
            "text/plain": [
              "<Figure size 1200x600 with 2 Axes>"
            ],
            "image/png": "[encoded data removed]"
          },
          "metadata": {}
        },
        {
          "output_type": "stream",
          "name": "stdout",
          "text": [
            "Original image size: 68350554 bytes\n",
            "Returned image size: 68350554 bytes\n"
          ]
        }
      ],
      "source": [
        "from PIL import Image\n",
        "import matplotlib.pyplot as plt\n",
        "import os\n",
        "\n",
        "# Display the original image\n",
        "original_image = input(\"Please enter the original image filename: \")\n",
        "original_img = Image.open(original_image)\n",
        "plt.figure(figsize=(12, 6))\n",
        "\n",
        "plt.subplot(1, 2, 1)\n",
        "plt.imshow(original_img)\n",
        "plt.title('Original Image')\n",
        "plt.axis('off')\n",
        "\n",
        "# Display the returned image\n",
        "decompressed_img = Image.open('serial_output.bmp')\n",
        "plt.subplot(1, 2, 2)\n",
        "plt.imshow(decompressed_img)\n",
        "plt.title('Returned Image')\n",
        "plt.axis('off')\n",
        "\n",
        "plt.show()\n",
        "\n",
        "# Print the size of the original and returned images\n",
        "original_file_size = os.path.getsize(original_image)\n",
        "decompressed_file_size = os.path.getsize('serial_output.bmp')\n",
        "print(f\"Original image size: {original_file_size} bytes\")\n",
        "print(f\"Returned image size: {decompressed_file_size} bytes\")"
      ]
    },
    {
      "cell_type": "markdown",
      "metadata": {
        "id": "tQJEvQulSucu"
      },
      "source": [
        "###**g) Compare similarity and sizes of Images**"
      ]
    },
    {
      "cell_type": "code",
      "source": [
        "!./compare_images testimg.bmp serial_output.bmp"
      ],
      "metadata": {
        "colab": {
          "base_uri": "https://localhost:8080/"
        },
        "id": "bP7ALNXctx4u",
        "outputId": "ab22fba0-fbf0-4cb9-ed49-d1e9fe909cbd"
      },
      "execution_count": 12,
      "outputs": [
        {
          "output_type": "stream",
          "name": "stdout",
          "text": [
            "MSE: 0.0155246\n",
            "[ WARN:0] global ./modules/core/src/matrix_expressions.cpp (1333) assign OpenCV/MatExpr: processing of multi-channel arrays might be changed in the future: https://github.com/opencv/opencv/issues/16739\n",
            "[ WARN:0] global ./modules/core/src/matrix_expressions.cpp (1325) assign OpenCV/MatExpr: processing of multi-channel arrays might be changed in the future: https://github.com/opencv/opencv/issues/16739\n",
            "SSIM: 0.999729\n"
          ]
        }
      ]
    },
    {
      "cell_type": "code",
      "source": [
        "%%writefile compare_file_sizes.cpp\n",
        "#include <iostream>\n",
        "#include <filesystem>\n",
        "#include <string>\n",
        "\n",
        "int main() {\n",
        "    std::string prefix = \"channel_\";\n",
        "    std::string dfile = \"testimg.bmp\";\n",
        "    long totalCompressedSize = 0;\n",
        "\n",
        "    // Iterate through the current directory to find relevant files\n",
        "    for (const auto& entry : std::filesystem::directory_iterator(\".\")) {\n",
        "        if (entry.is_regular_file()) {\n",
        "            std::string filename = entry.path().filename().string();\n",
        "            // Check if the filename starts with the prefix \"channel_\"\n",
        "            if (filename.rfind(prefix, 0) == 0) {  // Matches files like \"channel_x.bin.xz\"\n",
        "                totalCompressedSize += std::filesystem::file_size(entry.path());\n",
        "            }\n",
        "        }\n",
        "    }\n",
        "\n",
        "    // Get the size of the decompressed output file\n",
        "    long originalSize = std::filesystem::file_size(dfile);\n",
        "\n",
        "    // Output the sizes\n",
        "    std::cout << \"Size of compressed: \" << totalCompressedSize << \" bytes\\n\";\n",
        "    std::cout << \"Size of original: \" << originalSize << \" bytes\\n\";\n",
        "\n",
        "    // Calculate the compression ratio\n",
        "    double compressionRatio = static_cast<double>(originalSize) / totalCompressedSize;\n",
        "    std::cout << \"Compression Ratio: \" << compressionRatio << \":1\\n\";\n",
        "\n",
        "    return 0;\n",
        "}\n"
      ],
      "metadata": {
        "colab": {
          "base_uri": "https://localhost:8080/"
        },
        "id": "rrMUakSXrTwq",
        "outputId": "9fa31b0e-644f-40bd-9f0a-27509c5238c6"
      },
      "execution_count": 13,
      "outputs": [
        {
          "output_type": "stream",
          "name": "stdout",
          "text": [
            "Writing compare_file_sizes.cpp\n"
          ]
        }
      ]
    },
    {
      "cell_type": "code",
      "source": [
        "!g++ compare_file_sizes.cpp -o compare_file_sizes\n",
        "!./compare_file_sizes"
      ],
      "metadata": {
        "colab": {
          "base_uri": "https://localhost:8080/"
        },
        "id": "rJdjSPF7t4Th",
        "outputId": "1924430c-3661-4343-e835-e4c71fcfab97"
      },
      "execution_count": 14,
      "outputs": [
        {
          "output_type": "stream",
          "name": "stdout",
          "text": [
            "Size of compressed: 5591512 bytes\n",
            "Size of original: 68350554 bytes\n",
            "Compression Ratio: 12.224:1\n"
          ]
        }
      ]
    },
    {
      "cell_type": "markdown",
      "metadata": {
        "id": "8BvJI_opex-e"
      },
      "source": [
        "<hr/>"
      ]
    },
    {
      "cell_type": "markdown",
      "metadata": {
        "id": "bXwvZ5hgyUtu"
      },
      "source": [
        "## **2. OpenMP Code**"
      ]
    },
    {
      "cell_type": "markdown",
      "metadata": {
        "id": "Zwud6AwVT4tg"
      },
      "source": [
        "###**a) Accept input via Upload**"
      ]
    },
    {
      "cell_type": "code",
      "execution_count": null,
      "metadata": {
        "colab": {
          "base_uri": "https://localhost:8080/",
          "height": 71
        },
        "id": "MPjhv67zyrcJ",
        "outputId": "c90e1e51-3443-452b-a7df-05a3d2746f6f"
      },
      "outputs": [
        {
          "data": {
            "text/html": [
              "\n",
              "     <input type=\"file\" id=\"files-4e0345c6-8947-40aa-bc02-99a27ef234f5\" name=\"files[]\" multiple disabled\n",
              "        style=\"border:none\" />\n",
              "     <output id=\"result-4e0345c6-8947-40aa-bc02-99a27ef234f5\">\n",
              "      Upload widget is only available when the cell has been executed in the\n",
              "      current browser session. Please rerun this cell to enable.\n",
              "      </output>\n",
              "      <script>// Copyright 2017 Google LLC\n",
              "//\n",
              "// Licensed under the Apache License, Version 2.0 (the \"License\");\n",
              "// you may not use this file except in compliance with the License.\n",
              "// You may obtain a copy of the License at\n",
              "//\n",
              "//      http://www.apache.org/licenses/LICENSE-2.0\n",
              "//\n",
              "// Unless required by applicable law or agreed to in writing, software\n",
              "// distributed under the License is distributed on an \"AS IS\" BASIS,\n",
              "// WITHOUT WARRANTIES OR CONDITIONS OF ANY KIND, either express or implied.\n",
              "// See the License for the specific language governing permissions and\n",
              "// limitations under the License.\n",
              "\n",
              "/**\n",
              " * @fileoverview Helpers for google.colab Python module.\n",
              " */\n",
              "(function(scope) {\n",
              "function span(text, styleAttributes = {}) {\n",
              "  const element = document.createElement('span');\n",
              "  element.textContent = text;\n",
              "  for (const key of Object.keys(styleAttributes)) {\n",
              "    element.style[key] = styleAttributes[key];\n",
              "  }\n",
              "  return element;\n",
              "}\n",
              "\n",
              "// Max number of bytes which will be uploaded at a time.\n",
              "const MAX_PAYLOAD_SIZE = 100 * 1024;\n",
              "\n",
              "function _uploadFiles(inputId, outputId) {\n",
              "  const steps = uploadFilesStep(inputId, outputId);\n",
              "  const outputElement = document.getElementById(outputId);\n",
              "  // Cache steps on the outputElement to make it available for the next call\n",
              "  // to uploadFilesContinue from Python.\n",
              "  outputElement.steps = steps;\n",
              "\n",
              "  return _uploadFilesContinue(outputId);\n",
              "}\n",
              "\n",
              "// This is roughly an async generator (not supported in the browser yet),\n",
              "// where there are multiple asynchronous steps and the Python side is going\n",
              "// to poll for completion of each step.\n",
              "// This uses a Promise to block the python side on completion of each step,\n",
              "// then passes the result of the previous step as the input to the next step.\n",
              "function _uploadFilesContinue(outputId) {\n",
              "  const outputElement = document.getElementById(outputId);\n",
              "  const steps = outputElement.steps;\n",
              "\n",
              "  const next = steps.next(outputElement.lastPromiseValue);\n",
              "  return Promise.resolve(next.value.promise).then((value) => {\n",
              "    // Cache the last promise value to make it available to the next\n",
              "    // step of the generator.\n",
              "    outputElement.lastPromiseValue = value;\n",
              "    return next.value.response;\n",
              "  });\n",
              "}\n",
              "\n",
              "/**\n",
              " * Generator function which is called between each async step of the upload\n",
              " * process.\n",
              " * @param {string} inputId Element ID of the input file picker element.\n",
              " * @param {string} outputId Element ID of the output display.\n",
              " * @return {!Iterable<!Object>} Iterable of next steps.\n",
              " */\n",
              "function* uploadFilesStep(inputId, outputId) {\n",
              "  const inputElement = document.getElementById(inputId);\n",
              "  inputElement.disabled = false;\n",
              "\n",
              "  const outputElement = document.getElementById(outputId);\n",
              "  outputElement.innerHTML = '';\n",
              "\n",
              "  const pickedPromise = new Promise((resolve) => {\n",
              "    inputElement.addEventListener('change', (e) => {\n",
              "      resolve(e.target.files);\n",
              "    });\n",
              "  });\n",
              "\n",
              "  const cancel = document.createElement('button');\n",
              "  inputElement.parentElement.appendChild(cancel);\n",
              "  cancel.textContent = 'Cancel upload';\n",
              "  const cancelPromise = new Promise((resolve) => {\n",
              "    cancel.onclick = () => {\n",
              "      resolve(null);\n",
              "    };\n",
              "  });\n",
              "\n",
              "  // Wait for the user to pick the files.\n",
              "  const files = yield {\n",
              "    promise: Promise.race([pickedPromise, cancelPromise]),\n",
              "    response: {\n",
              "      action: 'starting',\n",
              "    }\n",
              "  };\n",
              "\n",
              "  cancel.remove();\n",
              "\n",
              "  // Disable the input element since further picks are not allowed.\n",
              "  inputElement.disabled = true;\n",
              "\n",
              "  if (!files) {\n",
              "    return {\n",
              "      response: {\n",
              "        action: 'complete',\n",
              "      }\n",
              "    };\n",
              "  }\n",
              "\n",
              "  for (const file of files) {\n",
              "    const li = document.createElement('li');\n",
              "    li.append(span(file.name, {fontWeight: 'bold'}));\n",
              "    li.append(span(\n",
              "        `(${file.type || 'n/a'}) - ${file.size} bytes, ` +\n",
              "        `last modified: ${\n",
              "            file.lastModifiedDate ? file.lastModifiedDate.toLocaleDateString() :\n",
              "                                    'n/a'} - `));\n",
              "    const percent = span('0% done');\n",
              "    li.appendChild(percent);\n",
              "\n",
              "    outputElement.appendChild(li);\n",
              "\n",
              "    const fileDataPromise = new Promise((resolve) => {\n",
              "      const reader = new FileReader();\n",
              "      reader.onload = (e) => {\n",
              "        resolve(e.target.result);\n",
              "      };\n",
              "      reader.readAsArrayBuffer(file);\n",
              "    });\n",
              "    // Wait for the data to be ready.\n",
              "    let fileData = yield {\n",
              "      promise: fileDataPromise,\n",
              "      response: {\n",
              "        action: 'continue',\n",
              "      }\n",
              "    };\n",
              "\n",
              "    // Use a chunked sending to avoid message size limits. See b/62115660.\n",
              "    let position = 0;\n",
              "    do {\n",
              "      const length = Math.min(fileData.byteLength - position, MAX_PAYLOAD_SIZE);\n",
              "      const chunk = new Uint8Array(fileData, position, length);\n",
              "      position += length;\n",
              "\n",
              "      const base64 = btoa(String.fromCharCode.apply(null, chunk));\n",
              "      yield {\n",
              "        response: {\n",
              "          action: 'append',\n",
              "          file: file.name,\n",
              "          data: base64,\n",
              "        },\n",
              "      };\n",
              "\n",
              "      let percentDone = fileData.byteLength === 0 ?\n",
              "          100 :\n",
              "          Math.round((position / fileData.byteLength) * 100);\n",
              "      percent.textContent = `${percentDone}% done`;\n",
              "\n",
              "    } while (position < fileData.byteLength);\n",
              "  }\n",
              "\n",
              "  // All done.\n",
              "  yield {\n",
              "    response: {\n",
              "      action: 'complete',\n",
              "    }\n",
              "  };\n",
              "}\n",
              "\n",
              "scope.google = scope.google || {};\n",
              "scope.google.colab = scope.google.colab || {};\n",
              "scope.google.colab._files = {\n",
              "  _uploadFiles,\n",
              "  _uploadFilesContinue,\n",
              "};\n",
              "})(self);\n",
              "</script> "
            ],
            "text/plain": [
              "<IPython.core.display.HTML object>"
            ]
          },
          "metadata": {},
          "output_type": "display_data"
        },
        {
          "name": "stdout",
          "output_type": "stream",
          "text": [
            "Saving testimg.png to testimg.png\n"
          ]
        }
      ],
      "source": [
        "from google.colab import files\n",
        "\n",
        "# Upload the image\n",
        "uploaded = files.upload()\n",
        "input_image = list(uploaded.keys())[0]"
      ]
    },
    {
      "cell_type": "markdown",
      "metadata": {
        "id": "1OsMMcgfUJoP"
      },
      "source": [
        "###**b) Accept input via Command Line**"
      ]
    },
    {
      "cell_type": "code",
      "execution_count": null,
      "metadata": {
        "colab": {
          "base_uri": "https://localhost:8080/"
        },
        "id": "2PWRA0VgT3lH",
        "outputId": "ea59c007-3faa-4f7a-c537-c60acbdcc50f"
      },
      "outputs": [
        {
          "name": "stdout",
          "output_type": "stream",
          "text": [
            "--2024-09-14 04:12:41--  https://svs.gsfc.nasa.gov/vis/a020000/a020200/a020255/frames/3840x2160_16x9_60p/Shot48/Shot48Frames/Shot48.00000.png\n",
            "Resolving svs.gsfc.nasa.gov (svs.gsfc.nasa.gov)... 169.154.143.10, 2001:4d0:2418:143::10\n",
            "Connecting to svs.gsfc.nasa.gov (svs.gsfc.nasa.gov)|169.154.143.10|:443... connected.\n",
            "HTTP request sent, awaiting response... 200 OK\n",
            "Length: 11402446 (11M) [image/png]\n",
            "Saving to: ‘input_image.png’\n",
            "\n",
            "input_image.png     100%[===================>]  10.87M  4.40MB/s    in 2.5s    \n",
            "\n",
            "2024-09-14 04:12:44 (4.40 MB/s) - ‘input_image.png’ saved [11402446/11402446]\n",
            "\n"
          ]
        }
      ],
      "source": [
        "# To get the cat image from Github\n",
        "!wget https://raw.githubusercontent.com/RyankTheDS/Near-Lossless-Image-Compression-using-DCT/refs/heads/main/images/testimg.png"
      ]
    },
    {
      "cell_type": "code",
      "source": [
        "# To get the dark image from Github\n",
        "!wget -O testimg.png https://raw.githubusercontent.com/RyankTheDS/Near-Lossless-Image-Compression-using-DCT/refs/heads/main/images/dark.png"
      ],
      "metadata": {
        "id": "wVB6obN_2osT"
      },
      "execution_count": null,
      "outputs": []
    },
    {
      "cell_type": "code",
      "source": [
        "# To get the NASA image from NASA directly (Way 1)\n",
        "!wget -O testimg.png https://svs.gsfc.nasa.gov/vis/a030000/a030000/a030028/frames/6750x3375_2x1_30p/split-750m/dnb_land_ocean_ice.2012.13500x13500.A1-0000.png"
      ],
      "metadata": {
        "id": "hdJUFbjU2o2y"
      },
      "execution_count": null,
      "outputs": []
    },
    {
      "cell_type": "code",
      "source": [
        "# To get the NASA image from Github (Way 2)\n",
        "!wget -O testimg.png https://raw.githubusercontent.com/RyankTheDS/Near-Lossless-Image-Compression-using-DCT/refs/heads/main/images/dnb_land_ocean_ice.2012.13500x13500.A1-0000.png"
      ],
      "metadata": {
        "id": "c9EVkO192pAq"
      },
      "execution_count": null,
      "outputs": []
    },
    {
      "cell_type": "markdown",
      "metadata": {
        "id": "D4iKKKaLUa-b"
      },
      "source": [
        "###**c) For Comparing Images in terms of MSE and SSIM (verification code)**"
      ]
    },
    {
      "cell_type": "code",
      "execution_count": null,
      "metadata": {
        "colab": {
          "base_uri": "https://localhost:8080/"
        },
        "id": "HhfGcKOzVDQe",
        "outputId": "f98b39b6-56ba-45c6-f15f-7f36f91dd4f4"
      },
      "outputs": [
        {
          "output_type": "stream",
          "name": "stdout",
          "text": [
            "Overwriting compare_images.cpp\n"
          ]
        }
      ],
      "source": [
        "%%writefile compare_images.cpp\n",
        "#include <opencv2/opencv.hpp>\n",
        "#include <opencv2/core.hpp>\n",
        "#include <opencv2/imgproc.hpp>\n",
        "#include <opencv2/highgui.hpp>\n",
        "#include <opencv2/imgcodecs.hpp>\n",
        "#include <iostream>\n",
        "#include <cmath>\n",
        "\n",
        "using namespace cv;\n",
        "using namespace std;\n",
        "\n",
        "// Function to compute Mean Squared Error (MSE)\n",
        "double computeMSE(const Mat& img1, const Mat& img2) {\n",
        "    Mat s1;\n",
        "    absdiff(img1, img2, s1);  // absolute difference\n",
        "    s1.convertTo(s1, CV_32F);  // convert to float\n",
        "\n",
        "    s1 = s1.mul(s1);  // square\n",
        "\n",
        "    Scalar s = sum(s1);  // sum all pixels\n",
        "\n",
        "    double mse = (s[0] + s[1] + s[2]) / (double)(img1.channels() * img1.total());\n",
        "    return mse;\n",
        "}\n",
        "\n",
        "// Function to compute SSIM\n",
        "Scalar computeSSIM(const Mat& img1, const Mat& img2) {\n",
        "    const double C1 = 6.5025, C2 = 58.5225;\n",
        "    Mat I1, I2;\n",
        "    img1.convertTo(I1, CV_32F);  // convert to float\n",
        "    img2.convertTo(I2, CV_32F);\n",
        "\n",
        "    Mat I1_2 = I1.mul(I1);  // I1^2\n",
        "    Mat I2_2 = I2.mul(I2);  // I2^2\n",
        "    Mat I1_I2 = I1.mul(I2);  // I1 * I2\n",
        "\n",
        "    Mat mu1, mu2;\n",
        "    GaussianBlur(I1, mu1, Size(11, 11), 1.5);\n",
        "    GaussianBlur(I2, mu2, Size(11, 11), 1.5);\n",
        "\n",
        "    Mat mu1_2 = mu1.mul(mu1);\n",
        "    Mat mu2_2 = mu2.mul(mu2);\n",
        "    Mat mu1_mu2 = mu1.mul(mu2);\n",
        "\n",
        "    Mat sigma1_2, sigma2_2, sigma12;\n",
        "    GaussianBlur(I1_2, sigma1_2, Size(11, 11), 1.5);\n",
        "    GaussianBlur(I2_2, sigma2_2, Size(11, 11), 1.5);\n",
        "    GaussianBlur(I1_I2, sigma12, Size(11, 11), 1.5);\n",
        "\n",
        "    sigma1_2 -= mu1_2;\n",
        "    sigma2_2 -= mu2_2;\n",
        "    sigma12 -= mu1_mu2;\n",
        "\n",
        "    Mat t1, t2, t3;\n",
        "    t1 = 2 * mu1_mu2 + C1;\n",
        "    t2 = 2 * sigma12 + C2;\n",
        "    t3 = t1.mul(t2);  // t3 = (2*mu1_mu2 + C1).*(2*sigma12 + C2)\n",
        "\n",
        "    t1 = mu1_2 + mu2_2 + C1;\n",
        "    t2 = sigma1_2 + sigma2_2 + C2;\n",
        "    t1 = t1.mul(t2);  // t1 = (mu1_2 + mu2_2 + C1).*(sigma1_2 + sigma2_2 + C2)\n",
        "\n",
        "    Mat ssim_map;\n",
        "    divide(t3, t1, ssim_map);  // ssim_map = t3 ./ t1\n",
        "    Scalar mssim = mean(ssim_map);  // mssim = average of ssim map\n",
        "    return mssim;\n",
        "}\n",
        "\n",
        "int main(int argc, char** argv) {\n",
        "    if (argc != 3) {\n",
        "        cout << \"Usage: ./compare_images <image1> <image2>\" << endl;\n",
        "        return -1;\n",
        "    }\n",
        "\n",
        "    Mat img1 = imread(argv[1], IMREAD_COLOR);\n",
        "    Mat img2 = imread(argv[2], IMREAD_COLOR);\n",
        "\n",
        "    if (img1.empty() || img2.empty()) {\n",
        "        cout << \"Could not open or find the images.\" << endl;\n",
        "        return -1;\n",
        "    }\n",
        "\n",
        "    // Compute MSE\n",
        "    double mse = computeMSE(img1, img2);\n",
        "    cout << \"MSE: \" << mse << endl;\n",
        "\n",
        "    // Compute SSIM\n",
        "    Scalar ssim = computeSSIM(img1, img2);\n",
        "    cout << \"SSIM: \" << ssim[0] << endl;\n",
        "\n",
        "    return 0;\n",
        "}"
      ]
    },
    {
      "cell_type": "code",
      "execution_count": null,
      "metadata": {
        "id": "OM-XugvhVJno"
      },
      "outputs": [],
      "source": [
        "!g++ compare_images.cpp -o compare_images `pkg-config --cflags --libs opencv4`"
      ]
    },
    {
      "cell_type": "markdown",
      "metadata": {
        "id": "0t_W1vI2VZrF"
      },
      "source": [
        "###**d) Compression and Decompression Code**"
      ]
    },
    {
      "cell_type": "code",
      "execution_count": 15,
      "metadata": {
        "colab": {
          "base_uri": "https://localhost:8080/"
        },
        "id": "6xtpKsicyORr",
        "outputId": "42740e4a-7f0b-4501-9d25-1d766f4ea788"
      },
      "outputs": [
        {
          "output_type": "stream",
          "name": "stdout",
          "text": [
            "Overwriting compress_image.cpp\n"
          ]
        }
      ],
      "source": [
        "%%writefile compress_image.cpp\n",
        "#include <opencv2/opencv.hpp>\n",
        "#include <opencv2/imgcodecs.hpp>\n",
        "#include <opencv2/highgui.hpp>\n",
        "#include <iostream>\n",
        "#include <vector>\n",
        "#include <fstream>\n",
        "#include <chrono>\n",
        "#include <cmath>\n",
        "#include <map>\n",
        "#include <filesystem>\n",
        "#define M_PI 3.14159265358979323846\n",
        "\n",
        "using namespace cv;\n",
        "using namespace std;\n",
        "using namespace std::chrono;\n",
        "\n",
        "void dct2(const Mat& src, Mat& dst) {\n",
        "    int M = src.rows;\n",
        "    int N = src.cols;\n",
        "    dst.create(M, N, CV_64F);\n",
        "    int u, v, x, y;\n",
        "    double sum;\n",
        "\n",
        "    // Hardcoded cosine values for an 8x8 matrix for DCT\n",
        "    const double cosTableX[8][8] = {\n",
        "        {1.0, 0.980785, 0.923880, 0.831470, 0.707107, 0.555570, 0.382683, 0.195090},\n",
        "        {1.0, 0.831470, 0.382683, -0.195090, -0.707107, -0.980785, -0.923880, -0.555570},\n",
        "        {1.0, 0.555570, -0.382683, -0.980785, -0.707107, 0.195090, 0.923880, 0.831470},\n",
        "        {1.0, 0.195090, -0.923880, -0.555570, 0.707107, 0.831470, -0.382683, -0.980785},\n",
        "        {1.0, -0.195090, -0.923880, 0.555570, 0.707107, -0.831470, -0.382683, 0.980785},\n",
        "        {1.0, -0.555570, -0.382683, 0.980785, -0.707107, -0.195090, 0.923880, -0.831470},\n",
        "        {1.0, -0.831470, 0.382683, 0.195090, -0.707107, 0.980785, -0.923880, 0.555570},\n",
        "        {1.0, -0.980785, 0.923880, -0.831470, 0.707107, -0.555570, 0.382683, -0.195090}\n",
        "    };\n",
        "\n",
        "    const double cosTableY[8][8] = {\n",
        "        {1.0, 0.980785, 0.923880, 0.831470, 0.707107, 0.555570, 0.382683, 0.195090},\n",
        "        {1.0, 0.831470, 0.382683, -0.195090, -0.707107, -0.980785, -0.923880, -0.555570},\n",
        "        {1.0, 0.555570, -0.382683, -0.980785, -0.707107, 0.195090, 0.923880, 0.831470},\n",
        "        {1.0, 0.195090, -0.923880, -0.555570, 0.707107, 0.831470, -0.382683, -0.980785},\n",
        "        {1.0, -0.195090, -0.923880, 0.555570, 0.707107, -0.831470, -0.382683, 0.980785},\n",
        "        {1.0, -0.555570, -0.382683, 0.980785, -0.707107, -0.195090, 0.923880, -0.831470},\n",
        "        {1.0, -0.831470, 0.382683, 0.195090, -0.707107, 0.980785, -0.923880, 0.555570},\n",
        "        {1.0, -0.980785, 0.923880, -0.831470, 0.707107, -0.555570, 0.382683, -0.195090}\n",
        "    };\n",
        "\n",
        "    #pragma omp parallel for private(v, x, y) reduction(+:sum)\n",
        "    for (u = 0; u < M; ++u) {\n",
        "        for (v = 0; v < N; ++v) {\n",
        "            sum = 0.0;\n",
        "            for (x = 0; x < M; ++x) {\n",
        "                for (y = 0; y < N; ++y) {\n",
        "                    //double cosX = cos(M_PI / M * (x + 0.5) * u);\n",
        "                    //double cosY = cos(M_PI / N * (y + 0.5) * v);\n",
        "                    sum += src.at<double>(x, y) * cosTableX[x][u] * cosTableY[y][v];\n",
        "                }\n",
        "            }\n",
        "            double C_u = (u == 0) ? sqrt(1.0 / M) : sqrt(2.0 / M);\n",
        "            double C_v = (v == 0) ? sqrt(1.0 / N) : sqrt(2.0 / N);\n",
        "            dst.at<double>(u, v) = round(C_u * C_v * sum * 10) / 10.0; // Truncate to 1 decimal place\n",
        "        }\n",
        "    }\n",
        "}\n",
        "\n",
        "\n",
        "\n",
        "void idct2(const Mat& src, Mat& dst) {\n",
        "    int M = src.rows;\n",
        "    int N = src.cols;\n",
        "    dst.create(M, N, CV_64F);\n",
        "    int x, y, u, v;\n",
        "    double sum;\n",
        "\n",
        "    // Hardcoded cosine values for an 8x8 matrix for IDCT\n",
        "    const double cosTableX[8][8] = {\n",
        "        {1.0, 0.980785, 0.923880, 0.831470, 0.707107, 0.555570, 0.382683, 0.195090},\n",
        "        {1.0, 0.831470, 0.382683, -0.195090, -0.707107, -0.980785, -0.923880, -0.555570},\n",
        "        {1.0, 0.555570, -0.382683, -0.980785, -0.707107, 0.195090, 0.923880, 0.831470},\n",
        "        {1.0, 0.195090, -0.923880, -0.555570, 0.707107, 0.831470, -0.382683, -0.980785},\n",
        "        {1.0, -0.195090, -0.923880, 0.555570, 0.707107, -0.831470, -0.382683, 0.980785},\n",
        "        {1.0, -0.555570, -0.382683, 0.980785, -0.707107, -0.195090, 0.923880, -0.831470},\n",
        "        {1.0, -0.831470, 0.382683, 0.195090, -0.707107, 0.980785, -0.923880, 0.555570},\n",
        "        {1.0, -0.980785, 0.923880, -0.831470, 0.707107, -0.555570, 0.382683, -0.195090}\n",
        "    };\n",
        "\n",
        "    const double cosTableY[8][8] = {\n",
        "        {1.0, 0.980785, 0.923880, 0.831470, 0.707107, 0.555570, 0.382683, 0.195090},\n",
        "        {1.0, 0.831470, 0.382683, -0.195090, -0.707107, -0.980785, -0.923880, -0.555570},\n",
        "        {1.0, 0.555570, -0.382683, -0.980785, -0.707107, 0.195090, 0.923880, 0.831470},\n",
        "        {1.0, 0.195090, -0.923880, -0.555570, 0.707107, 0.831470, -0.382683, -0.980785},\n",
        "        {1.0, -0.195090, -0.923880, 0.555570, 0.707107, -0.831470, -0.382683, 0.980785},\n",
        "        {1.0, -0.555570, -0.382683, 0.980785, -0.707107, -0.195090, 0.923880, -0.831470},\n",
        "        {1.0, -0.831470, 0.382683, 0.195090, -0.707107, 0.980785, -0.923880, 0.555570},\n",
        "        {1.0, -0.980785, 0.923880, -0.831470, 0.707107, -0.555570, 0.382683, -0.195090}\n",
        "    };\n",
        "\n",
        "    #pragma omp parallel for private(y, u, v) reduction(+:sum)\n",
        "    for (x = 0; x < M; ++x) {\n",
        "        for (y = 0; y < N; ++y) {\n",
        "            sum = 0.0;\n",
        "            for (u = 0; u < M; ++u) {\n",
        "                for (v = 0; v < N; ++v) {\n",
        "                    double C_u = (u == 0) ? sqrt(1.0 / M) : sqrt(2.0 / M);\n",
        "                    double C_v = (v == 0) ? sqrt(1.0 / N) : sqrt(2.0 / N);\n",
        "                    //double cosX = cos(M_PI / M * (x + 0.5) * u);\n",
        "                    //double cosY = cos(M_PI / N * (y + 0.5) * v);\n",
        "                    sum += C_u * C_v * src.at<double>(u, v) * cosTableX[x][u] * cosTableY[y][v];\n",
        "                }\n",
        "            }\n",
        "            dst.at<double>(x, y) = sum;\n",
        "        }\n",
        "    }\n",
        "}\n",
        "\n",
        "//Zig-Zag scan function\n",
        "vector<double> zigzagScan(const Mat& block) {\n",
        "    int n = block.rows;\n",
        "    vector<double> result;\n",
        "    result.reserve(n * n);\n",
        "    for (int i = 0; i < 2 * n - 1; ++i) {\n",
        "        if (i % 2 == 0) {\n",
        "            for (int j = 0; j <= i; ++j) {\n",
        "                if (j < n && (i - j) < n) {\n",
        "                    result.push_back(block.at<double>(j, i - j));\n",
        "                }\n",
        "            }\n",
        "        } else {\n",
        "            for (int j = 0; j <= i; ++j) {\n",
        "                if (j < n && (i - j) < n) {\n",
        "                    result.push_back(block.at<double>(i - j, j));\n",
        "                }\n",
        "            }\n",
        "        }\n",
        "    }\n",
        "    return result;\n",
        "}\n",
        "\n",
        "\n",
        "// RLE encoding function\n",
        "vector<pair<double, int>> rleEncode(const vector<double>& data) {\n",
        "    vector<pair<double, int>> encodedData;\n",
        "    int count = 1;\n",
        "    double current = data[0];\n",
        "    for (size_t i = 1; i < data.size(); ++i) {\n",
        "        if (data[i] == current) {\n",
        "            count++;\n",
        "        } else {\n",
        "            encodedData.push_back({current, count});\n",
        "            current = data[i];\n",
        "            count = 1;\n",
        "        }\n",
        "    }\n",
        "    encodedData.push_back({current, count});\n",
        "    return encodedData;\n",
        "}\n",
        "\n",
        "// RLE decoding function\n",
        "vector<double> rleDecode(const vector<pair<double, int>>& encodedData) {\n",
        "    vector<double> decodedData;\n",
        "    for (const auto& elem : encodedData) {\n",
        "        decodedData.insert(decodedData.end(), elem.second, elem.first);\n",
        "    }\n",
        "    return decodedData;\n",
        "}\n",
        "\n",
        "// Custom function to split image into channels\n",
        "void splitImage(const cv::Mat& image, std::vector<cv::Mat>& channels) {\n",
        "    int rows = image.rows;\n",
        "    int cols = image.cols;\n",
        "    int numChannels = image.channels();\n",
        "\n",
        "    // Resize vector to hold all channels\n",
        "    channels.resize(numChannels);\n",
        "\n",
        "    // Initialize each channel as a single-channel matrix with the same dimensions as the input image\n",
        "    for (int ch = 0; ch < numChannels; ++ch) {\n",
        "        channels[ch] = cv::Mat(rows, cols, CV_8UC1);\n",
        "    }\n",
        "\n",
        "    // Iterate over the image and split the channels manually\n",
        "    #pragma omp parallel for collapse(2)\n",
        "    for (int r = 0; r < rows; ++r) {\n",
        "        for (int c = 0; c < cols; ++c) {\n",
        "            // Get pixel value (multi-channel pixel)\n",
        "            cv::Vec3b pixel = image.at<cv::Vec3b>(r, c);\n",
        "            // Assign each channel its corresponding value\n",
        "            for (int ch = 0; ch < numChannels; ++ch) {\n",
        "                channels[ch].at<uchar>(r, c) = pixel[ch];\n",
        "            }\n",
        "        }\n",
        "    }\n",
        "}\n",
        "\n",
        "// Function to merge multiple single-channel images into a multi-channel image\n",
        "void mergeImage(cv::Mat* channels, int numChannels, cv::Mat& mergedImage) {\n",
        "    // Check if the number of channels matches the input\n",
        "    if (numChannels <= 0 || !channels) {\n",
        "        cerr << \"Invalid number of channels or null channels pointer\" << endl;\n",
        "        return;\n",
        "    }\n",
        "\n",
        "    // Get the size from the first channel\n",
        "    int rows = channels[0].rows;\n",
        "    int cols = channels[0].cols;\n",
        "\n",
        "    // Initialize the merged image with the same size as the input channels\n",
        "    mergedImage.create(rows, cols, CV_MAKETYPE(CV_8U, numChannels));  // Create image with the appropriate number of channels\n",
        "\n",
        "\n",
        "    // Iterate over each pixel and assign values to the merged image\n",
        "    #pragma omp parallel for collapse(2)\n",
        "    for (int r = 0; r < rows; ++r) {\n",
        "        for (int c = 0; c < cols; ++c) {\n",
        "            Vec<uchar, 3> pixel;  // Change to Vec<uchar, numChannels> if numChannels > 3\n",
        "            for (int ch = 0; ch < numChannels; ++ch) {\n",
        "                pixel[ch] = channels[ch].at<uchar>(r, c);\n",
        "            }\n",
        "            mergedImage.at<Vec<uchar, 3>>(r, c) = pixel;  // Assign pixel value\n",
        "        }\n",
        "    }\n",
        "}\n",
        "\n",
        "\n",
        "void compressImage(const Mat& src, const string& filename) {\n",
        "    // Clone the input image for processing\n",
        "    Mat dst = src.clone();\n",
        "\n",
        "    // Open the .bin file for writing\n",
        "    ofstream rleFile(filename, ios::out | ios::binary);\n",
        "    if (!rleFile.is_open()) {\n",
        "        cerr << \"Error opening file for writing: \" << filename << endl;\n",
        "        return;\n",
        "    }\n",
        "\n",
        "    // Iterate through the image in 8x8 blocks\n",
        "    for (int y = 0; y < src.rows; y += 8) {\n",
        "        for (int x = 0; x < src.cols; x += 8) {\n",
        "            int blockWidth = min(8, src.cols - x);\n",
        "            int blockHeight = min(8, src.rows - y);\n",
        "\n",
        "            Mat block = src(Rect(x, y, blockWidth, blockHeight));\n",
        "            Mat dctBlock;\n",
        "            dct2(block, dctBlock);\n",
        "\n",
        "            // Perform Zig-Zag scanning and RLE encoding\n",
        "            vector<double> zigzagged = zigzagScan(dctBlock);\n",
        "            vector<pair<double, int>> rleEncoded = rleEncode(zigzagged);\n",
        "\n",
        "            // Write the RLE-encoded data to the .bin file\n",
        "            for (const auto& pair : rleEncoded) {\n",
        "                // Convert the DCT coefficient to int16_t to save space\n",
        "                int16_t quantizedValue = static_cast<int16_t>(round(pair.first));\n",
        "                // Store the count as uint8_t (assuming counts fit in this range)\n",
        "                uint8_t quantizedCount = static_cast<uint8_t>(min(pair.second, 255));  // Limit count to 255\n",
        "\n",
        "                // Write the quantized value and count to the file\n",
        "                rleFile.write(reinterpret_cast<const char*>(&quantizedValue), sizeof(quantizedValue));\n",
        "                rleFile.write(reinterpret_cast<const char*>(&quantizedCount), sizeof(quantizedCount));\n",
        "\n",
        "\n",
        "                //float value = static_cast<float>(pair.first);\n",
        "                //uint16_t count = static_cast<uint16_t>(pair.second); // Use uint16_t for count\n",
        "\n",
        "                // Write the combined value and count\n",
        "                //rleFile.write(reinterpret_cast<const char*>(&value), sizeof(value));\n",
        "                //rleFile.write(reinterpret_cast<const char*>(&count), sizeof(count));\n",
        "            }\n",
        "        }\n",
        "    }\n",
        "\n",
        "    // Close the .bin file after writing\n",
        "    rleFile.close();\n",
        "    cout << \"Compression complete. Data saved \" << endl;\n",
        "}\n",
        "\n",
        "void decompressImage(Mat& dst, const string& filename, int rows, int cols) {\n",
        "    // Open the .bin file for reading\n",
        "    ifstream rleFile(filename, ios::in | ios::binary);\n",
        "    if (!rleFile.is_open()) {\n",
        "        cerr << \"Error opening file for reading: \" << filename << endl;\n",
        "        return;\n",
        "    }\n",
        "\n",
        "    dst = Mat::zeros(rows, cols, CV_64F);  // Initialize the output image\n",
        "\n",
        "    // Iterate through the image in 8x8 blocks\n",
        "    for (int y = 0; y < rows; y += 8) {\n",
        "        for (int x = 0; x < cols; x += 8) {\n",
        "            int blockWidth = min(8, cols - x);\n",
        "            int blockHeight = min(8, rows - y);\n",
        "\n",
        "            // Read the RLE-encoded data from the .bin file for the current block\n",
        "            vector<pair<double, int>> rleEncoded;\n",
        "            int totalElements = blockWidth * blockHeight;  // Total number of elements in the block\n",
        "            int countElements = 0;\n",
        "\n",
        "            while (countElements < totalElements && rleFile.good()) {\n",
        "                // float value;         // Read value as float\n",
        "                // uint16_t count;     // Read count as uint16_t\n",
        "                int16_t value;      // Read value as int16_t\n",
        "                uint8_t count;      // Read count as uint8_t\n",
        "                rleFile.read(reinterpret_cast<char*>(&value), sizeof(value));\n",
        "                rleFile.read(reinterpret_cast<char*>(&count), sizeof(count));\n",
        "\n",
        "                if (rleFile.gcount() == 0) break;  // Break at EOF\n",
        "                //rleEncoded.push_back({value, count});\n",
        "                rleEncoded.push_back({static_cast<double>(value), static_cast<int>(count)}); // Cast to double and int\n",
        "                countElements += count;  // Update the count of elements read\n",
        "            }\n",
        "\n",
        "            // Decode RLE and reverse Zig-Zag for reconstruction\n",
        "            vector<double> decodedZigzag = rleDecode(rleEncoded);\n",
        "            Mat reconstructedBlock = Mat::zeros(blockHeight, blockWidth, CV_64F);\n",
        "            int index = 0;\n",
        "\n",
        "            for (int i = 0; i < 2 * blockWidth - 1; ++i) {\n",
        "                if (i % 2 == 0) {\n",
        "                    for (int j = 0; j <= i; ++j) {\n",
        "                        if (j < blockWidth && (i - j) < blockHeight) {\n",
        "                            reconstructedBlock.at<double>(j, i - j) = decodedZigzag[index++];\n",
        "                        }\n",
        "                    }\n",
        "                } else {\n",
        "                    for (int j = 0; j <= i; ++j) {\n",
        "                        if (j < blockWidth && (i - j) < blockHeight) {\n",
        "                            reconstructedBlock.at<double>(i - j, j) = decodedZigzag[index++];\n",
        "                        }\n",
        "                    }\n",
        "                }\n",
        "            }\n",
        "\n",
        "            // Apply inverse DCT to the block and copy to the destination image\n",
        "            Mat idctBlock;\n",
        "            idct2(reconstructedBlock, idctBlock);\n",
        "            idctBlock.copyTo(dst(Rect(x, y, blockWidth, blockHeight)));\n",
        "        }\n",
        "    }\n",
        "\n",
        "    // Close the .bin file after reading\n",
        "    rleFile.close();\n",
        "    cout << \"Decompression complete. Image reconstructed.\" << endl;\n",
        "}\n",
        "\n",
        "\n",
        "\n",
        "\n",
        "void processImage(const Mat& src, Mat& dst, const string& filename) {\n",
        "    compressImage(src, filename);\n",
        "    decompressImage(dst, filename, src.rows, src.cols);\n",
        "}\n",
        "\n",
        "\n",
        "\n",
        "\n",
        "int main(int argc, char** argv) {\n",
        "    if (argc < 2) {\n",
        "        cerr << \"Usage: \" << argv[0] << \" <input_image_filename>\" << endl;\n",
        "        return -1;\n",
        "    }\n",
        "\n",
        "    string inputFilename = argv[1];\n",
        "    // Start overall execution timer\n",
        "    auto start = high_resolution_clock::now();\n",
        "\n",
        "    // Read the image\n",
        "    Mat img = imread(inputFilename, IMREAD_COLOR);\n",
        "    if (img.empty()) {\n",
        "        cerr << \"Error loading image!\" << endl;\n",
        "        return -1;\n",
        "    }\n",
        "\n",
        "    // Pad image to the nearest multiple of 8\n",
        "    int paddedRows = (img.rows + 7) & ~7;\n",
        "    int paddedCols = (img.cols + 7) & ~7;\n",
        "    Mat paddedImg;\n",
        "    copyMakeBorder(img, paddedImg, 0, paddedRows - img.rows, 0, paddedCols - img.cols, BORDER_CONSTANT, Scalar::all(0));\n",
        "\n",
        "    // Split image into channels\n",
        "    vector<Mat> channels(3);\n",
        "    //split(paddedImg, channels);\n",
        "    splitImage(paddedImg, channels);\n",
        "\n",
        "    // Process each channel\n",
        "    Mat processed[3];\n",
        "    for (int i = 0; i < 3; ++i) {\n",
        "        Mat imgChannel;\n",
        "        channels[i].convertTo(imgChannel, CV_64F);\n",
        "\n",
        "        // Create .rle file for each channel\n",
        "        string rleFilename = \"op_channel_\" + to_string(i) + \".bin\";\n",
        "\n",
        "        processImage(imgChannel, processed[i], rleFilename);  // Assuming this function is implemented elsewhere\n",
        "        processed[i].convertTo(processed[i], CV_8U);\n",
        "    }\n",
        "\n",
        "    // Merge processed channels back into one image\n",
        "    Mat decompressedImg;\n",
        "\n",
        "    mergeImage(processed, 3, decompressedImg);\n",
        "\n",
        "    // Crop the padded borders to original size\n",
        "    decompressedImg = decompressedImg(Rect(0, 0, img.cols, img.rows));\n",
        "\n",
        "    // Save the output image\n",
        "    imwrite(\"openmp_output.bmp\", decompressedImg);\n",
        "\n",
        "    // End overall execution timer\n",
        "    auto stop = high_resolution_clock::now();\n",
        "    auto duration = duration_cast<milliseconds>(stop - start);\n",
        "\n",
        "    // Print the size of the compressed image\n",
        "    std::ifstream file(\"openmp_output.bmp\", std::ifstream::ate | std::ifstream::binary);\n",
        "    double size = static_cast<double>(file.tellg()) / 1024;  // Size in KB\n",
        "    cout << \"Returned image size: \" << size << \" KB\" << endl;\n",
        "    cout << \"Time taken: \" << duration.count() << \" milliseconds\" << endl;\n",
        "\n",
        "    // Save the time taken to a CSV file\n",
        "    ofstream timeFile;\n",
        "    timeFile.open(\"/content/OpenMPcompression_times.csv\", ios::out);\n",
        "    if (timeFile.is_open()) {\n",
        "        timeFile << \"OpenMP,\" << duration.count() << \"\\n\";  // Label this as \"OpenMP\"\n",
        "        timeFile.close();\n",
        "    } else {\n",
        "        cerr << \"Unable to open file for writing!\" << endl;\n",
        "    }\n",
        "\n",
        "\n",
        "    vector<string> filenames = {\"op_channel_0.bin\", \"op_channel_1.bin\", \"op_channel_2.bin\"};\n",
        "\n",
        "    // for (const auto& filename : filenames) {\n",
        "    //     string xzFilename = filename + \".xz\";\n",
        "\n",
        "    //     if (std::filesystem::exists(xzFilename)) {\n",
        "    //         string removeCommand = \"rm \" + xzFilename;\n",
        "    //         system(removeCommand.c_str());\n",
        "    //     }\n",
        "\n",
        "    //     string compressCommand = \"xz \" + filename;\n",
        "    //     int result = system(compressCommand.c_str());\n",
        "    //     if (result != 0) {\n",
        "    //         cerr << \"Error compressing file to .xz format.\" << endl;\n",
        "    //     }\n",
        "    // }\n",
        "\n",
        "    // for (const auto& filename : filenames) {\n",
        "    //     remove(filename.c_str());\n",
        "    // }\n",
        "\n",
        "    // First parallel region for compression\n",
        "    #pragma omp parallel for\n",
        "    for (size_t i = 0; i < filenames.size(); ++i) {\n",
        "        string filename = filenames[i];\n",
        "        string xzFilename = filename + \".xz\";\n",
        "\n",
        "        if (std::filesystem::exists(xzFilename)) {\n",
        "            string removeCommand = \"rm \" + xzFilename;\n",
        "            system(removeCommand.c_str());\n",
        "        }\n",
        "\n",
        "        string compressCommand = \"xz \" + filename;\n",
        "        int result = system(compressCommand.c_str());\n",
        "        if (result != 0) {\n",
        "            cerr << \"Error compressing file to .xz format for \" << filename << endl;\n",
        "        }\n",
        "    }\n",
        "\n",
        "    // Second parallel region for removing original files\n",
        "    #pragma omp parallel for\n",
        "    for (size_t i = 0; i < filenames.size(); ++i) {\n",
        "        remove(filenames[i].c_str());\n",
        "    }\n",
        "\n",
        "\n",
        "    return 0;\n",
        "}"
      ]
    },
    {
      "cell_type": "code",
      "execution_count": 16,
      "metadata": {
        "id": "5XuMvEszyXLl"
      },
      "outputs": [],
      "source": [
        "!g++ -o compress_image compress_image.cpp `pkg-config --cflags --libs opencv4` -fopenmp"
      ]
    },
    {
      "cell_type": "code",
      "execution_count": 17,
      "metadata": {
        "id": "GztGgwKpyXfJ",
        "colab": {
          "base_uri": "https://localhost:8080/"
        },
        "outputId": "ed2721da-5f60-4b82-f8fc-731de39143d3"
      },
      "outputs": [
        {
          "output_type": "stream",
          "name": "stdout",
          "text": [
            "Image loaded: 6750x3375, 3 original channels.\n",
            "Image is now converted to 3 channels (RGB).\n",
            "Successfully saved BMP as testimg.bmp\n"
          ]
        }
      ],
      "source": [
        "# For converting input image to bmp\n",
        "# Run the compiled program\n",
        "!./png_to_bmp testimg.png\n",
        "#!./png_to_bmp dark.png"
      ]
    },
    {
      "cell_type": "markdown",
      "metadata": {
        "id": "67GhkGVhVpr9"
      },
      "source": [
        "###**e) Time taken to encode and decode**"
      ]
    },
    {
      "cell_type": "code",
      "execution_count": 18,
      "metadata": {
        "colab": {
          "base_uri": "https://localhost:8080/"
        },
        "id": "s-jzOT29yXoi",
        "outputId": "8b341359-8a53-448e-ff77-dcc16af1c507"
      },
      "outputs": [
        {
          "output_type": "stream",
          "name": "stdout",
          "text": [
            "Compression complete. Data saved \n",
            "Decompression complete. Image reconstructed.\n",
            "Compression complete. Data saved \n",
            "Decompression complete. Image reconstructed.\n",
            "Compression complete. Data saved \n",
            "Decompression complete. Image reconstructed.\n",
            "Returned image size: 66748.6 KB\n",
            "Time taken: 124940 milliseconds\n"
          ]
        }
      ],
      "source": [
        "# Run the C++ executable\n",
        "!./compress_image testimg.bmp\n",
        "#!./compress_image testimage.png"
      ]
    },
    {
      "cell_type": "markdown",
      "metadata": {
        "id": "THxJNaS2WZRS"
      },
      "source": [
        "###**f) Appearance of Images**"
      ]
    },
    {
      "cell_type": "code",
      "execution_count": 19,
      "metadata": {
        "colab": {
          "base_uri": "https://localhost:8080/",
          "height": 322
        },
        "id": "fPY3iwfXyX6d",
        "outputId": "bc328c45-c0f4-4e2d-b4a1-f74f240c8c41"
      },
      "outputs": [
        {
          "name": "stdout",
          "output_type": "stream",
          "text": [
            "Please enter the original image filename: testimg.bmp\n"
          ]
        },
        {
          "output_type": "display_data",
          "data": {
            "text/plain": [
              "<Figure size 1200x600 with 2 Axes>"
            ],
            "image/png": "[encoded data removed]"
          },
          "metadata": {}
        },
        {
          "output_type": "stream",
          "name": "stdout",
          "text": [
            "Original image size: 68350554 bytes\n",
            "Returned image size: 68350554 bytes\n"
          ]
        }
      ],
      "source": [
        "from PIL import Image\n",
        "import matplotlib.pyplot as plt\n",
        "import os\n",
        "\n",
        "# Display the original image\n",
        "original_image = input(\"Please enter the original image filename: \")\n",
        "original_img = Image.open(original_image)\n",
        "plt.figure(figsize=(12, 6))\n",
        "\n",
        "plt.subplot(1, 2, 1)\n",
        "plt.imshow(original_img)\n",
        "plt.title('Original Image')\n",
        "plt.axis('off')\n",
        "\n",
        "# Display the returned image\n",
        "decompressed_img = Image.open('openmp_output.bmp')\n",
        "plt.subplot(1, 2, 2)\n",
        "plt.imshow(decompressed_img)\n",
        "plt.title('Returned Image')\n",
        "plt.axis('off')\n",
        "\n",
        "plt.show()\n",
        "\n",
        "# Print the size of the original and returned images\n",
        "original_file_size = os.path.getsize(original_image)\n",
        "decompressed_file_size = os.path.getsize('openmp_output.bmp')\n",
        "print(f\"Original image size: {original_file_size} bytes\")\n",
        "print(f\"Returned image size: {decompressed_file_size} bytes\")"
      ]
    },
    {
      "cell_type": "markdown",
      "metadata": {
        "id": "Crt257JKW-MC"
      },
      "source": [
        "###**g) Comparing similarity and sizes of Images**"
      ]
    },
    {
      "cell_type": "code",
      "execution_count": 20,
      "metadata": {
        "colab": {
          "base_uri": "https://localhost:8080/"
        },
        "id": "L9YE6bjmkclp",
        "outputId": "55749be8-e690-4479-d519-86d9bf7206ae"
      },
      "outputs": [
        {
          "output_type": "stream",
          "name": "stdout",
          "text": [
            "MSE: 0.0155246\n",
            "[ WARN:0] global ./modules/core/src/matrix_expressions.cpp (1333) assign OpenCV/MatExpr: processing of multi-channel arrays might be changed in the future: https://github.com/opencv/opencv/issues/16739\n",
            "[ WARN:0] global ./modules/core/src/matrix_expressions.cpp (1325) assign OpenCV/MatExpr: processing of multi-channel arrays might be changed in the future: https://github.com/opencv/opencv/issues/16739\n",
            "SSIM: 0.999729\n"
          ]
        }
      ],
      "source": [
        "!./compare_images testimg.bmp openmp_output.bmp"
      ]
    },
    {
      "cell_type": "code",
      "source": [
        "%%writefile compare_file_sizes.cpp\n",
        "#include <iostream>\n",
        "#include <filesystem>\n",
        "#include <vector>\n",
        "\n",
        "int main() {\n",
        "    std::string prefix = \"op_channel_\";\n",
        "    std::string originalFile = \"testimg.bmp\";\n",
        "    long totalCompressedSize = 0;\n",
        "\n",
        "    // Use a vector to store the filenames that match the prefix\n",
        "    std::vector<std::string> compressedFiles;\n",
        "\n",
        "    // Iterate through the current directory to find relevant files\n",
        "    for (const auto& entry : std::filesystem::directory_iterator(\".\")) {\n",
        "        if (entry.is_regular_file()) {\n",
        "            std::string filename = entry.path().filename().string();\n",
        "            // Check if the filename starts with the prefix using rfind\n",
        "            if (filename.rfind(prefix, 0) == 0) {  // Check if the prefix matches\n",
        "                compressedFiles.push_back(entry.path().string());\n",
        "                totalCompressedSize += std::filesystem::file_size(entry.path());  // Directly get file size\n",
        "            }\n",
        "        }\n",
        "    }\n",
        "\n",
        "    long originalSize = std::filesystem::file_size(originalFile);  // Directly get file size\n",
        "\n",
        "    // Check for errors\n",
        "    if (totalCompressedSize == 0 || originalSize == 0) {\n",
        "        std::cerr << \"Error: Unable to determine file sizes.\\n\";\n",
        "        return -1;\n",
        "    }\n",
        "\n",
        "    // Output the sizes\n",
        "    std::cout << \"Size of compressed: \" << totalCompressedSize << \" bytes\\n\";\n",
        "    std::cout << \"Size of original: \" << originalSize << \" bytes\\n\";\n",
        "\n",
        "    // Calculate the compression ratio\n",
        "    double compressionRatio = static_cast<double>(originalSize) / totalCompressedSize;\n",
        "    std::cout << \"Compression Ratio: \" << compressionRatio << \":1\\n\";\n",
        "\n",
        "    return 0;\n",
        "}\n"
      ],
      "metadata": {
        "colab": {
          "base_uri": "https://localhost:8080/"
        },
        "id": "9L48_mBlr9VZ",
        "outputId": "12face1f-cc24-49f5-cfcb-69e70e18a607"
      },
      "execution_count": 21,
      "outputs": [
        {
          "output_type": "stream",
          "name": "stdout",
          "text": [
            "Overwriting compare_file_sizes.cpp\n"
          ]
        }
      ]
    },
    {
      "cell_type": "code",
      "source": [
        "!g++ compare_file_sizes.cpp -o compare_file_sizes\n",
        "!./compare_file_sizes"
      ],
      "metadata": {
        "colab": {
          "base_uri": "https://localhost:8080/"
        },
        "id": "N-urMSwWvWX_",
        "outputId": "78b7cbbd-5e9f-4f73-c5b3-65ce8c23467c"
      },
      "execution_count": 22,
      "outputs": [
        {
          "output_type": "stream",
          "name": "stdout",
          "text": [
            "Size of compressed: 5590200 bytes\n",
            "Size of original: 68350554 bytes\n",
            "Compression Ratio: 12.2269:1\n"
          ]
        }
      ]
    },
    {
      "cell_type": "markdown",
      "metadata": {
        "id": "mT-LB77oacMv"
      },
      "source": [
        "<hr/>"
      ]
    },
    {
      "cell_type": "markdown",
      "metadata": {
        "id": "KqSMxZJcvkgl"
      },
      "source": [
        "## **3. CUDA Code**"
      ]
    },
    {
      "cell_type": "markdown",
      "metadata": {
        "id": "ZC2YtZNJZ7Le"
      },
      "source": [
        "###**a) Accept input via Upload**"
      ]
    },
    {
      "cell_type": "code",
      "execution_count": null,
      "metadata": {
        "colab": {
          "base_uri": "https://localhost:8080/",
          "height": 71
        },
        "id": "lCGf_LYca82W",
        "outputId": "2c981da8-bf1d-4317-aee5-9843bce9f23c"
      },
      "outputs": [
        {
          "data": {
            "text/html": [
              "\n",
              "     <input type=\"file\" id=\"files-8e70d5f4-c27c-4036-a601-6174f21185f7\" name=\"files[]\" multiple disabled\n",
              "        style=\"border:none\" />\n",
              "     <output id=\"result-8e70d5f4-c27c-4036-a601-6174f21185f7\">\n",
              "      Upload widget is only available when the cell has been executed in the\n",
              "      current browser session. Please rerun this cell to enable.\n",
              "      </output>\n",
              "      <script>// Copyright 2017 Google LLC\n",
              "//\n",
              "// Licensed under the Apache License, Version 2.0 (the \"License\");\n",
              "// you may not use this file except in compliance with the License.\n",
              "// You may obtain a copy of the License at\n",
              "//\n",
              "//      http://www.apache.org/licenses/LICENSE-2.0\n",
              "//\n",
              "// Unless required by applicable law or agreed to in writing, software\n",
              "// distributed under the License is distributed on an \"AS IS\" BASIS,\n",
              "// WITHOUT WARRANTIES OR CONDITIONS OF ANY KIND, either express or implied.\n",
              "// See the License for the specific language governing permissions and\n",
              "// limitations under the License.\n",
              "\n",
              "/**\n",
              " * @fileoverview Helpers for google.colab Python module.\n",
              " */\n",
              "(function(scope) {\n",
              "function span(text, styleAttributes = {}) {\n",
              "  const element = document.createElement('span');\n",
              "  element.textContent = text;\n",
              "  for (const key of Object.keys(styleAttributes)) {\n",
              "    element.style[key] = styleAttributes[key];\n",
              "  }\n",
              "  return element;\n",
              "}\n",
              "\n",
              "// Max number of bytes which will be uploaded at a time.\n",
              "const MAX_PAYLOAD_SIZE = 100 * 1024;\n",
              "\n",
              "function _uploadFiles(inputId, outputId) {\n",
              "  const steps = uploadFilesStep(inputId, outputId);\n",
              "  const outputElement = document.getElementById(outputId);\n",
              "  // Cache steps on the outputElement to make it available for the next call\n",
              "  // to uploadFilesContinue from Python.\n",
              "  outputElement.steps = steps;\n",
              "\n",
              "  return _uploadFilesContinue(outputId);\n",
              "}\n",
              "\n",
              "// This is roughly an async generator (not supported in the browser yet),\n",
              "// where there are multiple asynchronous steps and the Python side is going\n",
              "// to poll for completion of each step.\n",
              "// This uses a Promise to block the python side on completion of each step,\n",
              "// then passes the result of the previous step as the input to the next step.\n",
              "function _uploadFilesContinue(outputId) {\n",
              "  const outputElement = document.getElementById(outputId);\n",
              "  const steps = outputElement.steps;\n",
              "\n",
              "  const next = steps.next(outputElement.lastPromiseValue);\n",
              "  return Promise.resolve(next.value.promise).then((value) => {\n",
              "    // Cache the last promise value to make it available to the next\n",
              "    // step of the generator.\n",
              "    outputElement.lastPromiseValue = value;\n",
              "    return next.value.response;\n",
              "  });\n",
              "}\n",
              "\n",
              "/**\n",
              " * Generator function which is called between each async step of the upload\n",
              " * process.\n",
              " * @param {string} inputId Element ID of the input file picker element.\n",
              " * @param {string} outputId Element ID of the output display.\n",
              " * @return {!Iterable<!Object>} Iterable of next steps.\n",
              " */\n",
              "function* uploadFilesStep(inputId, outputId) {\n",
              "  const inputElement = document.getElementById(inputId);\n",
              "  inputElement.disabled = false;\n",
              "\n",
              "  const outputElement = document.getElementById(outputId);\n",
              "  outputElement.innerHTML = '';\n",
              "\n",
              "  const pickedPromise = new Promise((resolve) => {\n",
              "    inputElement.addEventListener('change', (e) => {\n",
              "      resolve(e.target.files);\n",
              "    });\n",
              "  });\n",
              "\n",
              "  const cancel = document.createElement('button');\n",
              "  inputElement.parentElement.appendChild(cancel);\n",
              "  cancel.textContent = 'Cancel upload';\n",
              "  const cancelPromise = new Promise((resolve) => {\n",
              "    cancel.onclick = () => {\n",
              "      resolve(null);\n",
              "    };\n",
              "  });\n",
              "\n",
              "  // Wait for the user to pick the files.\n",
              "  const files = yield {\n",
              "    promise: Promise.race([pickedPromise, cancelPromise]),\n",
              "    response: {\n",
              "      action: 'starting',\n",
              "    }\n",
              "  };\n",
              "\n",
              "  cancel.remove();\n",
              "\n",
              "  // Disable the input element since further picks are not allowed.\n",
              "  inputElement.disabled = true;\n",
              "\n",
              "  if (!files) {\n",
              "    return {\n",
              "      response: {\n",
              "        action: 'complete',\n",
              "      }\n",
              "    };\n",
              "  }\n",
              "\n",
              "  for (const file of files) {\n",
              "    const li = document.createElement('li');\n",
              "    li.append(span(file.name, {fontWeight: 'bold'}));\n",
              "    li.append(span(\n",
              "        `(${file.type || 'n/a'}) - ${file.size} bytes, ` +\n",
              "        `last modified: ${\n",
              "            file.lastModifiedDate ? file.lastModifiedDate.toLocaleDateString() :\n",
              "                                    'n/a'} - `));\n",
              "    const percent = span('0% done');\n",
              "    li.appendChild(percent);\n",
              "\n",
              "    outputElement.appendChild(li);\n",
              "\n",
              "    const fileDataPromise = new Promise((resolve) => {\n",
              "      const reader = new FileReader();\n",
              "      reader.onload = (e) => {\n",
              "        resolve(e.target.result);\n",
              "      };\n",
              "      reader.readAsArrayBuffer(file);\n",
              "    });\n",
              "    // Wait for the data to be ready.\n",
              "    let fileData = yield {\n",
              "      promise: fileDataPromise,\n",
              "      response: {\n",
              "        action: 'continue',\n",
              "      }\n",
              "    };\n",
              "\n",
              "    // Use a chunked sending to avoid message size limits. See b/62115660.\n",
              "    let position = 0;\n",
              "    do {\n",
              "      const length = Math.min(fileData.byteLength - position, MAX_PAYLOAD_SIZE);\n",
              "      const chunk = new Uint8Array(fileData, position, length);\n",
              "      position += length;\n",
              "\n",
              "      const base64 = btoa(String.fromCharCode.apply(null, chunk));\n",
              "      yield {\n",
              "        response: {\n",
              "          action: 'append',\n",
              "          file: file.name,\n",
              "          data: base64,\n",
              "        },\n",
              "      };\n",
              "\n",
              "      let percentDone = fileData.byteLength === 0 ?\n",
              "          100 :\n",
              "          Math.round((position / fileData.byteLength) * 100);\n",
              "      percent.textContent = `${percentDone}% done`;\n",
              "\n",
              "    } while (position < fileData.byteLength);\n",
              "  }\n",
              "\n",
              "  // All done.\n",
              "  yield {\n",
              "    response: {\n",
              "      action: 'complete',\n",
              "    }\n",
              "  };\n",
              "}\n",
              "\n",
              "scope.google = scope.google || {};\n",
              "scope.google.colab = scope.google.colab || {};\n",
              "scope.google.colab._files = {\n",
              "  _uploadFiles,\n",
              "  _uploadFilesContinue,\n",
              "};\n",
              "})(self);\n",
              "</script> "
            ],
            "text/plain": [
              "<IPython.core.display.HTML object>"
            ]
          },
          "metadata": {},
          "output_type": "display_data"
        },
        {
          "name": "stdout",
          "output_type": "stream",
          "text": [
            "Saving testimg.png to testimg.png\n"
          ]
        }
      ],
      "source": [
        "from google.colab import files\n",
        "\n",
        "# Upload the image\n",
        "uploaded = files.upload()\n",
        "input_image = list(uploaded.keys())[0]"
      ]
    },
    {
      "cell_type": "markdown",
      "metadata": {
        "id": "ecgf0KldaC9a"
      },
      "source": [
        "###**b) Accept input via Command Line**"
      ]
    },
    {
      "cell_type": "code",
      "execution_count": null,
      "metadata": {
        "colab": {
          "base_uri": "https://localhost:8080/"
        },
        "id": "_Zi516QMbola",
        "outputId": "abaee59d-780c-41d4-fec5-1e1370b8a854"
      },
      "outputs": [
        {
          "name": "stdout",
          "output_type": "stream",
          "text": [
            "--2024-09-16 16:11:46--  https://svs.gsfc.nasa.gov/vis/a020000/a020200/a020255/frames/3840x2160_16x9_60p/Shot48/Shot48Frames/Shot48.00000.png\n",
            "Resolving svs.gsfc.nasa.gov (svs.gsfc.nasa.gov)... 169.154.143.10, 2001:4d0:2418:143::10\n",
            "Connecting to svs.gsfc.nasa.gov (svs.gsfc.nasa.gov)|169.154.143.10|:443... connected.\n",
            "HTTP request sent, awaiting response... 200 OK\n",
            "Length: 11402446 (11M) [image/png]\n",
            "Saving to: ‘input_image.png’\n",
            "\n",
            "input_image.png     100%[===================>]  10.87M  2.08MB/s    in 5.4s    \n",
            "\n",
            "2024-09-16 16:11:52 (2.00 MB/s) - ‘input_image.png’ saved [11402446/11402446]\n",
            "\n"
          ]
        }
      ],
      "source": [
        "# To get the cat image from Github\n",
        "!wget https://raw.githubusercontent.com/RyankTheDS/Near-Lossless-Image-Compression-using-DCT/refs/heads/main/images/testimg.png"
      ]
    },
    {
      "cell_type": "code",
      "source": [
        "# To get the dark image from Github\n",
        "!wget -O testimg.png https://raw.githubusercontent.com/RyankTheDS/Near-Lossless-Image-Compression-using-DCT/refs/heads/main/images/dark.png"
      ],
      "metadata": {
        "id": "0TO_UTyv2rKY"
      },
      "execution_count": null,
      "outputs": []
    },
    {
      "cell_type": "code",
      "source": [
        "# To get the NASA image from NASA directly (Way 1)\n",
        "!wget -O testimg.png https://svs.gsfc.nasa.gov/vis/a030000/a030000/a030028/frames/6750x3375_2x1_30p/split-750m/dnb_land_ocean_ice.2012.13500x13500.A1-0000.png"
      ],
      "metadata": {
        "id": "1XsgiT2F2rS7"
      },
      "execution_count": null,
      "outputs": []
    },
    {
      "cell_type": "code",
      "source": [
        "# To get the NASA image from Github (Way 2)\n",
        "!wget -O testimg.png https://raw.githubusercontent.com/RyankTheDS/Near-Lossless-Image-Compression-using-DCT/refs/heads/main/images/dnb_land_ocean_ice.2012.13500x13500.A1-0000.png"
      ],
      "metadata": {
        "id": "KkNzuktV2rc0"
      },
      "execution_count": null,
      "outputs": []
    },
    {
      "cell_type": "markdown",
      "metadata": {
        "id": "Cd9DXZvzaLKO"
      },
      "source": [
        "###**c) For Comparing Images in terms of MSE and SSIM (verification code)**"
      ]
    },
    {
      "cell_type": "code",
      "execution_count": null,
      "metadata": {
        "colab": {
          "base_uri": "https://localhost:8080/"
        },
        "id": "ylrvuuCBby82",
        "outputId": "aabc5817-b7da-4831-803e-158b22086588"
      },
      "outputs": [
        {
          "output_type": "stream",
          "name": "stdout",
          "text": [
            "Writing compare_images.cpp\n"
          ]
        }
      ],
      "source": [
        "%%writefile compare_images.cpp\n",
        "#include <opencv2/opencv.hpp>\n",
        "#include <opencv2/core.hpp>\n",
        "#include <opencv2/imgproc.hpp>\n",
        "#include <opencv2/highgui.hpp>\n",
        "#include <opencv2/imgcodecs.hpp>\n",
        "#include <iostream>\n",
        "#include <cmath>\n",
        "\n",
        "using namespace cv;\n",
        "using namespace std;\n",
        "\n",
        "// Function to compute Mean Squared Error (MSE)\n",
        "double computeMSE(const Mat& img1, const Mat& img2) {\n",
        "    Mat s1;\n",
        "    absdiff(img1, img2, s1);  // absolute difference\n",
        "    s1.convertTo(s1, CV_32F);  // convert to float\n",
        "\n",
        "    s1 = s1.mul(s1);  // square\n",
        "\n",
        "    Scalar s = sum(s1);  // sum all pixels\n",
        "\n",
        "    double mse = (s[0] + s[1] + s[2]) / (double)(img1.channels() * img1.total());\n",
        "    return mse;\n",
        "}\n",
        "\n",
        "// Function to compute SSIM\n",
        "Scalar computeSSIM(const Mat& img1, const Mat& img2) {\n",
        "    const double C1 = 6.5025, C2 = 58.5225;\n",
        "    Mat I1, I2;\n",
        "    img1.convertTo(I1, CV_32F);  // convert to float\n",
        "    img2.convertTo(I2, CV_32F);\n",
        "\n",
        "    Mat I1_2 = I1.mul(I1);  // I1^2\n",
        "    Mat I2_2 = I2.mul(I2);  // I2^2\n",
        "    Mat I1_I2 = I1.mul(I2);  // I1 * I2\n",
        "\n",
        "    Mat mu1, mu2;\n",
        "    GaussianBlur(I1, mu1, Size(11, 11), 1.5);\n",
        "    GaussianBlur(I2, mu2, Size(11, 11), 1.5);\n",
        "\n",
        "    Mat mu1_2 = mu1.mul(mu1);\n",
        "    Mat mu2_2 = mu2.mul(mu2);\n",
        "    Mat mu1_mu2 = mu1.mul(mu2);\n",
        "\n",
        "    Mat sigma1_2, sigma2_2, sigma12;\n",
        "    GaussianBlur(I1_2, sigma1_2, Size(11, 11), 1.5);\n",
        "    GaussianBlur(I2_2, sigma2_2, Size(11, 11), 1.5);\n",
        "    GaussianBlur(I1_I2, sigma12, Size(11, 11), 1.5);\n",
        "\n",
        "    sigma1_2 -= mu1_2;\n",
        "    sigma2_2 -= mu2_2;\n",
        "    sigma12 -= mu1_mu2;\n",
        "\n",
        "    Mat t1, t2, t3;\n",
        "    t1 = 2 * mu1_mu2 + C1;\n",
        "    t2 = 2 * sigma12 + C2;\n",
        "    t3 = t1.mul(t2);  // t3 = (2*mu1_mu2 + C1).*(2*sigma12 + C2)\n",
        "\n",
        "    t1 = mu1_2 + mu2_2 + C1;\n",
        "    t2 = sigma1_2 + sigma2_2 + C2;\n",
        "    t1 = t1.mul(t2);  // t1 = (mu1_2 + mu2_2 + C1).*(sigma1_2 + sigma2_2 + C2)\n",
        "\n",
        "    Mat ssim_map;\n",
        "    divide(t3, t1, ssim_map);  // ssim_map = t3 ./ t1\n",
        "    Scalar mssim = mean(ssim_map);  // mssim = average of ssim map\n",
        "    return mssim;\n",
        "}\n",
        "\n",
        "int main(int argc, char** argv) {\n",
        "    if (argc != 3) {\n",
        "        cout << \"Usage: ./compare_images <image1> <image2>\" << endl;\n",
        "        return -1;\n",
        "    }\n",
        "\n",
        "    Mat img1 = imread(argv[1], IMREAD_COLOR);\n",
        "    Mat img2 = imread(argv[2], IMREAD_COLOR);\n",
        "\n",
        "    if (img1.empty() || img2.empty()) {\n",
        "        cout << \"Could not open or find the images.\" << endl;\n",
        "        return -1;\n",
        "    }\n",
        "\n",
        "    // Compute MSE\n",
        "    double mse = computeMSE(img1, img2);\n",
        "    cout << \"MSE: \" << mse << endl;\n",
        "\n",
        "    // Compute SSIM\n",
        "    Scalar ssim = computeSSIM(img1, img2);\n",
        "    cout << \"SSIM: \" << ssim[0] << endl;\n",
        "\n",
        "    return 0;\n",
        "}"
      ]
    },
    {
      "cell_type": "code",
      "execution_count": null,
      "metadata": {
        "id": "vDab1iBPc7PL"
      },
      "outputs": [],
      "source": [
        "!g++ compare_images.cpp -o compare_images `pkg-config --cflags --libs opencv4`"
      ]
    },
    {
      "cell_type": "markdown",
      "metadata": {
        "id": "OiQdtUS0aTCi"
      },
      "source": [
        "###**d) Compression and Decompression Code**"
      ]
    },
    {
      "cell_type": "code",
      "execution_count": 23,
      "metadata": {
        "colab": {
          "base_uri": "https://localhost:8080/"
        },
        "id": "-fgmV4lV7Ggw",
        "outputId": "a14b9266-f730-4c16-daef-eab53103128a"
      },
      "outputs": [
        {
          "output_type": "stream",
          "name": "stdout",
          "text": [
            "Writing dct_idct_zigzagrle.cu\n"
          ]
        }
      ],
      "source": [
        "%%writefile dct_idct_zigzagrle.cu\n",
        "#include <cuda_runtime.h>\n",
        "#include <opencv2/opencv.hpp>\n",
        "#include <iostream>\n",
        "#include <vector>\n",
        "#include <fstream>\n",
        "#include <chrono>\n",
        "#include <cmath>\n",
        "#include <algorithm>\n",
        "#include <string>\n",
        "#include <filesystem>\n",
        "\n",
        "\n",
        "#define BLOCK_SIZE 8\n",
        "\n",
        "// Precomputed Cosine Values for 8x8 DCT and IDCT (stored in constant memory)\n",
        "__constant__ float d_cos[64];\n",
        "\n",
        "// Zig-Zag scan order (stored in constant memory)\n",
        "int zigzagOrder[64] = {\n",
        "    0, 1, 5, 6, 14, 15, 27, 28,\n",
        "    2, 4, 7, 13, 16, 26, 29, 42,\n",
        "    3, 8, 12, 17, 25, 30, 41, 43,\n",
        "    9, 11, 18, 24, 31, 40, 44, 53,\n",
        "    10, 19, 23, 32, 39, 45, 52, 54,\n",
        "    20, 22, 33, 38, 46, 51, 55, 60,\n",
        "    21, 34, 37, 47, 50, 56, 59, 61,\n",
        "    35, 36, 48, 49, 57, 58, 62, 63\n",
        "};\n",
        "\n",
        "// CUDA Kernel for 8x8 DCT\n",
        "__global__ void dct8x8Kernel(float* d_image, int width, int height, int channel) {\n",
        "    __shared__ float block[BLOCK_SIZE][BLOCK_SIZE];\n",
        "    int x = blockIdx.x * BLOCK_SIZE + threadIdx.x;\n",
        "    int y = blockIdx.y * BLOCK_SIZE + threadIdx.y;\n",
        "\n",
        "    if (x < width && y < height) {\n",
        "        block[threadIdx.y][threadIdx.x] = d_image[(y * width + x) + channel * width * height];\n",
        "    }\n",
        "    __syncthreads();\n",
        "\n",
        "    float sum = 0.0f;\n",
        "    if (threadIdx.x < BLOCK_SIZE && threadIdx.y < BLOCK_SIZE) {\n",
        "        for (int u = 0; u < BLOCK_SIZE; ++u) {\n",
        "            for (int v = 0; v < BLOCK_SIZE; ++v) {\n",
        "                sum += block[u][v] * d_cos[threadIdx.y * BLOCK_SIZE + u] * d_cos[threadIdx.x * BLOCK_SIZE + v];\n",
        "            }\n",
        "        }\n",
        "        d_image[(y * width + x) + channel * width * height] = roundf(sum * 10) / 10;  // Quantization step\n",
        "    }\n",
        "}\n",
        "\n",
        "// CUDA Kernel for 8x8 IDCT\n",
        "__global__ void idct8x8Kernel(float* d_image, int width, int height, int channel) {\n",
        "    __shared__ float block[BLOCK_SIZE][BLOCK_SIZE];\n",
        "    int x = blockIdx.x * BLOCK_SIZE + threadIdx.x;\n",
        "    int y = blockIdx.y * BLOCK_SIZE + threadIdx.y;\n",
        "\n",
        "    if (x < width && y < height) {\n",
        "        block[threadIdx.y][threadIdx.x] = d_image[(y * width + x) + channel * width * height];\n",
        "    }\n",
        "    __syncthreads();\n",
        "\n",
        "    float sum = 0.0f;\n",
        "    if (threadIdx.x < BLOCK_SIZE && threadIdx.y < BLOCK_SIZE) {\n",
        "        for (int u = 0; u < BLOCK_SIZE; ++u) {\n",
        "            for (int v = 0; v < BLOCK_SIZE; ++v) {\n",
        "                sum += block[u][v] * d_cos[u * BLOCK_SIZE + threadIdx.y] * d_cos[v * BLOCK_SIZE + threadIdx.x];\n",
        "            }\n",
        "        }\n",
        "        d_image[(y * width + x) + channel * width * height] = sum;\n",
        "    }\n",
        "}\n",
        "\n",
        "// Zig-Zag ordering\n",
        "std::vector<float> zigzag(const float* block) {\n",
        "    std::vector<float> zz(64);\n",
        "    for (int i = 0; i < 64; ++i) {\n",
        "        zz[i] = block[zigzagOrder[i]];\n",
        "    }\n",
        "    return zz;\n",
        "}\n",
        "\n",
        "// Reverse Zig-Zag ordering\n",
        "void reverseZigzag(const std::vector<float>& zz, float* block) {\n",
        "    for (int i = 0; i < 64; ++i) {\n",
        "        block[zigzagOrder[i]] = zz[i];\n",
        "    }\n",
        "}\n",
        "\n",
        "// Run-Length Encoding (RLE)\n",
        "std::vector<std::pair<float, int>> runLengthEncode(const std::vector<float>& zz) {\n",
        "    std::vector<std::pair<float, int>> rle;\n",
        "    float lastVal = zz[0];\n",
        "    int count = 1;\n",
        "\n",
        "    for (size_t i = 1; i < zz.size(); ++i) {\n",
        "        if (zz[i] == lastVal) {\n",
        "            count++;\n",
        "        } else {\n",
        "            rle.push_back({ lastVal, count });\n",
        "            lastVal = zz[i];\n",
        "            count = 1;\n",
        "        }\n",
        "    }\n",
        "    rle.push_back({ lastVal, count });\n",
        "\n",
        "    return rle;\n",
        "}\n",
        "\n",
        "// Run-Length Decoding (RLD)\n",
        "std::vector<float> runLengthDecode(const std::vector<std::pair<float, int>>& rle) {\n",
        "    std::vector<float> zz;\n",
        "\n",
        "    for (const auto& pair : rle) {\n",
        "        for (int i = 0; i < pair.second; ++i) {\n",
        "            zz.push_back(pair.first);\n",
        "        }\n",
        "    }\n",
        "    return zz;\n",
        "}\n",
        "\n",
        "void splitImage(const cv::Mat& image, std::vector<cv::Mat>& channels) {\n",
        "    int numChannels = image.channels();\n",
        "    int rows = image.rows;\n",
        "    int cols = image.cols;\n",
        "\n",
        "    if (channels.size() != numChannels) {\n",
        "        std::cerr << \"The number of output channels does not match the number of channels in the image\" << std::endl;\n",
        "        return;\n",
        "    }\n",
        "\n",
        "    for (int i = 0; i < numChannels; ++i) {\n",
        "        channels[i] = cv::Mat(rows, cols, CV_32FC1); // Single-channel float image\n",
        "        for (int r = 0; r < rows; ++r) {\n",
        "            for (int c = 0; c < cols; ++c) {\n",
        "                cv::Vec3f pixel = image.at<cv::Vec3f>(r, c);\n",
        "                channels[i].at<float>(r, c) = pixel[i];\n",
        "            }\n",
        "        }\n",
        "    }\n",
        "}\n",
        "\n",
        "void mergeImage(const std::vector<cv::Mat>& channels, cv::Mat& mergedImage) {\n",
        "    int numChannels = channels.size();\n",
        "    int rows = channels[0].rows;\n",
        "    int cols = channels[0].cols;\n",
        "\n",
        "    if (numChannels != 3) {\n",
        "        std::cerr << \"This implementation only supports 3 channels (RGB)\" << std::endl;\n",
        "        return;\n",
        "    }\n",
        "\n",
        "    if (channels[0].empty() || channels[1].empty() || channels[2].empty()) {\n",
        "        std::cerr << \"One or more channels are empty or uninitialized\" << std::endl;\n",
        "        return;\n",
        "    }\n",
        "\n",
        "    // Initialize the merged image with the same size as the input channels\n",
        "    mergedImage.create(rows, cols, CV_32FC3); // 3-channel float image\n",
        "\n",
        "    for (int r = 0; r < rows; ++r) {\n",
        "        for (int c = 0; c < cols; ++c) {\n",
        "            cv::Vec3f pixel;\n",
        "            pixel[0] = channels[0].at<float>(r, c); // B channel\n",
        "            pixel[1] = channels[1].at<float>(r, c); // G channel\n",
        "            pixel[2] = channels[2].at<float>(r, c); // R channel\n",
        "            mergedImage.at<cv::Vec3f>(r, c) = pixel;\n",
        "        }\n",
        "    }\n",
        "}\n",
        "\n",
        "\n",
        "// Process an image by applying DCT, Quantization, Zig-Zag, and RLE\n",
        "void processImage(cv::Mat& paddedImg, float* d_image, int width, int height, int channels) {\n",
        "    dim3 blockDim(BLOCK_SIZE, BLOCK_SIZE);\n",
        "    dim3 gridDim((width + BLOCK_SIZE - 1) / BLOCK_SIZE, (height + BLOCK_SIZE - 1) / BLOCK_SIZE);\n",
        "\n",
        "    std::vector<cv::Mat> imageChannels(channels);\n",
        "    //cv::split(paddedImg, imageChannels);\n",
        "    splitImage(paddedImg, imageChannels);\n",
        "\n",
        "\n",
        "\n",
        "\n",
        "    //NEW CODE\n",
        "\n",
        "    for (int c = 0; c < channels; ++c) {\n",
        "        //***************************************COMPRESSION PHASE*************************************************************************\n",
        "        std::string filename = \"cuda_channel_\" + std::to_string(c) + \".bin\";\n",
        "        std::ofstream rleFileOut(filename, std::ios::out | std::ios::binary);\n",
        "        if (!rleFileOut.is_open()) {\n",
        "            std::cerr << \"Error opening file for writing: \" << filename << std::endl;\n",
        "            return;\n",
        "        }\n",
        "\n",
        "        // Copy the channel data to device\n",
        "        cudaMemcpy(d_image + c * width * height, imageChannels[c].ptr<float>(), width * height * sizeof(float), cudaMemcpyHostToDevice);\n",
        "\n",
        "        // Launch the DCT kernel\n",
        "        dct8x8Kernel<<<gridDim, blockDim>>>(d_image, width, height, c);\n",
        "        cudaDeviceSynchronize();\n",
        "\n",
        "        // Copy the processed channel back to host\n",
        "        cudaMemcpy(imageChannels[c].ptr<float>(), d_image + c * width * height, width * height * sizeof(float), cudaMemcpyDeviceToHost);\n",
        "\n",
        "        for (int y = 0; y < height; y += BLOCK_SIZE) {\n",
        "            for (int x = 0; x < width; x += BLOCK_SIZE) {\n",
        "                float block[64];\n",
        "                for (int by = 0; by < BLOCK_SIZE; ++by) {\n",
        "                    for (int bx = 0; bx < BLOCK_SIZE; ++bx) {\n",
        "                        block[by * BLOCK_SIZE + bx] = imageChannels[c].at<float>(y + by, x + bx);\n",
        "                    }\n",
        "                }\n",
        "\n",
        "                // Zig-Zag\n",
        "                std::vector<float> zz = zigzag(block);\n",
        "\n",
        "                // RLE Encoding\n",
        "                std::vector<std::pair<float, int>> rle = runLengthEncode(zz);\n",
        "\n",
        "\n",
        "                 // Write RLE encoded data to the .rle file\n",
        "                for (const auto& pair : rle) {\n",
        "                    // Convert the DCT coefficient to int16_t to save space\n",
        "                    int16_t quantizedValue = static_cast<int16_t>(round(pair.first));\n",
        "                    // Store the count as uint8_t (assuming counts fit in this range)\n",
        "                    uint8_t quantizedCount = static_cast<uint8_t>(std::min(pair.second, 255));  // Limit count to 255\n",
        "                    // Write the quantized value and count to the file\n",
        "                    rleFileOut.write(reinterpret_cast<const char*>(&quantizedValue), sizeof(quantizedValue));\n",
        "                    rleFileOut.write(reinterpret_cast<const char*>(&quantizedCount), sizeof(quantizedCount));\n",
        "                }\n",
        "            }\n",
        "        }\n",
        "        rleFileOut.close();\n",
        "        std::cout << \"Compression complete. Data saved \" << std::endl;\n",
        "        //*********************************************************************************************************************************\n",
        "        //***************************************DECOMPRESSION PHASE*************************************************************************\n",
        "        std::ifstream rleFileIn(filename, std::ios::in | std::ios::binary);\n",
        "        if (!rleFileIn.is_open()) {\n",
        "            std::cerr << \"Error opening file for writing: \" << filename << std::endl;\n",
        "            return;\n",
        "        }\n",
        "\n",
        "        for (int y = 0; y < height; y += BLOCK_SIZE) {\n",
        "            for (int x = 0; x < width; x += BLOCK_SIZE) {\n",
        "                float block[64];\n",
        "\n",
        "                // Read RLE encoded data from the .bin file\n",
        "                std::vector<std::pair<float, int>> rle;\n",
        "\n",
        "                // Read RLE encoded data for this block\n",
        "                for (int i = 0; i < 64;) {\n",
        "                    int16_t value;      // Read value as int16_t\n",
        "                    uint8_t count;      // Read count as uint8_t\n",
        "\n",
        "                    if (rleFileIn.read(reinterpret_cast<char*>(&value), sizeof(value)) &&\n",
        "                        rleFileIn.read(reinterpret_cast<char*>(&count), sizeof(count))) {\n",
        "                        //rle.push_back({value, count});\n",
        "                        rle.push_back({static_cast<float>(value), static_cast<int>(count)});\n",
        "                        i += count;  // Increment i by count\n",
        "                    } else {\n",
        "                        std::cerr << \"Error reading RLE data from file.\" << std::endl;\n",
        "                        break;  // In case of error, break out of the loop\n",
        "                    }\n",
        "                }\n",
        "\n",
        "                // RLE Decoding\n",
        "                std::vector<float> decodedZigZag = runLengthDecode(rle);\n",
        "\n",
        "                // Reverse Zig-Zag\n",
        "                reverseZigzag(decodedZigZag, block);\n",
        "                for (int by = 0; by < BLOCK_SIZE; ++by) {\n",
        "                    for (int bx = 0; bx < BLOCK_SIZE; ++bx) {\n",
        "                        imageChannels[c].at<float>(y + by, x + bx) = block[by * BLOCK_SIZE + bx];\n",
        "                    }\n",
        "                }\n",
        "            }\n",
        "        }\n",
        "\n",
        "\n",
        "        //*********************************************************************************************************************************\n",
        "        // Copy the modified image channel back to the GPU\n",
        "        cudaMemcpy(d_image + c * width * height, imageChannels[c].ptr<float>(), width * height * sizeof(float), cudaMemcpyHostToDevice);\n",
        "\n",
        "        // Launch the IDCT kernel\n",
        "        idct8x8Kernel<<<gridDim, blockDim>>>(d_image, width, height, c);\n",
        "        cudaDeviceSynchronize();\n",
        "\n",
        "        // Copy the processed channel back to host\n",
        "        cudaMemcpy(imageChannels[c].ptr<float>(), d_image + c * width * height, width * height * sizeof(float), cudaMemcpyDeviceToHost);\n",
        "        rleFileIn.close();\n",
        "        std::cout << \"Decompression complete. Image reconstructed.\" << std::endl;\n",
        "    }\n",
        "\n",
        "    mergeImage(imageChannels, paddedImg);\n",
        "}\n",
        "\n",
        "int main(int argc, char** argv) {\n",
        "    // Start timing for the overall program\n",
        "    std::string inputFilename = argv[1];\n",
        "    auto start = std::chrono::high_resolution_clock::now();\n",
        "\n",
        "    // Load the image using OpenCV\n",
        "    cv::Mat image = cv::imread(inputFilename, cv::IMREAD_COLOR);\n",
        "    if (image.empty()) {\n",
        "        std::cerr << \"Error: Could not open or find the image!\" << std::endl;\n",
        "        return -1;\n",
        "    }\n",
        "\n",
        "    // Pad the image to ensure dimensions are multiples of 8\n",
        "    int paddedRows = (image.rows + 7) & ~7;\n",
        "    int paddedCols = (image.cols + 7) & ~7;\n",
        "    cv::Mat paddedImg;\n",
        "    cv::copyMakeBorder(image, paddedImg, 0, paddedRows - image.rows, 0, paddedCols - image.cols, cv::BORDER_CONSTANT, cv::Scalar::all(0));\n",
        "\n",
        "    int width = paddedImg.cols;\n",
        "    int height = paddedImg.rows;\n",
        "    int channels = paddedImg.channels();\n",
        "\n",
        "    // Convert image to float and split into individual channels\n",
        "    paddedImg.convertTo(paddedImg, CV_32F);\n",
        "\n",
        "    // Allocate memory on the device (GPU)\n",
        "    float* d_image;\n",
        "    cudaMalloc(&d_image, width * height * channels * sizeof(float));\n",
        "\n",
        "    // Precomputed Cosine Values for 8x8 DCT and IDCT\n",
        "    float h_cos[64] = {\n",
        "        0.3536, 0.3536, 0.3536, 0.3536, 0.3536, 0.3536, 0.3536, 0.3536,\n",
        "        0.4904, 0.4157, 0.2778, 0.0975, -0.0975, -0.2778, -0.4157, -0.4904,\n",
        "        0.4619, 0.1913, -0.1913, -0.4619, -0.4619, -0.1913, 0.1913, 0.4619,\n",
        "        0.4157, -0.0975, -0.4904, -0.2778, 0.2778, 0.4904, 0.0975, -0.4157,\n",
        "        0.3536, -0.3536, -0.3536, 0.3536, 0.3536, -0.3536, -0.3536, 0.3536,\n",
        "        0.2778, -0.4904, 0.0975, 0.4157, -0.4157, -0.0975, 0.4904, -0.2778,\n",
        "        0.1913, -0.4619, 0.4619, -0.1913, -0.1913, 0.4619, -0.4619, 0.1913,\n",
        "        0.0975, -0.2778, 0.4157, -0.4904, 0.4904, -0.4157, 0.2778, -0.0975\n",
        "    };\n",
        "\n",
        "    // Copy precomputed cosine values to device constant memory\n",
        "    cudaMemcpyToSymbol(d_cos, h_cos, 64 * sizeof(float));\n",
        "\n",
        "    // Create CUDA events for GPU timing\n",
        "    cudaEvent_t startEvent, stopEvent;\n",
        "    cudaEventCreate(&startEvent);\n",
        "    cudaEventCreate(&stopEvent);\n",
        "\n",
        "    // Record the start event\n",
        "    cudaEventRecord(startEvent, 0);\n",
        "\n",
        "    // Launch the kernel\n",
        "    //processImageKernel<<<dim3(width / 8, height / 8), dim3(8, 8)>>>(d_image, width, height, channels);\n",
        "\n",
        "    // Process the image (DCT, Quantization, Zig-Zag, RLE, etc.)\n",
        "    processImage(paddedImg, d_image, width, height, channels);\n",
        "\n",
        "    // Record the stop event\n",
        "    cudaEventRecord(stopEvent, 0);\n",
        "    cudaEventSynchronize(stopEvent);\n",
        "\n",
        "    // Calculate the elapsed time between the events\n",
        "    float gpuTime = 0.0f;\n",
        "    cudaEventElapsedTime(&gpuTime, startEvent, stopEvent);\n",
        "\n",
        "    // Clean up CUDA events\n",
        "    cudaEventDestroy(startEvent);\n",
        "    cudaEventDestroy(stopEvent);\n",
        "\n",
        "    // Convert back to 8-bit image and crop to original size\n",
        "    cv::Mat result;\n",
        "    paddedImg.convertTo(result, CV_8U);\n",
        "\n",
        "    // Crop to original size\n",
        "    result = result(cv::Rect(0, 0, image.cols, image.rows));\n",
        "\n",
        "    // Save the processed image\n",
        "    cv::imwrite(\"cuda_output.bmp\", result);\n",
        "\n",
        "    // End timing for the overall program\n",
        "    auto endTime = std::chrono::high_resolution_clock::now();\n",
        "    std::chrono::duration<double, std::milli> duration = endTime - start;\n",
        "\n",
        "    // Print the size of the output image\n",
        "    std::ifstream file(\"cuda_output.bmp\", std::ifstream::ate | std::ifstream::binary);\n",
        "    double size = static_cast<double>(file.tellg()) / 1024;  // Size in KB\n",
        "    std::cout << \"Returned image size: \" << size << \" KB\" << std::endl;\n",
        "    std::cout << \"GPU Time: \" << gpuTime << \" milliseconds\" << std::endl;\n",
        "    std::cout << \"Total Time (including I/O): \" << duration.count() << \" milliseconds\" << std::endl;\n",
        "\n",
        "    // Free GPU memory\n",
        "    cudaFree(d_image);\n",
        "\n",
        "    // Save GPU time and total time to CSV\n",
        "    std::ofstream timeFile;\n",
        "    timeFile.open(\"/content/CUDAcompression_times.csv\", std::ios::out);  // Open in append mode\n",
        "    if (timeFile.is_open()) {\n",
        "        timeFile << \"CUDA,\" << gpuTime << \",\" << duration.count() << \"\\n\";  // Save both GPU and total time\n",
        "        timeFile.close();\n",
        "    } else {\n",
        "        std::cerr << \"Unable to open file for writing!\" << std::endl;\n",
        "    }\n",
        "\n",
        "    std::vector<std::string> filenames = {\"cuda_channel_0.bin\", \"cuda_channel_1.bin\", \"cuda_channel_2.bin\"};\n",
        "\n",
        "    for (const auto& filename : filenames) {\n",
        "        std::string xzFilename = filename + \".xz\";\n",
        "\n",
        "        if (std::filesystem::exists(xzFilename)) {\n",
        "            std::string removeCommand = \"rm \" + xzFilename;\n",
        "            std::system(removeCommand.c_str());\n",
        "        }\n",
        "\n",
        "        std::string compressCommand = \"xz \" + filename;\n",
        "        int result = system(compressCommand.c_str());\n",
        "        if (result != 0) {\n",
        "            std::cerr << \"Error compressing file to .xz format.\" << std::endl;\n",
        "        }\n",
        "    }\n",
        "\n",
        "    for (const auto& filename : filenames) {\n",
        "        remove(filename.c_str());\n",
        "    }\n",
        "\n",
        "    return 0;\n",
        "}\n"
      ]
    },
    {
      "cell_type": "code",
      "execution_count": 24,
      "metadata": {
        "id": "yGjKcXsX8KRh"
      },
      "outputs": [],
      "source": [
        "!nvcc -o dct_idct_zigzagrle dct_idct_zigzagrle.cu $(pkg-config --cflags --libs opencv4) -lcudart -Xcompiler -Wno-unknown-warning-option -Xcompiler -Wno-611 -diag-suppress 611"
      ]
    },
    {
      "cell_type": "code",
      "execution_count": 25,
      "metadata": {
        "id": "Bp_-xoi78_hA",
        "colab": {
          "base_uri": "https://localhost:8080/"
        },
        "outputId": "67c8d3ae-6c17-441f-a9a5-c6fe1b5f75ee"
      },
      "outputs": [
        {
          "output_type": "stream",
          "name": "stdout",
          "text": [
            "Image loaded: 6750x3375, 3 original channels.\n",
            "Image is now converted to 3 channels (RGB).\n",
            "Successfully saved BMP as testimg.bmp\n"
          ]
        }
      ],
      "source": [
        "# For converting input image to bmp\n",
        "# Run the compiled program\n",
        "!./png_to_bmp testimg.png\n",
        "#!./png_to_bmp orangecat.png\n",
        "#!./png_to_bmp dark.png"
      ]
    },
    {
      "cell_type": "markdown",
      "metadata": {
        "id": "AEh72V2kb9F-"
      },
      "source": [
        "###**e) Time taken to encode and decode**"
      ]
    },
    {
      "cell_type": "code",
      "execution_count": 26,
      "metadata": {
        "colab": {
          "base_uri": "https://localhost:8080/"
        },
        "id": "f966KASC8_mo",
        "outputId": "99584a63-4463-4af0-a101-3b7ec0d96b56"
      },
      "outputs": [
        {
          "output_type": "stream",
          "name": "stdout",
          "text": [
            "Compression complete. Data saved \n",
            "Decompression complete. Image reconstructed.\n",
            "Compression complete. Data saved \n",
            "Decompression complete. Image reconstructed.\n",
            "Compression complete. Data saved \n",
            "Decompression complete. Image reconstructed.\n",
            "Returned image size: 66748.6 KB\n",
            "GPU Time: 14859 milliseconds\n",
            "Total Time (including I/O): 15590.5 milliseconds\n"
          ]
        }
      ],
      "source": [
        "!./dct_idct_zigzagrle testimg.bmp"
      ]
    },
    {
      "cell_type": "markdown",
      "metadata": {
        "id": "KiAO27vicINo"
      },
      "source": [
        "###**f) Appearance of Images**"
      ]
    },
    {
      "cell_type": "code",
      "execution_count": 27,
      "metadata": {
        "colab": {
          "base_uri": "https://localhost:8080/",
          "height": 322
        },
        "id": "0d28NjC_7Dww",
        "outputId": "2e814966-ccdf-4f51-b4fa-582b5ab8f068"
      },
      "outputs": [
        {
          "name": "stdout",
          "output_type": "stream",
          "text": [
            "Please enter the original image filename: testimg.bmp\n"
          ]
        },
        {
          "output_type": "display_data",
          "data": {
            "text/plain": [
              "<Figure size 1200x600 with 2 Axes>"
            ],
            "image/png": "[encoded data removed]"
          },
          "metadata": {}
        },
        {
          "output_type": "stream",
          "name": "stdout",
          "text": [
            "Original image size: 68350554 bytes\n",
            "Returned image size: 68350554 bytes\n"
          ]
        }
      ],
      "source": [
        "from PIL import Image\n",
        "import matplotlib.pyplot as plt\n",
        "import os\n",
        "\n",
        "# Display the original image\n",
        "original_image = input(\"Please enter the original image filename: \")\n",
        "original_img = Image.open(original_image)\n",
        "plt.figure(figsize=(12, 6))\n",
        "\n",
        "plt.subplot(1, 2, 1)\n",
        "plt.imshow(original_img)\n",
        "plt.title('Original Image')\n",
        "plt.axis('off')\n",
        "\n",
        "# Display the decompressed image\n",
        "decompressed_img = Image.open('cuda_output.bmp')\n",
        "plt.subplot(1, 2, 2)\n",
        "plt.imshow(decompressed_img)\n",
        "plt.title('Returned Image')\n",
        "plt.axis('off')\n",
        "\n",
        "plt.show()\n",
        "\n",
        "# Print the size of the original and compressed images\n",
        "original_file_size = os.path.getsize(original_image)\n",
        "decompressed_file_size = os.path.getsize('cuda_output.bmp')\n",
        "print(f\"Original image size: {original_file_size} bytes\")\n",
        "print(f\"Returned image size: {decompressed_file_size} bytes\")"
      ]
    },
    {
      "cell_type": "code",
      "execution_count": 46,
      "metadata": {
        "colab": {
          "base_uri": "https://localhost:8080/"
        },
        "id": "nhy7-watcr51",
        "outputId": "40c62251-0761-4127-a803-1a51e86a6a74"
      },
      "outputs": [
        {
          "output_type": "stream",
          "name": "stdout",
          "text": [
            "==10211== NVPROF is profiling process 10211, command: ./dct_idct_zigzagrle testimg.bmp\n",
            "Compression complete. Data saved \n",
            "Decompression complete. Image reconstructed.\n",
            "Compression complete. Data saved \n",
            "Decompression complete. Image reconstructed.\n",
            "Compression complete. Data saved \n",
            "Decompression complete. Image reconstructed.\n",
            "Returned image size: 66748.6 KB\n",
            "GPU Time: 15693.2 milliseconds\n",
            "Total Time (including I/O): 16397.2 milliseconds\n",
            "==10211== Profiling application: ./dct_idct_zigzagrle testimg.bmp\n",
            "==10211== Profiling result:\n",
            "            Type  Time(%)      Time     Calls       Avg       Min       Max  Name\n",
            " GPU activities:   46.25%  118.94ms         7  16.992ms     704ns  21.104ms  [CUDA memcpy HtoD]\n",
            "                   40.88%  105.13ms         6  17.522ms  16.506ms  18.905ms  [CUDA memcpy DtoH]\n",
            "                    7.50%  19.279ms         3  6.4262ms  6.4253ms  6.4273ms  idct8x8Kernel(float*, int, int, int)\n",
            "                    5.37%  13.818ms         3  4.6062ms  4.6059ms  4.6063ms  dct8x8Kernel(float*, int, int, int)\n",
            "      API calls:   64.92%  227.31ms        12  18.942ms  16.811ms  21.339ms  cudaMemcpy\n",
            "                   24.81%  86.874ms         1  86.874ms  86.874ms  86.874ms  cudaMalloc\n",
            "                    9.51%  33.307ms         6  5.5512ms  4.6145ms  6.4666ms  cudaDeviceSynchronize\n",
            "                    0.44%  1.5410ms         1  1.5410ms  1.5410ms  1.5410ms  cudaMemcpyToSymbol\n",
            "                    0.18%  613.64us         1  613.64us  613.64us  613.64us  cudaFree\n",
            "                    0.07%  250.90us         6  41.815us  29.019us  65.444us  cudaLaunchKernel\n",
            "                    0.04%  132.46us       114  1.1610us     145ns  51.818us  cuDeviceGetAttribute\n",
            "                    0.01%  34.370us         2  17.185us  8.0320us  26.338us  cudaEventRecord\n",
            "                    0.00%  12.882us         2  6.4410us  1.2170us  11.665us  cudaEventCreate\n",
            "                    0.00%  12.608us         1  12.608us  12.608us  12.608us  cuDeviceGetName\n",
            "                    0.00%  8.0240us         1  8.0240us  8.0240us  8.0240us  cudaEventSynchronize\n",
            "                    0.00%  5.3640us         1  5.3640us  5.3640us  5.3640us  cuDeviceGetPCIBusId\n",
            "                    0.00%  4.5150us         1  4.5150us  4.5150us  4.5150us  cuDeviceTotalMem\n",
            "                    0.00%  3.5400us         1  3.5400us  3.5400us  3.5400us  cudaEventElapsedTime\n",
            "                    0.00%  2.7390us         2  1.3690us     864ns  1.8750us  cudaEventDestroy\n",
            "                    0.00%  1.5580us         3     519ns     209ns  1.0350us  cuDeviceGetCount\n",
            "                    0.00%  1.1150us         2     557ns     183ns     932ns  cuDeviceGet\n",
            "                    0.00%     607ns         1     607ns     607ns     607ns  cuModuleGetLoadingMode\n",
            "                    0.00%     275ns         1     275ns     275ns     275ns  cuDeviceGetUuid\n"
          ]
        }
      ],
      "source": [
        "!nvprof ./dct_idct_zigzagrle testimg.bmp"
      ]
    },
    {
      "cell_type": "markdown",
      "metadata": {
        "id": "CcK9NVL1cOVZ"
      },
      "source": [
        "###**g) Comparing similarity and sizes of Images**"
      ]
    },
    {
      "cell_type": "code",
      "execution_count": 28,
      "metadata": {
        "colab": {
          "base_uri": "https://localhost:8080/"
        },
        "id": "tj7GrLhdca9F",
        "outputId": "cbe493c4-b770-449d-a22a-5dcf81820c9f"
      },
      "outputs": [
        {
          "output_type": "stream",
          "name": "stdout",
          "text": [
            "MSE: 0.0156454\n",
            "[ WARN:0] global ./modules/core/src/matrix_expressions.cpp (1333) assign OpenCV/MatExpr: processing of multi-channel arrays might be changed in the future: https://github.com/opencv/opencv/issues/16739\n",
            "[ WARN:0] global ./modules/core/src/matrix_expressions.cpp (1325) assign OpenCV/MatExpr: processing of multi-channel arrays might be changed in the future: https://github.com/opencv/opencv/issues/16739\n",
            "SSIM: 0.999726\n"
          ]
        }
      ],
      "source": [
        "!./compare_images testimg.bmp cuda_output.bmp"
      ]
    },
    {
      "cell_type": "code",
      "source": [
        "%%writefile compare_file_sizes.cpp\n",
        "#include <iostream>\n",
        "#include <string>\n",
        "#include <vector>\n",
        "#include <filesystem>\n",
        "\n",
        "int main() {\n",
        "    std::string directory = \".\";\n",
        "    long totalCompressedSize = 0;\n",
        "\n",
        "    // Iterate through the files in the directory\n",
        "    for (const auto& entry : std::filesystem::directory_iterator(directory)) {\n",
        "        if (entry.is_regular_file()) {\n",
        "            std::string filename = entry.path().filename().string();\n",
        "            // Check if the filename starts with \"cuda_channel_\"\n",
        "            if (filename.rfind(\"cuda_channel_\", 0) == 0) {  // Check if the prefix matches\n",
        "                totalCompressedSize += std::filesystem::file_size(entry.path());  // Get file size directly\n",
        "            }\n",
        "        }\n",
        "    }\n",
        "\n",
        "    // Get the size of the decompressed output file\n",
        "    std::string originalFile = \"testimg.bmp\";\n",
        "    long originalSize = std::filesystem::file_size(originalFile);  // Get file size directly\n",
        "\n",
        "    // Check for errors\n",
        "    if (totalCompressedSize == 0 || originalSize == 0) {\n",
        "        std::cerr << \"Error: Unable to determine file sizes.\\n\";\n",
        "        return -1;\n",
        "    }\n",
        "\n",
        "    // Output the sizes\n",
        "    std::cout << \"Size of compressed: \" << totalCompressedSize << \" bytes\\n\";\n",
        "    std::cout << \"Size of original: \" << originalSize << \" bytes\\n\";\n",
        "\n",
        "    // Calculate the compression ratio\n",
        "    double compressionRatio = static_cast<double>(originalSize) / totalCompressedSize;\n",
        "    std::cout << \"Compression Ratio: \" << compressionRatio << \":1\\n\";\n",
        "\n",
        "    return 0;\n",
        "}\n"
      ],
      "metadata": {
        "colab": {
          "base_uri": "https://localhost:8080/"
        },
        "id": "fEUCdUEVt9VF",
        "outputId": "7e034c38-5e1d-44a0-e102-a9ed810048ff"
      },
      "execution_count": 29,
      "outputs": [
        {
          "output_type": "stream",
          "name": "stdout",
          "text": [
            "Overwriting compare_file_sizes.cpp\n"
          ]
        }
      ]
    },
    {
      "cell_type": "code",
      "source": [
        "!g++ compare_file_sizes.cpp -o compare_file_sizes\n",
        "!./compare_file_sizes"
      ],
      "metadata": {
        "colab": {
          "base_uri": "https://localhost:8080/"
        },
        "id": "iOqBrcfnuSPL",
        "outputId": "dbb23829-9b35-4914-eac0-4d7409bc1ec8"
      },
      "execution_count": 30,
      "outputs": [
        {
          "output_type": "stream",
          "name": "stdout",
          "text": [
            "Size of compressed: 5680140 bytes\n",
            "Size of original: 68350554 bytes\n",
            "Compression Ratio: 12.0333:1\n"
          ]
        }
      ]
    },
    {
      "cell_type": "markdown",
      "metadata": {
        "id": "Vco-X49XftQJ"
      },
      "source": [
        "<hr/>"
      ]
    },
    {
      "cell_type": "markdown",
      "metadata": {
        "id": "SjRAQfBfvo1u"
      },
      "source": [
        "## **4. MPI Code**"
      ]
    },
    {
      "cell_type": "markdown",
      "metadata": {
        "id": "C-3dnon9fxuu"
      },
      "source": [
        "###**a) Accept input via Upload**"
      ]
    },
    {
      "cell_type": "code",
      "execution_count": null,
      "metadata": {
        "colab": {
          "base_uri": "https://localhost:8080/",
          "height": 71
        },
        "id": "Am-lWtYWg1V4",
        "outputId": "87d0ffb2-634d-4641-b614-cad84c078791"
      },
      "outputs": [
        {
          "data": {
            "text/html": [
              "\n",
              "     <input type=\"file\" id=\"files-6eba28ec-4fba-4c3a-9a35-f2064f2ce17c\" name=\"files[]\" multiple disabled\n",
              "        style=\"border:none\" />\n",
              "     <output id=\"result-6eba28ec-4fba-4c3a-9a35-f2064f2ce17c\">\n",
              "      Upload widget is only available when the cell has been executed in the\n",
              "      current browser session. Please rerun this cell to enable.\n",
              "      </output>\n",
              "      <script>// Copyright 2017 Google LLC\n",
              "//\n",
              "// Licensed under the Apache License, Version 2.0 (the \"License\");\n",
              "// you may not use this file except in compliance with the License.\n",
              "// You may obtain a copy of the License at\n",
              "//\n",
              "//      http://www.apache.org/licenses/LICENSE-2.0\n",
              "//\n",
              "// Unless required by applicable law or agreed to in writing, software\n",
              "// distributed under the License is distributed on an \"AS IS\" BASIS,\n",
              "// WITHOUT WARRANTIES OR CONDITIONS OF ANY KIND, either express or implied.\n",
              "// See the License for the specific language governing permissions and\n",
              "// limitations under the License.\n",
              "\n",
              "/**\n",
              " * @fileoverview Helpers for google.colab Python module.\n",
              " */\n",
              "(function(scope) {\n",
              "function span(text, styleAttributes = {}) {\n",
              "  const element = document.createElement('span');\n",
              "  element.textContent = text;\n",
              "  for (const key of Object.keys(styleAttributes)) {\n",
              "    element.style[key] = styleAttributes[key];\n",
              "  }\n",
              "  return element;\n",
              "}\n",
              "\n",
              "// Max number of bytes which will be uploaded at a time.\n",
              "const MAX_PAYLOAD_SIZE = 100 * 1024;\n",
              "\n",
              "function _uploadFiles(inputId, outputId) {\n",
              "  const steps = uploadFilesStep(inputId, outputId);\n",
              "  const outputElement = document.getElementById(outputId);\n",
              "  // Cache steps on the outputElement to make it available for the next call\n",
              "  // to uploadFilesContinue from Python.\n",
              "  outputElement.steps = steps;\n",
              "\n",
              "  return _uploadFilesContinue(outputId);\n",
              "}\n",
              "\n",
              "// This is roughly an async generator (not supported in the browser yet),\n",
              "// where there are multiple asynchronous steps and the Python side is going\n",
              "// to poll for completion of each step.\n",
              "// This uses a Promise to block the python side on completion of each step,\n",
              "// then passes the result of the previous step as the input to the next step.\n",
              "function _uploadFilesContinue(outputId) {\n",
              "  const outputElement = document.getElementById(outputId);\n",
              "  const steps = outputElement.steps;\n",
              "\n",
              "  const next = steps.next(outputElement.lastPromiseValue);\n",
              "  return Promise.resolve(next.value.promise).then((value) => {\n",
              "    // Cache the last promise value to make it available to the next\n",
              "    // step of the generator.\n",
              "    outputElement.lastPromiseValue = value;\n",
              "    return next.value.response;\n",
              "  });\n",
              "}\n",
              "\n",
              "/**\n",
              " * Generator function which is called between each async step of the upload\n",
              " * process.\n",
              " * @param {string} inputId Element ID of the input file picker element.\n",
              " * @param {string} outputId Element ID of the output display.\n",
              " * @return {!Iterable<!Object>} Iterable of next steps.\n",
              " */\n",
              "function* uploadFilesStep(inputId, outputId) {\n",
              "  const inputElement = document.getElementById(inputId);\n",
              "  inputElement.disabled = false;\n",
              "\n",
              "  const outputElement = document.getElementById(outputId);\n",
              "  outputElement.innerHTML = '';\n",
              "\n",
              "  const pickedPromise = new Promise((resolve) => {\n",
              "    inputElement.addEventListener('change', (e) => {\n",
              "      resolve(e.target.files);\n",
              "    });\n",
              "  });\n",
              "\n",
              "  const cancel = document.createElement('button');\n",
              "  inputElement.parentElement.appendChild(cancel);\n",
              "  cancel.textContent = 'Cancel upload';\n",
              "  const cancelPromise = new Promise((resolve) => {\n",
              "    cancel.onclick = () => {\n",
              "      resolve(null);\n",
              "    };\n",
              "  });\n",
              "\n",
              "  // Wait for the user to pick the files.\n",
              "  const files = yield {\n",
              "    promise: Promise.race([pickedPromise, cancelPromise]),\n",
              "    response: {\n",
              "      action: 'starting',\n",
              "    }\n",
              "  };\n",
              "\n",
              "  cancel.remove();\n",
              "\n",
              "  // Disable the input element since further picks are not allowed.\n",
              "  inputElement.disabled = true;\n",
              "\n",
              "  if (!files) {\n",
              "    return {\n",
              "      response: {\n",
              "        action: 'complete',\n",
              "      }\n",
              "    };\n",
              "  }\n",
              "\n",
              "  for (const file of files) {\n",
              "    const li = document.createElement('li');\n",
              "    li.append(span(file.name, {fontWeight: 'bold'}));\n",
              "    li.append(span(\n",
              "        `(${file.type || 'n/a'}) - ${file.size} bytes, ` +\n",
              "        `last modified: ${\n",
              "            file.lastModifiedDate ? file.lastModifiedDate.toLocaleDateString() :\n",
              "                                    'n/a'} - `));\n",
              "    const percent = span('0% done');\n",
              "    li.appendChild(percent);\n",
              "\n",
              "    outputElement.appendChild(li);\n",
              "\n",
              "    const fileDataPromise = new Promise((resolve) => {\n",
              "      const reader = new FileReader();\n",
              "      reader.onload = (e) => {\n",
              "        resolve(e.target.result);\n",
              "      };\n",
              "      reader.readAsArrayBuffer(file);\n",
              "    });\n",
              "    // Wait for the data to be ready.\n",
              "    let fileData = yield {\n",
              "      promise: fileDataPromise,\n",
              "      response: {\n",
              "        action: 'continue',\n",
              "      }\n",
              "    };\n",
              "\n",
              "    // Use a chunked sending to avoid message size limits. See b/62115660.\n",
              "    let position = 0;\n",
              "    do {\n",
              "      const length = Math.min(fileData.byteLength - position, MAX_PAYLOAD_SIZE);\n",
              "      const chunk = new Uint8Array(fileData, position, length);\n",
              "      position += length;\n",
              "\n",
              "      const base64 = btoa(String.fromCharCode.apply(null, chunk));\n",
              "      yield {\n",
              "        response: {\n",
              "          action: 'append',\n",
              "          file: file.name,\n",
              "          data: base64,\n",
              "        },\n",
              "      };\n",
              "\n",
              "      let percentDone = fileData.byteLength === 0 ?\n",
              "          100 :\n",
              "          Math.round((position / fileData.byteLength) * 100);\n",
              "      percent.textContent = `${percentDone}% done`;\n",
              "\n",
              "    } while (position < fileData.byteLength);\n",
              "  }\n",
              "\n",
              "  // All done.\n",
              "  yield {\n",
              "    response: {\n",
              "      action: 'complete',\n",
              "    }\n",
              "  };\n",
              "}\n",
              "\n",
              "scope.google = scope.google || {};\n",
              "scope.google.colab = scope.google.colab || {};\n",
              "scope.google.colab._files = {\n",
              "  _uploadFiles,\n",
              "  _uploadFilesContinue,\n",
              "};\n",
              "})(self);\n",
              "</script> "
            ],
            "text/plain": [
              "<IPython.core.display.HTML object>"
            ]
          },
          "metadata": {},
          "output_type": "display_data"
        },
        {
          "name": "stdout",
          "output_type": "stream",
          "text": [
            "Saving testimg.png to testimg.png\n"
          ]
        }
      ],
      "source": [
        "from google.colab import files\n",
        "\n",
        "# Upload the image\n",
        "uploaded = files.upload()\n",
        "input_image = list(uploaded.keys())[0]"
      ]
    },
    {
      "cell_type": "markdown",
      "metadata": {
        "id": "TDkMq-d1f2Z6"
      },
      "source": [
        "###**b) Accept input via Command Line**"
      ]
    },
    {
      "cell_type": "code",
      "execution_count": null,
      "metadata": {
        "colab": {
          "base_uri": "https://localhost:8080/"
        },
        "id": "JmAUA8-3g2Ke",
        "outputId": "98360f77-864d-40b5-bf7d-d147b5b81694"
      },
      "outputs": [
        {
          "name": "stdout",
          "output_type": "stream",
          "text": [
            "--2024-09-13 13:39:31--  https://svs.gsfc.nasa.gov/vis/a020000/a020200/a020255/frames/3840x2160_16x9_60p/Shot48/Shot48Frames/Shot48.00000.png\n",
            "Resolving svs.gsfc.nasa.gov (svs.gsfc.nasa.gov)... 169.154.143.10, 2001:4d0:2418:143::10\n",
            "Connecting to svs.gsfc.nasa.gov (svs.gsfc.nasa.gov)|169.154.143.10|:443... connected.\n",
            "HTTP request sent, awaiting response... 200 OK\n",
            "Length: 11402446 (11M) [image/png]\n",
            "Saving to: ‘input_image.png’\n",
            "\n",
            "input_image.png     100%[===================>]  10.87M  13.2MB/s    in 0.8s    \n",
            "\n",
            "2024-09-13 13:39:32 (13.2 MB/s) - ‘input_image.png’ saved [11402446/11402446]\n",
            "\n"
          ]
        }
      ],
      "source": [
        "# To get the cat image from Github\n",
        "!wget https://raw.githubusercontent.com/RyankTheDS/Near-Lossless-Image-Compression-using-DCT/refs/heads/main/images/testimg.png"
      ]
    },
    {
      "cell_type": "code",
      "source": [
        "# To get the dark image from Github\n",
        "!wget -O testimg.png https://raw.githubusercontent.com/RyankTheDS/Near-Lossless-Image-Compression-using-DCT/refs/heads/main/images/dark.png"
      ],
      "metadata": {
        "id": "4Eze0Rue2tUs"
      },
      "execution_count": null,
      "outputs": []
    },
    {
      "cell_type": "code",
      "source": [
        "# To get the NASA image from NASA directly (Way 1)\n",
        "!wget -O testimg.png https://svs.gsfc.nasa.gov/vis/a030000/a030000/a030028/frames/6750x3375_2x1_30p/split-750m/dnb_land_ocean_ice.2012.13500x13500.A1-0000.png"
      ],
      "metadata": {
        "id": "5opyPpU62tcs"
      },
      "execution_count": null,
      "outputs": []
    },
    {
      "cell_type": "code",
      "source": [
        "# To get the NASA image from Github (Way 2)\n",
        "!wget -O testimg.png https://raw.githubusercontent.com/RyankTheDS/Near-Lossless-Image-Compression-using-DCT/refs/heads/main/images/dnb_land_ocean_ice.2012.13500x13500.A1-0000.png"
      ],
      "metadata": {
        "id": "2hAz-nTW2tkJ"
      },
      "execution_count": null,
      "outputs": []
    },
    {
      "cell_type": "markdown",
      "metadata": {
        "id": "Lk9PMulSf8tI"
      },
      "source": [
        "###**c) For Comparing Images in terms of MSE and SSIM (verification code)**"
      ]
    },
    {
      "cell_type": "code",
      "execution_count": null,
      "metadata": {
        "colab": {
          "base_uri": "https://localhost:8080/"
        },
        "id": "tHJXJT6UgssP",
        "outputId": "c7a9ea4e-85d2-4873-e02b-d146018a71dd"
      },
      "outputs": [
        {
          "output_type": "stream",
          "name": "stdout",
          "text": [
            "Overwriting compare_images.cpp\n"
          ]
        }
      ],
      "source": [
        "%%writefile compare_images.cpp\n",
        "#include <opencv2/opencv.hpp>\n",
        "#include <opencv2/core.hpp>\n",
        "#include <opencv2/imgproc.hpp>\n",
        "#include <opencv2/highgui.hpp>\n",
        "#include <opencv2/imgcodecs.hpp>\n",
        "#include <iostream>\n",
        "#include <cmath>\n",
        "\n",
        "using namespace cv;\n",
        "using namespace std;\n",
        "\n",
        "// Function to compute Mean Squared Error (MSE)\n",
        "double computeMSE(const Mat& img1, const Mat& img2) {\n",
        "    Mat s1;\n",
        "    absdiff(img1, img2, s1);  // absolute difference\n",
        "    s1.convertTo(s1, CV_32F);  // convert to float\n",
        "\n",
        "    s1 = s1.mul(s1);  // square\n",
        "\n",
        "    Scalar s = sum(s1);  // sum all pixels\n",
        "\n",
        "    double mse = (s[0] + s[1] + s[2]) / (double)(img1.channels() * img1.total());\n",
        "    return mse;\n",
        "}\n",
        "\n",
        "// Function to compute SSIM\n",
        "Scalar computeSSIM(const Mat& img1, const Mat& img2) {\n",
        "    const double C1 = 6.5025, C2 = 58.5225;\n",
        "    Mat I1, I2;\n",
        "    img1.convertTo(I1, CV_32F);  // convert to float\n",
        "    img2.convertTo(I2, CV_32F);\n",
        "\n",
        "    Mat I1_2 = I1.mul(I1);  // I1^2\n",
        "    Mat I2_2 = I2.mul(I2);  // I2^2\n",
        "    Mat I1_I2 = I1.mul(I2);  // I1 * I2\n",
        "\n",
        "    Mat mu1, mu2;\n",
        "    GaussianBlur(I1, mu1, Size(11, 11), 1.5);\n",
        "    GaussianBlur(I2, mu2, Size(11, 11), 1.5);\n",
        "\n",
        "    Mat mu1_2 = mu1.mul(mu1);\n",
        "    Mat mu2_2 = mu2.mul(mu2);\n",
        "    Mat mu1_mu2 = mu1.mul(mu2);\n",
        "\n",
        "    Mat sigma1_2, sigma2_2, sigma12;\n",
        "    GaussianBlur(I1_2, sigma1_2, Size(11, 11), 1.5);\n",
        "    GaussianBlur(I2_2, sigma2_2, Size(11, 11), 1.5);\n",
        "    GaussianBlur(I1_I2, sigma12, Size(11, 11), 1.5);\n",
        "\n",
        "    sigma1_2 -= mu1_2;\n",
        "    sigma2_2 -= mu2_2;\n",
        "    sigma12 -= mu1_mu2;\n",
        "\n",
        "    Mat t1, t2, t3;\n",
        "    t1 = 2 * mu1_mu2 + C1;\n",
        "    t2 = 2 * sigma12 + C2;\n",
        "    t3 = t1.mul(t2);  // t3 = (2*mu1_mu2 + C1).*(2*sigma12 + C2)\n",
        "\n",
        "    t1 = mu1_2 + mu2_2 + C1;\n",
        "    t2 = sigma1_2 + sigma2_2 + C2;\n",
        "    t1 = t1.mul(t2);  // t1 = (mu1_2 + mu2_2 + C1).*(sigma1_2 + sigma2_2 + C2)\n",
        "\n",
        "    Mat ssim_map;\n",
        "    divide(t3, t1, ssim_map);  // ssim_map = t3 ./ t1\n",
        "    Scalar mssim = mean(ssim_map);  // mssim = average of ssim map\n",
        "    return mssim;\n",
        "}\n",
        "\n",
        "int main(int argc, char** argv) {\n",
        "    if (argc != 3) {\n",
        "        cout << \"Usage: ./compare_images <image1> <image2>\" << endl;\n",
        "        return -1;\n",
        "    }\n",
        "\n",
        "    Mat img1 = imread(argv[1], IMREAD_COLOR);\n",
        "    Mat img2 = imread(argv[2], IMREAD_COLOR);\n",
        "\n",
        "    if (img1.empty() || img2.empty()) {\n",
        "        cout << \"Could not open or find the images.\" << endl;\n",
        "        return -1;\n",
        "    }\n",
        "\n",
        "    // Compute MSE\n",
        "    double mse = computeMSE(img1, img2);\n",
        "    cout << \"MSE: \" << mse << endl;\n",
        "\n",
        "    // Compute SSIM\n",
        "    Scalar ssim = computeSSIM(img1, img2);\n",
        "    cout << \"SSIM: \" << ssim[0] << endl;\n",
        "\n",
        "    return 0;\n",
        "}"
      ]
    },
    {
      "cell_type": "code",
      "execution_count": null,
      "metadata": {
        "id": "dRcIA451guY8"
      },
      "outputs": [],
      "source": [
        "!g++ compare_images.cpp -o compare_images `pkg-config --cflags --libs opencv4`"
      ]
    },
    {
      "cell_type": "markdown",
      "metadata": {
        "id": "EqoUJvpNgDQD"
      },
      "source": [
        "###**d) Compression and Decompression Code**"
      ]
    },
    {
      "cell_type": "code",
      "execution_count": 31,
      "metadata": {
        "colab": {
          "base_uri": "https://localhost:8080/"
        },
        "id": "IKHfyhlpadYH",
        "outputId": "fffb0ae3-b0af-47a8-e196-da394c7adcc8"
      },
      "outputs": [
        {
          "output_type": "stream",
          "name": "stdout",
          "text": [
            "Overwriting compress_image.cpp\n"
          ]
        }
      ],
      "source": [
        "%%writefile compress_image.cpp\n",
        "#include <iostream>\n",
        "#include <chrono>\n",
        "#include \"mpi.h\"\n",
        "#include \"opencv2/opencv.hpp\"\n",
        "#include <fstream>\n",
        "#include <string>\n",
        "#include <cstdlib>\n",
        "#include <filesystem>\n",
        "\n",
        "\n",
        "// Function to perform 2D DCT\n",
        "void dct2(const cv::Mat& src, cv::Mat& dst) {\n",
        "    int M = src.rows;\n",
        "    int N = src.cols;\n",
        "    dst.create(M, N, CV_64F);\n",
        "\n",
        "    // Hardcoded cosine values for an 8x8 matrix for DCT\n",
        "    const double cosTableX[8][8] = {\n",
        "        {1.0, 0.980785, 0.923880, 0.831470, 0.707107, 0.555570, 0.382683, 0.195090},\n",
        "        {1.0, 0.831470, 0.382683, -0.195090, -0.707107, -0.980785, -0.923880, -0.555570},\n",
        "        {1.0, 0.555570, -0.382683, -0.980785, -0.707107, 0.195090, 0.923880, 0.831470},\n",
        "        {1.0, 0.195090, -0.923880, -0.555570, 0.707107, 0.831470, -0.382683, -0.980785},\n",
        "        {1.0, -0.195090, -0.923880, 0.555570, 0.707107, -0.831470, -0.382683, 0.980785},\n",
        "        {1.0, -0.555570, -0.382683, 0.980785, -0.707107, -0.195090, 0.923880, -0.831470},\n",
        "        {1.0, -0.831470, 0.382683, 0.195090, -0.707107, 0.980785, -0.923880, 0.555570},\n",
        "        {1.0, -0.980785, 0.923880, -0.831470, 0.707107, -0.555570, 0.382683, -0.195090}\n",
        "    };\n",
        "\n",
        "    const double cosTableY[8][8] = {\n",
        "        {1.0, 0.980785, 0.923880, 0.831470, 0.707107, 0.555570, 0.382683, 0.195090},\n",
        "        {1.0, 0.831470, 0.382683, -0.195090, -0.707107, -0.980785, -0.923880, -0.555570},\n",
        "        {1.0, 0.555570, -0.382683, -0.980785, -0.707107, 0.195090, 0.923880, 0.831470},\n",
        "        {1.0, 0.195090, -0.923880, -0.555570, 0.707107, 0.831470, -0.382683, -0.980785},\n",
        "        {1.0, -0.195090, -0.923880, 0.555570, 0.707107, -0.831470, -0.382683, 0.980785},\n",
        "        {1.0, -0.555570, -0.382683, 0.980785, -0.707107, -0.195090, 0.923880, -0.831470},\n",
        "        {1.0, -0.831470, 0.382683, 0.195090, -0.707107, 0.980785, -0.923880, 0.555570},\n",
        "        {1.0, -0.980785, 0.923880, -0.831470, 0.707107, -0.555570, 0.382683, -0.195090}\n",
        "    };\n",
        "\n",
        "    for (int u = 0; u < M; ++u) {\n",
        "        for (int v = 0; v < N; ++v) {\n",
        "            double sum = 0.0;\n",
        "            for (int x = 0; x < M; ++x) {\n",
        "                for (int y = 0; y < N; ++y) {\n",
        "                    //double cosX = cos(M_PI / M * (x + 0.5) * u);\n",
        "                    //double cosY = cos(M_PI / N * (y + 0.5) * v);\n",
        "                    sum += src.at<double>(x, y) * cosTableX[x][u] * cosTableY[y][v];;\n",
        "                }\n",
        "            }\n",
        "            double C_u = (u == 0) ? sqrt(1.0 / M) : sqrt(2.0 / M);\n",
        "            double C_v = (v == 0) ? sqrt(1.0 / N) : sqrt(2.0 / N);\n",
        "            dst.at<double>(u, v) = C_u * C_v * sum;\n",
        "        }\n",
        "    }\n",
        "}\n",
        "\n",
        "// Function to perform 2D IDCT\n",
        "void idct2(const cv::Mat& src, cv::Mat& dst) {\n",
        "    int M = src.rows;\n",
        "    int N = src.cols;\n",
        "    dst.create(M, N, CV_64F);\n",
        "\n",
        "    // Hardcoded cosine values for an 8x8 matrix for IDCT\n",
        "    const double cosTableX[8][8] = {\n",
        "        {1.0, 0.980785, 0.923880, 0.831470, 0.707107, 0.555570, 0.382683, 0.195090},\n",
        "        {1.0, 0.831470, 0.382683, -0.195090, -0.707107, -0.980785, -0.923880, -0.555570},\n",
        "        {1.0, 0.555570, -0.382683, -0.980785, -0.707107, 0.195090, 0.923880, 0.831470},\n",
        "        {1.0, 0.195090, -0.923880, -0.555570, 0.707107, 0.831470, -0.382683, -0.980785},\n",
        "        {1.0, -0.195090, -0.923880, 0.555570, 0.707107, -0.831470, -0.382683, 0.980785},\n",
        "        {1.0, -0.555570, -0.382683, 0.980785, -0.707107, -0.195090, 0.923880, -0.831470},\n",
        "        {1.0, -0.831470, 0.382683, 0.195090, -0.707107, 0.980785, -0.923880, 0.555570},\n",
        "        {1.0, -0.980785, 0.923880, -0.831470, 0.707107, -0.555570, 0.382683, -0.195090}\n",
        "    };\n",
        "\n",
        "    const double cosTableY[8][8] = {\n",
        "        {1.0, 0.980785, 0.923880, 0.831470, 0.707107, 0.555570, 0.382683, 0.195090},\n",
        "        {1.0, 0.831470, 0.382683, -0.195090, -0.707107, -0.980785, -0.923880, -0.555570},\n",
        "        {1.0, 0.555570, -0.382683, -0.980785, -0.707107, 0.195090, 0.923880, 0.831470},\n",
        "        {1.0, 0.195090, -0.923880, -0.555570, 0.707107, 0.831470, -0.382683, -0.980785},\n",
        "        {1.0, -0.195090, -0.923880, 0.555570, 0.707107, -0.831470, -0.382683, 0.980785},\n",
        "        {1.0, -0.555570, -0.382683, 0.980785, -0.707107, -0.195090, 0.923880, -0.831470},\n",
        "        {1.0, -0.831470, 0.382683, 0.195090, -0.707107, 0.980785, -0.923880, 0.555570},\n",
        "        {1.0, -0.980785, 0.923880, -0.831470, 0.707107, -0.555570, 0.382683, -0.195090}\n",
        "    };\n",
        "\n",
        "    for (int x = 0; x < M; ++x) {\n",
        "        for (int y = 0; y < N; ++y) {\n",
        "            double sum = 0.0;\n",
        "            for (int u = 0; u < M; ++u) {\n",
        "                for (int v = 0; v < N; ++v) {\n",
        "                    double C_u = (u == 0) ? sqrt(1.0 / M) : sqrt(2.0 / M);\n",
        "                    double C_v = (v == 0) ? sqrt(1.0 / N) : sqrt(2.0 / N);\n",
        "                    //double cosX = cos(M_PI / M * (x + 0.5) * u);\n",
        "                    //double cosY = cos(M_PI / N * (y + 0.5) * v);\n",
        "                    sum += C_u * C_v * src.at<double>(u, v) * cosTableX[x][u] * cosTableY[y][v];\n",
        "                }\n",
        "            }\n",
        "            dst.at<double>(x, y) = sum;\n",
        "        }\n",
        "    }\n",
        "}\n",
        "\n",
        "\n",
        "\n",
        "\n",
        "// Zig-Zag scan function\n",
        "std::vector<double> zigzagScan(const cv::Mat& block) {\n",
        "    int n = block.rows;\n",
        "    std::vector<double> result;\n",
        "    result.reserve(n * n);\n",
        "    for (int i = 0; i < 2 * n - 1; ++i) {\n",
        "        if (i % 2 == 0) {\n",
        "            for (int j = 0; j <= i; ++j) {\n",
        "                if (j < n && (i - j) < n) {\n",
        "                    result.push_back(block.at<double>(j, i - j));\n",
        "                }\n",
        "            }\n",
        "        } else {\n",
        "            for (int j = 0; j <= i; ++j) {\n",
        "                if (j < n && (i - j) < n) {\n",
        "                    result.push_back(block.at<double>(i - j, j));\n",
        "                }\n",
        "            }\n",
        "        }\n",
        "    }\n",
        "    return result;\n",
        "}\n",
        "\n",
        "// RLE encoding function\n",
        "std::vector<std::pair<double, int>> rleEncode(const std::vector<double>& data) {\n",
        "    std::vector<std::pair<double, int>> encodedData;\n",
        "    int count = 1;\n",
        "    double current = data[0];\n",
        "    for (size_t i = 1; i < data.size(); ++i) {\n",
        "        if (data[i] == current) {\n",
        "            count++;\n",
        "        } else {\n",
        "            encodedData.push_back({current, count});\n",
        "            current = data[i];\n",
        "            count = 1;\n",
        "        }\n",
        "    }\n",
        "    encodedData.push_back({current, count});\n",
        "    return encodedData;\n",
        "}\n",
        "\n",
        "// RLE decoding function\n",
        "std::vector<double> rleDecode(const std::vector<std::pair<double, int>>& encodedData) {\n",
        "    std::vector<double> decodedData;\n",
        "    for (const auto& elem : encodedData) {\n",
        "        decodedData.insert(decodedData.end(), elem.second, elem.first);\n",
        "    }\n",
        "    return decodedData;\n",
        "}\n",
        "\n",
        "\n",
        "\n",
        "void splitImage(const cv::Mat& image, std::vector<cv::Mat>& channels) {\n",
        "    int rows = image.rows;\n",
        "    int cols = image.cols;\n",
        "    int numChannels = image.channels();\n",
        "\n",
        "    // Resize vector to hold all channels\n",
        "    channels.resize(numChannels);\n",
        "\n",
        "    // Initialize each channel as a single-channel matrix with the same dimensions as the input image\n",
        "    for (int ch = 0; ch < numChannels; ++ch) {\n",
        "        channels[ch] = cv::Mat(rows, cols, CV_8UC1);\n",
        "    }\n",
        "\n",
        "    // Iterate over the image and split the channels manually\n",
        "    for (int r = 0; r < rows; ++r) {\n",
        "        for (int c = 0; c < cols; ++c) {\n",
        "            // Get pixel value (multi-channel pixel)\n",
        "            cv::Vec3b pixel = image.at<cv::Vec3b>(r, c);\n",
        "            // Assign each channel its corresponding value\n",
        "            for (int ch = 0; ch < numChannels; ++ch) {\n",
        "                channels[ch].at<uchar>(r, c) = pixel[ch];\n",
        "            }\n",
        "        }\n",
        "    }\n",
        "}\n",
        "\n",
        "// // Function to merge multiple single-channel images into a multi-channel image\n",
        "void mergeImage(const std::vector<cv::Mat>& channels, cv::Mat& mergedImage) {\n",
        "    if (channels.empty() || channels[0].empty()) {\n",
        "        std::cerr << \"Channels are empty or uninitialized\" << std::endl;\n",
        "        return;\n",
        "    }\n",
        "\n",
        "    int numChannels = channels.size();\n",
        "    if (numChannels != 3) {\n",
        "        std::cerr << \"This implementation only supports 3 channels (RGB)\" << std::endl;\n",
        "        return;\n",
        "    }\n",
        "\n",
        "    int rows = channels[0].rows;\n",
        "    int cols = channels[0].cols;\n",
        "\n",
        "    // Initialize the merged image with the same size as the input channels\n",
        "    mergedImage.create(rows, cols, CV_8UC3); // CV_8UC3 for 3-channel image\n",
        "\n",
        "    // Iterate over each pixel and assign values to the merged image\n",
        "    for (int r = 0; r < rows; ++r) {\n",
        "        for (int c = 0; c < cols; ++c) {\n",
        "            cv::Vec<uchar, 3> pixel; // For RGB, use Vec<uchar, 3>\n",
        "            for (int ch = 0; ch < numChannels; ++ch) {\n",
        "                pixel[ch] = channels[ch].at<uchar>(r, c);\n",
        "            }\n",
        "            mergedImage.at<cv::Vec<uchar, 3>>(r, c) = pixel; // Store pixel value in merged image\n",
        "        }\n",
        "    }\n",
        "}\n",
        "\n",
        "\n",
        "\n",
        "\n",
        "\n",
        "int main(int argc, char** argv)\n",
        "{\n",
        "    MPI_Init(&argc, &argv);\n",
        "    int size, rank;\n",
        "    MPI_Comm_rank(MPI_COMM_WORLD, &rank);\n",
        "    MPI_Comm_size(MPI_COMM_WORLD, &size);\n",
        "\n",
        "\n",
        "    MPI_Barrier(MPI_COMM_WORLD);\n",
        "\n",
        "    std::string inputFilename = argv[1];\n",
        "\n",
        "    auto start = std::chrono::high_resolution_clock::now();\n",
        "\n",
        "    cv::Mat image;\n",
        "    size_t imageTotalSize;\n",
        "    size_t imagePartialSize;\n",
        "    int channels;\n",
        "    uchar* partialBuffer;\n",
        "    cv::Mat outImage;\n",
        "    int originalRows, originalCols;\n",
        "\n",
        "\n",
        "\n",
        "    int rowsPerProcess;  // Number of rows per process\n",
        "    int cols;  // Number of columns (constant across all processes)\n",
        "\n",
        "    if (rank == 0)\n",
        "    {\n",
        "        image = cv::imread(inputFilename, cv::IMREAD_COLOR);\n",
        "        if (image.empty())\n",
        "        {\n",
        "            std::cerr << \"Image is empty, terminating!\" << std::endl;\n",
        "            MPI_Abort(MPI_COMM_WORLD, -1);\n",
        "        }\n",
        "\n",
        "        originalRows = image.rows;\n",
        "        originalCols = image.cols;\n",
        "        channels = image.channels();\n",
        "\n",
        "        // Pad image to the nearest multiple of 8\n",
        "        int paddedRows = (originalRows + 7) & ~7;\n",
        "        int paddedCols = (originalCols + 7) & ~7;\n",
        "\n",
        "        // Pad the image if necessary\n",
        "        if (paddedRows != originalRows || paddedCols != originalCols)\n",
        "        {\n",
        "            cv::Mat paddedImage;\n",
        "            cv::copyMakeBorder(image, paddedImage, 0, paddedRows - originalRows, 0, paddedCols - originalCols, cv::BORDER_CONSTANT, cv::Scalar(0, 0, 0));\n",
        "            image = paddedImage;\n",
        "        }\n",
        "\n",
        "        cols = image.cols;\n",
        "\n",
        "        // Calculate the total size of the image (rows * columns * channels)\n",
        "        imageTotalSize = image.step[0] * image.rows;\n",
        "\n",
        "        if (image.total() % size)\n",
        "        {\n",
        "            std::cerr << \"Cannot evenly divide the image between the processes. Choose a different number of processes!\" << std::endl;\n",
        "            MPI_Abort(MPI_COMM_WORLD, -2);\n",
        "        }\n",
        "\n",
        "        rowsPerProcess = image.rows / size;\n",
        "        imagePartialSize = rowsPerProcess * image.step[0]; // rows * cols * channels\n",
        "\n",
        "        std::cout << \"The image will be divided into blocks of \" << imagePartialSize << \" bytes each\" << std::endl;\n",
        "        std::cout << \"Number of rows: \" << image.rows << std::endl;\n",
        "        std::cout << \"Rows per process: \" << rowsPerProcess << std::endl;\n",
        "        std::cout << \"Columns per process: \" << cols << std::endl;\n",
        "    }\n",
        "\n",
        "    MPI_Bcast(&imagePartialSize, 1, MPI_UNSIGNED_LONG_LONG, 0, MPI_COMM_WORLD);\n",
        "    MPI_Bcast(&channels, 1, MPI_INT, 0, MPI_COMM_WORLD);\n",
        "    MPI_Bcast(&rowsPerProcess, 1, MPI_INT, 0, MPI_COMM_WORLD);\n",
        "    MPI_Bcast(&cols, 1, MPI_INT, 0, MPI_COMM_WORLD);\n",
        "\n",
        "\n",
        "    MPI_Barrier(MPI_COMM_WORLD);\n",
        "\n",
        "    partialBuffer = new uchar[imagePartialSize];\n",
        "\n",
        "    MPI_Barrier(MPI_COMM_WORLD);\n",
        "\n",
        "    MPI_Scatter(image.data, imagePartialSize, MPI_UNSIGNED_CHAR, partialBuffer, imagePartialSize, MPI_UNSIGNED_CHAR, 0, MPI_COMM_WORLD);\n",
        "\n",
        "    MPI_Barrier(MPI_COMM_WORLD);\n",
        "\n",
        "    // Convert the partial buffer back to a Mat\n",
        "    cv::Mat partialImage(rowsPerProcess, cols, CV_8UC3, partialBuffer); // Convert uchar array to Mat with 3 channels\n",
        "\n",
        "    // Split the image into 3 channels (B, G, R)\n",
        "    std::vector<cv::Mat> channelsMat(3);\n",
        "    //cv::split(partialImage, channelsMat);  // Split the image into B, G, R channels\n",
        "    splitImage(partialImage, channelsMat);  // Split the image into B, G, R channels\n",
        "\n",
        "    // Perform 8x8 DCT and IDCT on each channel independently\n",
        "    for (int ch = 0; ch < 3; ++ch)\n",
        "    {\n",
        "        //*****************************************Compression Phase*************************************************\n",
        "        std::string filename = \"mpi_channel_\" + std::to_string(ch) + \"_\" + std::to_string(rank) + \".bin\";\n",
        "        // Open the .rle file for the channel\n",
        "        std::ofstream rleFileOut(filename, std::ios::out | std::ios::binary);\n",
        "        if (!rleFileOut.is_open()) {\n",
        "            std::cerr << \"Error opening file for writing: \" << filename << std::endl;\n",
        "            return -1;\n",
        "        }\n",
        "        for (int r = 0; r < channelsMat[ch].rows; r += 8)\n",
        "        {\n",
        "            for (int c = 0; c < channelsMat[ch].cols; c += 8)\n",
        "            {\n",
        "                // Ensure the block is within the image bounds\n",
        "                int blockRows = std::min(8, channelsMat[ch].rows - r);\n",
        "                int blockCols = std::min(8, channelsMat[ch].cols - c);\n",
        "\n",
        "                // Extract the 8x8 block for the current channel\n",
        "                cv::Mat block = channelsMat[ch](cv::Rect(c, r, blockCols, blockRows));\n",
        "\n",
        "                // Convert the block to double (for DCT/IDCT processing)\n",
        "                block.convertTo(block, CV_64F);\n",
        "\n",
        "                // Perform DCT on the block\n",
        "                cv::Mat dctBlock;\n",
        "                //cv::dct(block, dctBlock);\n",
        "                dct2(block, dctBlock);\n",
        "\n",
        "                // Truncate DCT coefficients to 1 decimal place\n",
        "                for (int i = 0; i < dctBlock.rows; ++i)\n",
        "                {\n",
        "                    for (int j = 0; j < dctBlock.cols; ++j)\n",
        "                    {\n",
        "                        dctBlock.at<double>(i, j) = std::round(dctBlock.at<double>(i, j) * 10) / 10;\n",
        "                    }\n",
        "                }\n",
        "\n",
        "                // Zig-Zag scanning and RLE encoding\n",
        "                std::vector<double> zigzagged = zigzagScan(dctBlock);\n",
        "                std::vector<std::pair<double, int>> rleEncoded = rleEncode(zigzagged);\n",
        "\n",
        "                // Write RLE encoded data to the .rle file\n",
        "                for (const auto& pair : rleEncoded) {\n",
        "                    // Use float for value instead of double\n",
        "                    //float value = static_cast<float>(pair.first);\n",
        "                    //uint16_t count = static_cast<uint16_t>(pair.second); // Use uint16_t for count\n",
        "                    // Convert the DCT coefficient to int16_t to save space\n",
        "                    int16_t value = static_cast<int16_t>(round(pair.first));\n",
        "                    // Store the count as uint8_t (assuming counts fit in this range)\n",
        "                    uint8_t count = static_cast<uint8_t>(std::min(pair.second, 255));  // Limit count to 255\n",
        "\n",
        "                    rleFileOut.write(reinterpret_cast<const char*>(&value), sizeof(value));\n",
        "                    rleFileOut.write(reinterpret_cast<const char*>(&count), sizeof(count));\n",
        "                }\n",
        "            }\n",
        "        }\n",
        "        // Close the .bin file after writing\n",
        "        rleFileOut.close();\n",
        "        std::cout << \"Compression complete. Data saved\" << std::endl;\n",
        "        //****************************************************************************************************************\n",
        "\n",
        "        //***********************************************Decompression Phase**********************************************\n",
        "        std::ifstream rleFileIn(filename, std::ios::in | std::ios::binary);\n",
        "        if (!rleFileIn.is_open()) {\n",
        "            std::cerr << \"Error opening file for writing: \" << filename << std::endl;\n",
        "            return -1;\n",
        "        }\n",
        "\n",
        "        for (int r = 0; r < channelsMat[ch].rows; r += 8)\n",
        "        {\n",
        "            for (int c = 0; c < channelsMat[ch].cols; c += 8)\n",
        "            {\n",
        "                // Ensure the block is within the image bounds\n",
        "                int blockRows = std::min(8, channelsMat[ch].rows - r);\n",
        "                int blockCols = std::min(8, channelsMat[ch].cols - c);\n",
        "\n",
        "                // Extract the 8x8 block for the current channel\n",
        "                cv::Mat block = channelsMat[ch](cv::Rect(c, r, blockCols, blockRows));\n",
        "\n",
        "                // Convert the block to double (for DCT/IDCT processing)\n",
        "                block.convertTo(block, CV_64F);\n",
        "\n",
        "                // Read the RLE-encoded data from the .bin file for the current block\n",
        "                std::vector<std::pair<double, int>> rleEncoded;\n",
        "                int totalElements = blockCols * blockRows;  // Total number of elements in the block\n",
        "                int countElements = 0;\n",
        "\n",
        "                while (countElements < totalElements && rleFileIn.good()) {\n",
        "                    //float value;         // Read value as float\n",
        "                    //uint16_t count;     // Read count as uint16_t\n",
        "                    int16_t value;      // Read value as int16_t\n",
        "                    uint8_t count;      // Read count as uint8_t\n",
        "                    rleFileIn.read(reinterpret_cast<char*>(&value), sizeof(value));\n",
        "                    rleFileIn.read(reinterpret_cast<char*>(&count), sizeof(count));\n",
        "\n",
        "                    if (rleFileIn.gcount() == 0) break;  // Break at EOF\n",
        "                    //rleEncoded.push_back({value, count});\n",
        "                    rleEncoded.push_back({static_cast<double>(value), static_cast<int>(count)}); // Cast to double and int\n",
        "                    countElements += count;  // Update the count of elements read\n",
        "                }\n",
        "\n",
        "                // Decode RLE and reverse Zig-Zag for reconstruction\n",
        "                std::vector<double> decodedZigzag = rleDecode(rleEncoded);\n",
        "                cv::Mat reconstructedBlock = cv::Mat::zeros(blockRows, blockCols, CV_64F);\n",
        "                int index = 0;\n",
        "                for (int i = 0; i < 2 * blockCols - 1; ++i) {\n",
        "                    if (i % 2 == 0) {\n",
        "                        for (int j = 0; j <= i; ++j) {\n",
        "                            if (j < blockCols && (i - j) < blockRows) {\n",
        "                                reconstructedBlock.at<double>(j, i - j) = decodedZigzag[index++];\n",
        "                            }\n",
        "                        }\n",
        "                    } else {\n",
        "                        for (int j = 0; j <= i; ++j) {\n",
        "                            if (j < blockCols && (i - j) < blockRows) {\n",
        "                                reconstructedBlock.at<double>(i - j, j) = decodedZigzag[index++];\n",
        "                            }\n",
        "                        }\n",
        "                    }\n",
        "                }\n",
        "                // Perform IDCT to reconstruct the block\n",
        "                cv::Mat idctBlock;\n",
        "                //cv::idct(reconstructedBlock, idctBlock);\n",
        "                idct2(reconstructedBlock, idctBlock);\n",
        "\n",
        "                // Convert the result back to uchar (image type)\n",
        "                idctBlock.convertTo(block, CV_8U);\n",
        "\n",
        "                // Copy the IDCT result back into the channel (this updates the original block)\n",
        "                idctBlock.copyTo(channelsMat[ch](cv::Rect(c, r, blockCols, blockRows)));\n",
        "\n",
        "            }\n",
        "        }\n",
        "        // Close the .bin file after reading\n",
        "        rleFileIn.close();\n",
        "        std::cout << \"Decompression complete. Image reconstructed.\" << std::endl;\n",
        "        //****************************************************************************************************************\n",
        "    }\n",
        "\n",
        "    // Merge the channels back together\n",
        "    mergeImage(channelsMat, partialImage);\n",
        "\n",
        "    MPI_Barrier(MPI_COMM_WORLD);\n",
        "\n",
        "    if (rank == 0)\n",
        "    {\n",
        "        outImage = cv::Mat(image.size(), image.type());\n",
        "    }\n",
        "\n",
        "    MPI_Gather(partialImage.data, imagePartialSize, MPI_UNSIGNED_CHAR, outImage.data, imagePartialSize, MPI_UNSIGNED_CHAR, 0, MPI_COMM_WORLD);\n",
        "\n",
        "    if (rank == 0)\n",
        "    {\n",
        "        // Crop the image to its original dimensions\n",
        "        if (image.rows != originalRows || image.cols != originalCols)\n",
        "        {\n",
        "            outImage = outImage(cv::Rect(0, 0, originalCols, originalRows));\n",
        "        }\n",
        "\n",
        "        cv::imwrite(\"mpi_output.bmp\", outImage);\n",
        "        auto endTime = std::chrono::high_resolution_clock::now();\n",
        "        std::chrono::duration<double, std::milli> duration =  std::chrono::duration_cast< std::chrono::milliseconds>(endTime - start);\n",
        "        std::ifstream file(\"mpi_output.bmp\", std::ifstream::ate | std::ifstream::binary);\n",
        "        double fsize = static_cast<double>(file.tellg()) / 1024;\n",
        "        std::cout << \"Returned image size: \" << fsize << \" KB\" << std::endl;\n",
        "        std::cout << \"Time taken: \" << duration.count() << \" milliseconds\" << std::endl;\n",
        "        // Save time to CSV file\n",
        "        std::ofstream timeFile;\n",
        "        timeFile.open(\"/content/MPIcompression_times.csv\", std::ios::out);\n",
        "        if (timeFile.is_open()) {\n",
        "            timeFile << \"MPI,\" << duration.count() << \",\" << fsize << \" KB\\n\";  // Save time and size in CSV format\n",
        "            timeFile.close();\n",
        "            std::cout << \"Saved to /content/MPIcompression_times.csv\" << std::endl;\n",
        "        } else {\n",
        "            std::cerr << \"Unable to open /content/MPIcompression_times.csv for writing!\" << std::endl;\n",
        "        }\n",
        "\n",
        "\n",
        "        for (int i = 0; i < size; i++) {\n",
        "            for (int ch = 0; ch < 3; ++ch) {\n",
        "              std::string filename = \"mpi_channel_\" + std::to_string(ch) + \"_\" + std::to_string(i) + \".bin\";\n",
        "              std::string xzFilename = filename + \".xz\";\n",
        "\n",
        "              if (std::filesystem::exists(xzFilename)) {\n",
        "                std::string removeCommand = \"rm \" + xzFilename;\n",
        "                system(removeCommand.c_str());\n",
        "              }\n",
        "              std::string compressCommand = \"xz \" + filename;\n",
        "              system(compressCommand.c_str());\n",
        "              remove(filename.c_str());\n",
        "          }\n",
        "        }\n",
        "    }\n",
        "\n",
        "    delete[] partialBuffer;\n",
        "\n",
        "    MPI_Finalize();\n",
        "}\n",
        "\n"
      ]
    },
    {
      "cell_type": "code",
      "execution_count": 32,
      "metadata": {
        "id": "6TnltpGapGht"
      },
      "outputs": [],
      "source": [
        "!mpic++ compress_image.cpp -o compress_image `pkg-config --cflags --libs opencv4`"
      ]
    },
    {
      "cell_type": "code",
      "execution_count": 33,
      "metadata": {
        "id": "oDyG7YnrpOji",
        "colab": {
          "base_uri": "https://localhost:8080/"
        },
        "outputId": "42cb2531-674b-464b-9a80-491240899f22"
      },
      "outputs": [
        {
          "output_type": "stream",
          "name": "stdout",
          "text": [
            "Image loaded: 6750x3375, 3 original channels.\n",
            "Image is now converted to 3 channels (RGB).\n",
            "Successfully saved BMP as testimg.bmp\n"
          ]
        }
      ],
      "source": [
        "# For converting input image to bmp\n",
        "# Run the compiled program\n",
        "!./png_to_bmp testimg.png\n",
        "#!./png_to_bmp dark.png"
      ]
    },
    {
      "cell_type": "markdown",
      "metadata": {
        "id": "hMXPv-25gS1U"
      },
      "source": [
        "###**e) Time taken to encode and decode**"
      ]
    },
    {
      "cell_type": "code",
      "execution_count": 34,
      "metadata": {
        "colab": {
          "base_uri": "https://localhost:8080/"
        },
        "id": "sQJV0QvEpGua",
        "outputId": "c0d4c37b-dfb8-405b-af75-21bf358e408c"
      },
      "outputs": [
        {
          "output_type": "stream",
          "name": "stdout",
          "text": [
            "The image will be divided into blocks of 34192128 bytes each\n",
            "Number of rows: 3376\n",
            "Rows per process: 1688\n",
            "Columns per process: 6752\n",
            "Compression complete. Data saved\n",
            "Compression complete. Data saved\n",
            "Decompression complete. Image reconstructed.\n",
            "Decompression complete. Image reconstructed.\n",
            "Compression complete. Data saved\n",
            "Compression complete. Data saved\n",
            "Decompression complete. Image reconstructed.\n",
            "Decompression complete. Image reconstructed.\n",
            "Compression complete. Data saved\n",
            "Compression complete. Data saved\n",
            "Decompression complete. Image reconstructed.\n",
            "Decompression complete. Image reconstructed.\n",
            "Returned image size: 66748.6 KB\n",
            "Time taken: 100690 milliseconds\n",
            "Saved to /content/MPIcompression_times.csv\n"
          ]
        }
      ],
      "source": [
        "#!mpirun --allow-run-as-root --oversubscribe -np 2 ./compress_image\n",
        "#!mpirun --allow-run-as-root --oversubscribe -np 3 ./compress_image\n",
        "#!mpirun --allow-run-as-root --oversubscribe -np 5 ./compress_image\n",
        "!mpirun --allow-run-as-root --oversubscribe -np 2 ./compress_image testimg.bmp\n",
        "#!mpirun --allow-run-as-root --oversubscribe -np 3 ./compress_image testimage.png"
      ]
    },
    {
      "cell_type": "markdown",
      "metadata": {
        "id": "ASCAxyMXgZY5"
      },
      "source": [
        "###**f) Appearance of Images**"
      ]
    },
    {
      "cell_type": "code",
      "execution_count": 35,
      "metadata": {
        "colab": {
          "base_uri": "https://localhost:8080/",
          "height": 322
        },
        "id": "qn7iDvG6pG6S",
        "outputId": "6750a4b8-7610-4fe1-fdec-9702918e86a9"
      },
      "outputs": [
        {
          "name": "stdout",
          "output_type": "stream",
          "text": [
            "Please enter the original image filename: testimg.bmp\n"
          ]
        },
        {
          "output_type": "display_data",
          "data": {
            "text/plain": [
              "<Figure size 1200x600 with 2 Axes>"
            ],
            "image/png": "[encoded data removed]"
          },
          "metadata": {}
        },
        {
          "output_type": "stream",
          "name": "stdout",
          "text": [
            "Original image size: 68350554 bytes\n",
            "Returned image size: 68350554 bytes\n"
          ]
        }
      ],
      "source": [
        "from PIL import Image\n",
        "import matplotlib.pyplot as plt\n",
        "import os\n",
        "\n",
        "# Display the original image\n",
        "original_image = input(\"Please enter the original image filename: \")\n",
        "original_img = Image.open(original_image)\n",
        "plt.figure(figsize=(12, 6))\n",
        "\n",
        "plt.subplot(1, 2, 1)\n",
        "plt.imshow(original_img)\n",
        "plt.title('Original Image')\n",
        "plt.axis('off')\n",
        "\n",
        "# Display the decompressed image\n",
        "decompressed_img = Image.open('mpi_output.bmp')\n",
        "plt.subplot(1, 2, 2)\n",
        "plt.imshow(decompressed_img)\n",
        "plt.title('Returned Image')\n",
        "plt.axis('off')\n",
        "\n",
        "plt.show()\n",
        "\n",
        "# Print the size of the original and compressed images\n",
        "original_file_size = os.path.getsize(original_image)\n",
        "decompressed_file_size = os.path.getsize('mpi_output.bmp')\n",
        "print(f\"Original image size: {original_file_size} bytes\")\n",
        "print(f\"Returned image size: {decompressed_file_size} bytes\")"
      ]
    },
    {
      "cell_type": "code",
      "execution_count": 36,
      "metadata": {
        "id": "R1HWCwoipic4"
      },
      "outputs": [],
      "source": [
        "!g++ compare_images.cpp -o compare_images `pkg-config --cflags --libs opencv4`"
      ]
    },
    {
      "cell_type": "markdown",
      "metadata": {
        "id": "cqIwlj5Zggqa"
      },
      "source": [
        "###**g) Comparing Similarity of Images**"
      ]
    },
    {
      "cell_type": "code",
      "execution_count": 37,
      "metadata": {
        "colab": {
          "base_uri": "https://localhost:8080/"
        },
        "id": "va45uKs3pq6s",
        "outputId": "b3e930df-402a-4e9d-f714-ed39e25ab859"
      },
      "outputs": [
        {
          "output_type": "stream",
          "name": "stdout",
          "text": [
            "MSE: 0.0155246\n",
            "[ WARN:0] global ./modules/core/src/matrix_expressions.cpp (1333) assign OpenCV/MatExpr: processing of multi-channel arrays might be changed in the future: https://github.com/opencv/opencv/issues/16739\n",
            "[ WARN:0] global ./modules/core/src/matrix_expressions.cpp (1325) assign OpenCV/MatExpr: processing of multi-channel arrays might be changed in the future: https://github.com/opencv/opencv/issues/16739\n",
            "SSIM: 0.999729\n"
          ]
        }
      ],
      "source": [
        "!./compare_images testimg.bmp mpi_output.bmp"
      ]
    },
    {
      "cell_type": "code",
      "source": [
        "%%writefile compare_file_sizes.cpp\n",
        "#include <iostream>\n",
        "#include <filesystem>\n",
        "#include <vector>\n",
        "\n",
        "int main() {\n",
        "    std::string directory = \".\";\n",
        "    std::vector<std::string> filenames;\n",
        "    long totalCompressedSize = 0;\n",
        "\n",
        "    // Iterate through the files in the directory\n",
        "    for (const auto& entry : std::filesystem::directory_iterator(directory)) {\n",
        "        if (entry.is_regular_file()) {\n",
        "            std::string filename = entry.path().filename().string();\n",
        "            // Check if the filename starts with \"mpi_channel_\"\n",
        "            if (filename.rfind(\"mpi_channel_\", 0) == 0) {  // Check if the prefix matches\n",
        "                filenames.push_back(entry.path().string());\n",
        "                totalCompressedSize += std::filesystem::file_size(entry.path());  // Get file size directly\n",
        "            }\n",
        "        }\n",
        "    }\n",
        "\n",
        "    // Get the size of the decompressed output file\n",
        "    std::string originalFile = \"testimg.bmp\";\n",
        "    long originalSize = std::filesystem::file_size(originalFile);  // Get file size directly\n",
        "\n",
        "    // Check for errors\n",
        "    if (totalCompressedSize == 0 || originalSize == 0) {\n",
        "        std::cerr << \"Error: Unable to determine file sizes.\\n\";\n",
        "        return -1;\n",
        "    }\n",
        "\n",
        "    // Output the sizes\n",
        "    std::cout << \"Size of compressed: \" << totalCompressedSize << \" bytes\\n\";\n",
        "    std::cout << \"Size of original: \" << originalSize << \" bytes\\n\";\n",
        "\n",
        "    // Calculate the compression ratio\n",
        "    double compressionRatio = static_cast<double>(originalSize) / totalCompressedSize;\n",
        "    std::cout << \"Compression Ratio: \" << compressionRatio << \":1\\n\";\n",
        "\n",
        "    return 0;\n",
        "}\n"
      ],
      "metadata": {
        "colab": {
          "base_uri": "https://localhost:8080/"
        },
        "id": "4LrCaB8bs6WD",
        "outputId": "788e9e38-256d-4050-9ea8-d76e85da7c8f"
      },
      "execution_count": 38,
      "outputs": [
        {
          "output_type": "stream",
          "name": "stdout",
          "text": [
            "Overwriting compare_file_sizes.cpp\n"
          ]
        }
      ]
    },
    {
      "cell_type": "code",
      "source": [
        "!g++ compare_file_sizes.cpp -o compare_file_sizes\n",
        "!./compare_file_sizes"
      ],
      "metadata": {
        "colab": {
          "base_uri": "https://localhost:8080/"
        },
        "id": "HAbQ-PvTth7T",
        "outputId": "a69776d8-44fb-4331-9c7e-6235eb73f3db"
      },
      "execution_count": 39,
      "outputs": [
        {
          "output_type": "stream",
          "name": "stdout",
          "text": [
            "Size of compressed: 5624856 bytes\n",
            "Size of original: 68350554 bytes\n",
            "Compression Ratio: 12.1515:1\n"
          ]
        }
      ]
    },
    {
      "cell_type": "markdown",
      "metadata": {
        "id": "OXnTivvJjLKU"
      },
      "source": [
        "<hr/>"
      ]
    },
    {
      "cell_type": "markdown",
      "metadata": {
        "id": "cHhfia2vjNxl"
      },
      "source": [
        "##**5. Comparing all 4 Images Produced**"
      ]
    },
    {
      "cell_type": "markdown",
      "metadata": {
        "id": "NmNjXDZQ0Lll"
      },
      "source": [
        "**This compares the output images of each of the 4 implementations above to determine their similarities in terms of MSE and SSIM (verification code)**"
      ]
    },
    {
      "cell_type": "code",
      "execution_count": 40,
      "metadata": {
        "colab": {
          "base_uri": "https://localhost:8080/"
        },
        "id": "0nq99mROqWPt",
        "outputId": "ed7f7957-5222-4dcc-8b70-d1fb6276ba03"
      },
      "outputs": [
        {
          "output_type": "stream",
          "name": "stdout",
          "text": [
            "Writing compare4.cpp\n"
          ]
        }
      ],
      "source": [
        "%%writefile compare4.cpp\n",
        "#include <opencv2/opencv.hpp>\n",
        "#include <opencv2/imgproc/imgproc.hpp>\n",
        "#include <opencv2/highgui/highgui.hpp>\n",
        "#include <opencv2/core/core.hpp>\n",
        "#include <iostream>\n",
        "#include <string>\n",
        "\n",
        "// Function to compute Mean Squared Error (MSE) between two images\n",
        "double computeMSE(const cv::Mat& imageA, const cv::Mat& imageB) {\n",
        "    cv::Mat s1;\n",
        "    cv::absdiff(imageA, imageB, s1);  // |imageA - imageB|\n",
        "    s1.convertTo(s1, CV_32F);         // convert to float type\n",
        "    s1 = s1.mul(s1);                  // square each element\n",
        "\n",
        "    cv::Scalar s = cv::sum(s1);       // sum all elements\n",
        "    double mse = s.val[0] / (double)(imageA.total());\n",
        "\n",
        "    return mse;\n",
        "}\n",
        "\n",
        "// Function to compute Structural Similarity Index (SSIM)\n",
        "double computeSSIM(const cv::Mat& imageA, const cv::Mat& imageB) {\n",
        "    cv::Mat img1, img2;\n",
        "    imageA.convertTo(img1, CV_32F);\n",
        "    imageB.convertTo(img2, CV_32F);\n",
        "\n",
        "    cv::Mat img1_sq = img1.mul(img1);\n",
        "    cv::Mat img2_sq = img2.mul(img2);\n",
        "    cv::Mat img1_img2 = img1.mul(img2);\n",
        "\n",
        "    cv::Mat mu1, mu2;\n",
        "    cv::GaussianBlur(img1, mu1, cv::Size(11, 11), 1.5);\n",
        "    cv::GaussianBlur(img2, mu2, cv::Size(11, 11), 1.5);\n",
        "\n",
        "    cv::Mat mu1_sq = mu1.mul(mu1);\n",
        "    cv::Mat mu2_sq = mu2.mul(mu2);\n",
        "    cv::Mat mu1_mu2 = mu1.mul(mu2);\n",
        "\n",
        "    cv::Mat sigma1_sq, sigma2_sq, sigma12;\n",
        "    cv::GaussianBlur(img1_sq, sigma1_sq, cv::Size(11, 11), 1.5);\n",
        "    cv::GaussianBlur(img2_sq, sigma2_sq, cv::Size(11, 11), 1.5);\n",
        "    cv::GaussianBlur(img1_img2, sigma12, cv::Size(11, 11), 1.5);\n",
        "\n",
        "    sigma1_sq -= mu1_sq;\n",
        "    sigma2_sq -= mu2_sq;\n",
        "    sigma12 -= mu1_mu2;\n",
        "\n",
        "    const double C1 = 6.5025, C2 = 58.5225;\n",
        "    cv::Mat t1, t2, t3;\n",
        "    t1 = 2 * mu1_mu2 + C1;\n",
        "    t2 = 2 * sigma12 + C2;\n",
        "    t3 = t1.mul(t2);\n",
        "\n",
        "    t1 = mu1_sq + mu2_sq + C1;\n",
        "    t2 = sigma1_sq + sigma2_sq + C2;\n",
        "    t1 = t1.mul(t2);\n",
        "\n",
        "    cv::Mat ssim_map;\n",
        "    cv::divide(t3, t1, ssim_map);\n",
        "    cv::Scalar ssim = cv::mean(ssim_map);\n",
        "    return ssim.val[0];\n",
        "}\n",
        "\n",
        "// Function to compare two images using both MSE and SSIM\n",
        "void compareImages(const cv::Mat& imageA, const cv::Mat& imageB) {\n",
        "    double mseValue = computeMSE(imageA, imageB);\n",
        "    double ssimValue = computeSSIM(imageA, imageB);\n",
        "\n",
        "    std::cout << \"MSE: \" << mseValue << \", SSIM: \" << ssimValue << std::endl;\n",
        "}\n",
        "\n",
        "int main() {\n",
        "    // Paths to your images\n",
        "    std::string imagePaths[] = { \"serial_output.bmp\", \"openmp_output.bmp\", \"cuda_output.bmp\", \"mpi_output.bmp\" };\n",
        "\n",
        "    cv::Mat images[4];\n",
        "\n",
        "    // Load the images\n",
        "    for (int i = 0; i < 4; i++) {\n",
        "        images[i] = cv::imread(imagePaths[i]);\n",
        "        if (images[i].empty()) {\n",
        "            std::cerr << \"Error: Could not load image \" << imagePaths[i] << std::endl;\n",
        "            return -1;\n",
        "        }\n",
        "    }\n",
        "\n",
        "    // Convert all images to grayscale\n",
        "    cv::Mat grayImages[4];\n",
        "    for (int i = 0; i < 4; i++) {\n",
        "        cv::cvtColor(images[i], grayImages[i], cv::COLOR_BGR2GRAY);\n",
        "    }\n",
        "\n",
        "    // // Compare all pairs of images\n",
        "    // for (int i = 0; i < 4; i++) {\n",
        "    //     for (int j = i + 1; j < 4; j++) {\n",
        "    //         std::cout << \"Comparing Image \" << i + 1 << \" and Image \" << j + 1 << \":\" << std::endl;\n",
        "    //         compareImages(grayImages[i], grayImages[j]);\n",
        "    //         std::cout << std::endl;\n",
        "    //     }\n",
        "    // }\n",
        "    // Compare all pairs of images without converting to grayscale\n",
        "    for (int i = 0; i < 4; i++) {\n",
        "        for (int j = i + 1; j < 4; j++) {\n",
        "            std::cout << \"Comparing Image \" << i + 1 << \" and Image \" << j + 1 << \":\" << std::endl;\n",
        "            compareImages(images[i], images[j]);\n",
        "            std::cout << std::endl;\n",
        "        }\n",
        "    }\n",
        "\n",
        "    return 0;\n",
        "}\n"
      ]
    },
    {
      "cell_type": "code",
      "execution_count": 41,
      "metadata": {
        "id": "uzA2EV1qkaB4"
      },
      "outputs": [],
      "source": [
        "!g++ -o compare4 compare4.cpp `pkg-config --cflags --libs opencv4`"
      ]
    },
    {
      "cell_type": "code",
      "execution_count": 42,
      "metadata": {
        "colab": {
          "base_uri": "https://localhost:8080/"
        },
        "id": "LJVyAw3ZkmXv",
        "outputId": "3505bbd7-0300-4927-e5c8-1c9eab0fdcfa"
      },
      "outputs": [
        {
          "output_type": "stream",
          "name": "stdout",
          "text": [
            "Comparing Image 1 and Image 2:\n",
            "[ WARN:0] global ./modules/core/src/matrix_expressions.cpp (1333) assign OpenCV/MatExpr: processing of multi-channel arrays might be changed in the future: https://github.com/opencv/opencv/issues/16739\n",
            "[ WARN:0] global ./modules/core/src/matrix_expressions.cpp (1325) assign OpenCV/MatExpr: processing of multi-channel arrays might be changed in the future: https://github.com/opencv/opencv/issues/16739\n",
            "MSE: 6.58436e-07, SSIM: 1\n",
            "\n",
            "Comparing Image 1 and Image 3:\n",
            "MSE: 0.00263778, SSIM: 0.999966\n",
            "\n",
            "Comparing Image 1 and Image 4:\n",
            "MSE: 6.58436e-07, SSIM: 1\n",
            "\n",
            "Comparing Image 2 and Image 3:\n",
            "MSE: 0.002638, SSIM: 0.999966\n",
            "\n",
            "Comparing Image 2 and Image 4:\n",
            "MSE: 0, SSIM: 1\n",
            "\n",
            "Comparing Image 3 and Image 4:\n",
            "MSE: 0.002638, SSIM: 0.999966\n",
            "\n"
          ]
        }
      ],
      "source": [
        "!./compare4"
      ]
    },
    {
      "cell_type": "markdown",
      "metadata": {
        "id": "8TZxYCl50crV"
      },
      "source": [
        "**This compares the time taken by each of the 4 implementations. This allows the visualization of the time differences.**"
      ]
    },
    {
      "cell_type": "code",
      "execution_count": 43,
      "metadata": {
        "colab": {
          "base_uri": "https://localhost:8080/",
          "height": 564
        },
        "id": "W9YkOq0RmCrD",
        "outputId": "6e04f093-37ac-4ef0-ae54-ab6b47797c7a"
      },
      "outputs": [
        {
          "output_type": "display_data",
          "data": {
            "text/plain": [
              "<Figure size 1000x600 with 1 Axes>"
            ],
            "image/png": "[encoded data removed]"
          },
          "metadata": {}
        }
      ],
      "source": [
        "import pandas as pd\n",
        "import matplotlib.pyplot as plt\n",
        "\n",
        "# Step 1: Load the CSV files into pandas DataFrames\n",
        "df_serial = pd.read_csv('/content/compression_times.csv', header=None, names=['Method', 'Time'])\n",
        "df_openmp = pd.read_csv('/content/OpenMPcompression_times.csv', header=None, names=['Method', 'Time'])\n",
        "df_mpi = pd.read_csv('/content/MPIcompression_times.csv', header=None, names=['Method', 'Time', 'Size'])  # Load MPI with an extra column\n",
        "df_cuda = pd.read_csv('/content/CUDAcompression_times.csv', header=None, names=['Method', 'GPUTime', 'Time'])\n",
        "\n",
        "# Step 2: Convert 'Time' column to numeric for serial, openmp and cuda\n",
        "df_serial['Time'] = pd.to_numeric(df_serial['Time'], errors='coerce')\n",
        "df_openmp['Time'] = pd.to_numeric(df_openmp['Time'], errors='coerce')\n",
        "df_cuda['Time'] = pd.to_numeric(df_cuda['Time'], errors='coerce')\n",
        "\n",
        "# Step 3: Extract the time from the MPI 'Time' column (handle the extra column)\n",
        "df_mpi['Time'] = pd.to_numeric(df_mpi['Time'], errors='coerce')  # Convert the Time column to numeric\n",
        "\n",
        "# Step 4: Convert milliseconds to seconds (if needed)\n",
        "df_serial['Time'] = df_serial['Time'] / 1000\n",
        "df_openmp['Time'] = df_openmp['Time'] / 1000\n",
        "df_mpi['Time'] = df_mpi['Time'] / 1000\n",
        "df_cuda['Time'] = df_cuda['Time'] / 1000\n",
        "\n",
        "# Step 5: Combine the DataFrames into one DataFrame\n",
        "#df_combined = pd.concat([df_serial[['Method', 'Time']], df_openmp[['Method', 'Time']], df_mpi[['Method', 'Time']]], ignore_index=True)\n",
        "df_combined = pd.concat([df_serial[['Method', 'Time']], df_openmp[['Method', 'Time']], df_mpi[['Method', 'Time']], df_cuda[['Method', 'Time']]], ignore_index=True)\n",
        "\n",
        "# Ensure that the 'Method' column contains only strings\n",
        "df_combined['Method'] = df_combined['Method'].astype(str)\n",
        "\n",
        "# Step 6: Create a bar graph for the combined data\n",
        "plt.figure(figsize=(10,6))\n",
        "plt.bar(df_combined['Method'], df_combined['Time'], color='skyblue')\n",
        "\n",
        "# Step 7: Add labels and title\n",
        "plt.xlabel('Implementation')\n",
        "plt.ylabel('Time (seconds)')\n",
        "plt.title('Comparison of Implementations by Time Taken')\n",
        "\n",
        "# Step 8: Display the graph\n",
        "plt.show()\n"
      ]
    },
    {
      "cell_type": "markdown",
      "metadata": {
        "id": "z21Z0LiB0sDq"
      },
      "source": [
        "**This section computes the speedup provided by each of the 3 implementations and provides the visualization.**"
      ]
    },
    {
      "cell_type": "code",
      "execution_count": 44,
      "metadata": {
        "colab": {
          "base_uri": "https://localhost:8080/",
          "height": 472
        },
        "id": "nz9LRRs0nW6Y",
        "outputId": "a4c82185-d02c-4d5c-cf02-4587cf56d7df"
      },
      "outputs": [
        {
          "output_type": "display_data",
          "data": {
            "text/plain": [
              "<Figure size 640x480 with 1 Axes>"
            ],
            "image/png": "[encoded data removed]"
          },
          "metadata": {}
        }
      ],
      "source": [
        "import pandas as pd\n",
        "import matplotlib.pyplot as plt\n",
        "\n",
        "# Load CSV files\n",
        "df_serial = pd.read_csv('/content/compression_times.csv', header=None, names=['Method', 'Time'])\n",
        "df_openmp = pd.read_csv('/content/OpenMPcompression_times.csv', header=None, names=['Method', 'Time'])\n",
        "df_mpi = pd.read_csv('/content/MPIcompression_times.csv', header=None, names=['Method', 'Time', 'Size'])\n",
        "df_cuda = pd.read_csv('/content/CUDAcompression_times.csv', header=None, names=['Method', 'GPUTime', 'Time'])\n",
        "\n",
        "# Read the first time value from each dataframe\n",
        "time_serial = df_serial['Time'].iloc[0]\n",
        "time_openmp = df_openmp['Time'].iloc[0]\n",
        "time_mpi = df_mpi['Time'].iloc[0]\n",
        "time_cuda = df_cuda['Time'].iloc[0]\n",
        "\n",
        "# Calculate speedup by dividing serial time by each method's time\n",
        "speedup_openmp = time_serial / time_openmp\n",
        "speedup_mpi = time_serial / time_mpi\n",
        "speedup_cuda = time_serial / time_cuda\n",
        "\n",
        "# Create a dictionary for plotting\n",
        "speedup_data = {\n",
        "    'OpenMP': speedup_openmp,\n",
        "    'MPI': speedup_mpi,\n",
        "    'CUDA': speedup_cuda\n",
        "}\n",
        "\n",
        "# Plot the results\n",
        "methods = list(speedup_data.keys())\n",
        "speedups = list(speedup_data.values())\n",
        "\n",
        "fig, ax = plt.subplots()\n",
        "bars = ax.bar(methods, speedups, color=['blue', 'green', 'orange'])\n",
        "ax.set_xlabel('Parallel Methods')\n",
        "ax.set_ylabel('Speedup (Serial Time / Parallel Time)')\n",
        "ax.set_title('Speedup of Parallel Methods')\n",
        "\n",
        "# Add speedup values on the bars\n",
        "for bar in bars:\n",
        "    height = bar.get_height()\n",
        "    ax.annotate(f'{height:.2f}',  # Format the speedup value\n",
        "                xy=(bar.get_x() + bar.get_width() / 2, height),  # Position of the text\n",
        "                xytext=(0, 3),  # Offset text slightly above the bar\n",
        "                textcoords=\"offset points\",\n",
        "                ha='center', va='bottom')\n",
        "\n",
        "plt.show()\n"
      ]
    },
    {
      "cell_type": "code",
      "execution_count": 45,
      "metadata": {
        "id": "4CYk0LDuLsxE",
        "colab": {
          "base_uri": "https://localhost:8080/"
        },
        "outputId": "e02bab6b-104f-443b-fa0d-38a4eb55e00f"
      },
      "outputs": [
        {
          "output_type": "stream",
          "name": "stdout",
          "text": [
            "total 359888\n",
            "-rw-r--r-- 1 root root  2291812 Oct  2 16:32 channel_0.bin.xz\n",
            "-rw-r--r-- 1 root root  1876056 Oct  2 16:34 channel_1.bin.xz\n",
            "-rw-r--r-- 1 root root  1423644 Oct  2 16:37 channel_2.bin.xz\n",
            "-rwxr-xr-x 1 root root    35072 Oct  2 16:51 \u001b[0m\u001b[01;32mcompare4\u001b[0m*\n",
            "-rw-r--r-- 1 root root     3532 Oct  2 16:51 compare4.cpp\n",
            "-rwxr-xr-x 1 root root    54528 Oct  2 16:51 \u001b[01;32mcompare_file_sizes\u001b[0m*\n",
            "-rw-r--r-- 1 root root     1521 Oct  2 16:51 compare_file_sizes.cpp\n",
            "-rwxr-xr-x 1 root root    34760 Oct  2 16:51 \u001b[01;32mcompare_images\u001b[0m*\n",
            "-rw-r--r-- 1 root root     2477 Oct  2 16:31 compare_images.cpp\n",
            "-rwxr-xr-x 1 root root   218720 Oct  2 16:47 \u001b[01;32mcompress_image\u001b[0m*\n",
            "-rw-r--r-- 1 root root    21222 Oct  2 16:47 compress_image.cpp\n",
            "-rw-r--r-- 1 root root       14 Oct  2 16:38 compression_times.csv\n",
            "-rw-r--r-- 1 root root  2341916 Oct  2 16:44 cuda_channel_0.bin.xz\n",
            "-rw-r--r-- 1 root root  1904748 Oct  2 16:44 cuda_channel_1.bin.xz\n",
            "-rw-r--r-- 1 root root  1433476 Oct  2 16:44 cuda_channel_2.bin.xz\n",
            "-rw-r--r-- 1 root root       19 Oct  2 16:44 CUDAcompression_times.csv\n",
            "-rw-r--r-- 1 root root 68350554 Oct  2 16:44 cuda_output.bmp\n",
            "-rwxr-xr-x 1 root root   137920 Oct  2 16:44 \u001b[01;32mdct_idct_zigzagrle\u001b[0m*\n",
            "-rw-r--r-- 1 root root    15972 Oct  2 16:44 dct_idct_zigzagrle.cu\n",
            "-rw-r--r-- 1 root root    75040 Oct  2 16:47 mpi_channel_0_0.bin.xz\n",
            "-rw-r--r-- 1 root root  2229668 Oct  2 16:47 mpi_channel_0_1.bin.xz\n",
            "-rw-r--r-- 1 root root    59652 Oct  2 16:48 mpi_channel_1_0.bin.xz\n",
            "-rw-r--r-- 1 root root  1828248 Oct  2 16:48 mpi_channel_1_1.bin.xz\n",
            "-rw-r--r-- 1 root root    49212 Oct  2 16:48 mpi_channel_2_0.bin.xz\n",
            "-rw-r--r-- 1 root root  1383036 Oct  2 16:49 mpi_channel_2_1.bin.xz\n",
            "-rw-r--r-- 1 root root       22 Oct  2 16:49 MPIcompression_times.csv\n",
            "-rw-r--r-- 1 root root 68350554 Oct  2 16:49 mpi_output.bmp\n",
            "-rw-r--r-- 1 root root  2291196 Oct  2 16:40 op_channel_0.bin.xz\n",
            "-rw-r--r-- 1 root root  1875788 Oct  2 16:40 op_channel_1.bin.xz\n",
            "-rw-r--r-- 1 root root  1423216 Oct  2 16:41 op_channel_2.bin.xz\n",
            "-rw-r--r-- 1 root root       14 Oct  2 16:42 OpenMPcompression_times.csv\n",
            "-rw-r--r-- 1 root root 68350554 Oct  2 16:42 openmp_output.bmp\n",
            "-rwxr-xr-x 1 root root   195496 Oct  2 16:31 \u001b[01;32mpng_to_bmp\u001b[0m*\n",
            "-rw-r--r-- 1 root root     1156 Oct  2 16:30 png_to_bmp.cpp\n",
            "drwxr-xr-x 1 root root     4096 Sep 30 13:24 \u001b[01;34msample_data\u001b[0m/\n",
            "-rw-r--r-- 1 root root 68350554 Oct  2 16:38 serial_output.bmp\n",
            "-rw-r--r-- 1 root root   283010 Oct  2 16:30 stb_image.h\n",
            "-rw-r--r-- 1 root root    71221 Oct  2 16:30 stb_image_write.h\n",
            "-rw-r--r-- 1 root root 68350554 Oct  2 16:47 testimg.bmp\n",
            "-rw-r--r-- 1 root root  3098913 Oct  2 16:31 testimg.png\n"
          ]
        }
      ],
      "source": [
        "ls -l"
      ]
    },
    {
      "cell_type": "code",
      "source": [],
      "metadata": {
        "id": "VwlFtkqwJzzi"
      },
      "execution_count": null,
      "outputs": []
    }
  ],
  "metadata": {
    "colab": {
      "provenance": [],
      "toc_visible": true,
      "gpuType": "T4"
    },
    "kernelspec": {
      "display_name": "Python 3",
      "name": "python3"
    },
    "language_info": {
      "name": "python"
    },
    "accelerator": "GPU"
  },
  "nbformat": 4,
  "nbformat_minor": 0
}